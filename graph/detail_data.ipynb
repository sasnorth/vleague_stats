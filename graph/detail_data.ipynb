{
 "cells": [
  {
   "cell_type": "code",
   "execution_count": 1,
   "id": "9cd818e3-ae41-46a1-85fc-7ce02963a00f",
   "metadata": {},
   "outputs": [],
   "source": [
    "import time\n",
    "import os\n",
    "import re\n",
    "import datetime\n",
    "import glob\n",
    "\n",
    "import numpy as np\n",
    "import pandas as pd\n",
    "import seaborn as sns\n",
    "import matplotlib.pyplot as plt\n",
    "import japanize_matplotlib\n",
    "\n",
    "import plotly.express as px\n",
    "import plotly.graph_objects as go\n",
    "\n",
    "# from sklearn.model_selection import train_test_split\n",
    "# from sklearn.linear_model import LogisticRegression\n",
    "# from sklearn.metrics import accuracy_score\n",
    "\n",
    "# ディビジョンを日本語に\n",
    "def div_ja(division):\n",
    "    sex = '男子' if division[-1]=='m' else '女子'\n",
    "    return 'V{0}{1}'.format(division[1], sex)"
   ]
  },
  {
   "cell_type": "code",
   "execution_count": 2,
   "id": "27ac2c6b-21d7-417a-924f-88660ca290bd",
   "metadata": {},
   "outputs": [],
   "source": [
    "def stats_calc(df):\n",
    "    df['Set'] = df['Win_Set'] + df['Lose_Set']\n",
    "    df['ASucc%'] = ((df['AP'] / df['AA']) * 100).round(1)\n",
    "    df['AEff%'] = (((df['AP']-df['AE']) /\n",
    "                     df['AA']) * 100).round(1)\n",
    "    df['BASucc%'] = ((df['BAP'] / df['BAA']) * 100).round(1)\n",
    "    df['AP/S'] = (df['AP'] / df['Set']).round(2)\n",
    "    df['BP/S'] = (df['BP'] / df['Set']).round(2)\n",
    "    df['SVEff%'] = ((df['SVP'] * 100 + df['SVx'] * 25 -\n",
    "                    df['SVE'] * 25) / df['SVA']).round(1)\n",
    "    df['RSucc%'] = (\n",
    "        (df['Rx'] * 100 + df['Rg'] * 50) / df['RA']).round(1)\n",
    "    return df\n",
    "\n",
    "dict_att_color = {\n",
    "    'v1_m':{\n",
    "        'ジェイテクトSTINGS': '#b2b2b2',\n",
    "        'JTサンダーズ広島': '#00cb65',\n",
    "        'VC長野トライデンツ': '#980000',\n",
    "        '東レアローズ': '#0000ff',\n",
    "        '堺ブレイザーズ': '#ffff00',\n",
    "        '大分三好ヴァイセアドラー': '#3232ff',\n",
    "        'サントリーサンバーズ': '#ff003f',\n",
    "        'FC東京': '#0032cb',\n",
    "        'パナソニックパンサーズ': '#000065',\n",
    "        'ウルフドッグス名古屋': '#000000'\n",
    "    },\n",
    "    'v2_m':{\n",
    "        '警視庁フォートファイターズ': '#b2b2b2',\n",
    "        '千葉ZELVA': '#9932ff',\n",
    "        'トヨタ自動車サンホークス': '#004c98',\n",
    "        '奈良ドリーマーズ': '#006532',\n",
    "        'ヴォレアス北海道': '#cb0032',\n",
    "        '埼玉アザレア': '#cb0098',\n",
    "        'サフィルヴァ北海道': '#ffff00',\n",
    "        'ヴィアティン三重': '#ff3f00',\n",
    "        '大同特殊鋼レッドスター': '#984c00',\n",
    "        '兵庫デルフィーノ': '#007fff',\n",
    "        '富士通カワサキレッドスピリッツ': '#ff0000',\n",
    "        'クボタスピアーズ': '#00ffff',\n",
    "        'つくばユナイテッドSunGAIA': '#009872',\n",
    "        'きんでんトリニティーブリッツ': '#00984c',\n",
    "        '東京ヴェルディ': '#009826',        \n",
    "    },\n",
    "    'v3_m':{\n",
    "        '長野GaRons': '#003fff',\n",
    "        'アイシンティルマーレ': '#3299ff',\n",
    "        'トヨタモビリティ東京スパークル': '#ff3232',\n",
    "        '近畿クラブスフィーダ': '#000000'\n",
    "    },\n",
    "    'v1_w':{\n",
    "        '東レアローズ':'#0018fa', \n",
    "        'ヴィクトリーナ姫路':'#fa00bd',\n",
    "        'トヨタ車体クインシーズ':'#0a1899',\n",
    "        'JTマーヴェラス':'#00b348',\n",
    "        'NECレッドロケッツ': '#ff003f',\n",
    "        'KUROBEアクアフェアリーズ': '#00ebe3',\n",
    "        'デンソーエアリービーズ': '#ff3232',\n",
    "        'PFUブルーキャッツ': '#1000fa',\n",
    "        '久光スプリングス': '#7ce01f',\n",
    "        '日立Astemoリヴァーレ': '#8b00bb',\n",
    "        '岡山シーガルズ': '#8adeff',\n",
    "        '埼玉上尾メディックス': '#000000'\n",
    "    },\n",
    "    'v2_w':{\n",
    "        'ブレス浜松': '#32ccff',\n",
    "        'JAぎふリオレーナ': '#99e5ff',\n",
    "        'プレステージ・インターナショナルアランマーレ': '#ff3f00',\n",
    "        '千葉エンゼルクロス': '#980026',\n",
    "        '群馬銀行グリーンウイングス': '#00cb65',\n",
    "        'リガーレ仙台': '#ff0000',\n",
    "        'ルートインホテルズブリリアントアリーズ': '#ff99e5',\n",
    "        'GSS東京サンビームズ': '#269800',\n",
    "        'フォレストリーヴズ熊本': '#00984c',\n",
    "        '大野石油広島オイラーズ': '#3265ff'\n",
    "    }\n",
    "}"
   ]
  },
  {
   "cell_type": "code",
   "execution_count": 3,
   "id": "582f93ab-f763-40b0-ade4-17e4e0353c75",
   "metadata": {},
   "outputs": [
    {
     "name": "stdout",
     "output_type": "stream",
     "text": [
      "['../database/v1_w\\\\teamdb_1999-00_regular.csv', '../database/v1_w\\\\teamdb_2000-01_regular.csv', '../database/v1_w\\\\teamdb_2001-02_regular.csv', '../database/v1_w\\\\teamdb_2002-03_regular.csv', '../database/v1_w\\\\teamdb_2003-04_regular.csv', '../database/v1_w\\\\teamdb_2004-05_regular.csv', '../database/v1_w\\\\teamdb_2005-06_regular.csv', '../database/v1_w\\\\teamdb_2006-07_regular.csv', '../database/v1_w\\\\teamdb_2007-08_regular.csv', '../database/v1_w\\\\teamdb_2008-09_regular.csv', '../database/v1_w\\\\teamdb_2009-10_regular.csv', '../database/v1_w\\\\teamdb_2010-11_regular.csv', '../database/v1_w\\\\teamdb_2011-12_regular.csv', '../database/v1_w\\\\teamdb_2012-13_regular.csv', '../database/v1_w\\\\teamdb_2013-14_regular.csv', '../database/v1_w\\\\teamdb_2014-15_regular.csv', '../database/v1_w\\\\teamdb_2015-16_regular.csv', '../database/v1_w\\\\teamdb_2016-17_regular.csv', '../database/v1_w\\\\teamdb_2017-18_regular.csv', '../database/v1_w\\\\teamdb_2018-19_regular.csv', '../database/v1_w\\\\teamdb_2019-20_regular.csv', '../database/v1_w\\\\teamdb_2020-21_regular.csv', '../database/v1_w\\\\teamdb_2021-22_regular.csv']\n"
     ]
    }
   ],
   "source": [
    "division = 'v1_w'\n",
    "paths = glob.glob('../database/{}/teamdb_*'.format(division))\n",
    "# paths = paths[-5:]\n",
    "print(paths)"
   ]
  },
  {
   "cell_type": "code",
   "execution_count": 4,
   "id": "feab84f9-f551-4544-8c23-736ae5aa9c1b",
   "metadata": {},
   "outputs": [
    {
     "data": {
      "text/html": [
       "<div>\n",
       "<style scoped>\n",
       "    .dataframe tbody tr th:only-of-type {\n",
       "        vertical-align: middle;\n",
       "    }\n",
       "\n",
       "    .dataframe tbody tr th {\n",
       "        vertical-align: top;\n",
       "    }\n",
       "\n",
       "    .dataframe thead th {\n",
       "        text-align: right;\n",
       "    }\n",
       "</style>\n",
       "<table border=\"1\" class=\"dataframe\">\n",
       "  <thead>\n",
       "    <tr style=\"text-align: right;\">\n",
       "      <th></th>\n",
       "      <th>名前</th>\n",
       "      <th>チーム</th>\n",
       "      <th>背番号</th>\n",
       "      <th>得セット</th>\n",
       "      <th>失セット</th>\n",
       "      <th>勝敗</th>\n",
       "      <th>出場数</th>\n",
       "      <th>アタック打数</th>\n",
       "      <th>アタック得点</th>\n",
       "      <th>アタック失点</th>\n",
       "      <th>...</th>\n",
       "      <th>サーブ効果</th>\n",
       "      <th>受数</th>\n",
       "      <th>サーブレシーブ成功・優</th>\n",
       "      <th>サーブレシーブ成功・良</th>\n",
       "      <th>総得点</th>\n",
       "      <th>バックアタック決定率</th>\n",
       "      <th>アタックセット平均</th>\n",
       "      <th>ブロックセット平均</th>\n",
       "      <th>サーブ効果率</th>\n",
       "      <th>サーブレシーブ成功率</th>\n",
       "    </tr>\n",
       "  </thead>\n",
       "  <tbody>\n",
       "    <tr>\n",
       "      <th>0</th>\n",
       "      <td>エスペホマーク</td>\n",
       "      <td>FC東京</td>\n",
       "      <td>15</td>\n",
       "      <td>37</td>\n",
       "      <td>69</td>\n",
       "      <td>8</td>\n",
       "      <td>81</td>\n",
       "      <td>506</td>\n",
       "      <td>188</td>\n",
       "      <td>42</td>\n",
       "      <td>...</td>\n",
       "      <td>52</td>\n",
       "      <td>482</td>\n",
       "      <td>183</td>\n",
       "      <td>139</td>\n",
       "      <td>224</td>\n",
       "      <td>49.3</td>\n",
       "      <td>2.32</td>\n",
       "      <td>0.31</td>\n",
       "      <td>3.6</td>\n",
       "      <td>52.4</td>\n",
       "    </tr>\n",
       "    <tr>\n",
       "      <th>1</th>\n",
       "      <td>エドガートーマス</td>\n",
       "      <td>JTサンダーズ広島</td>\n",
       "      <td>6</td>\n",
       "      <td>65</td>\n",
       "      <td>67</td>\n",
       "      <td>15</td>\n",
       "      <td>132</td>\n",
       "      <td>1509</td>\n",
       "      <td>750</td>\n",
       "      <td>111</td>\n",
       "      <td>...</td>\n",
       "      <td>126</td>\n",
       "      <td>1</td>\n",
       "      <td>0</td>\n",
       "      <td>0</td>\n",
       "      <td>837</td>\n",
       "      <td>55.5</td>\n",
       "      <td>5.68</td>\n",
       "      <td>0.30</td>\n",
       "      <td>9.2</td>\n",
       "      <td>0.0</td>\n",
       "    </tr>\n",
       "    <tr>\n",
       "      <th>2</th>\n",
       "      <td>エバデダンラリー</td>\n",
       "      <td>パナソニックパンサーズ</td>\n",
       "      <td>23</td>\n",
       "      <td>40</td>\n",
       "      <td>17</td>\n",
       "      <td>12</td>\n",
       "      <td>28</td>\n",
       "      <td>48</td>\n",
       "      <td>31</td>\n",
       "      <td>2</td>\n",
       "      <td>...</td>\n",
       "      <td>17</td>\n",
       "      <td>11</td>\n",
       "      <td>5</td>\n",
       "      <td>3</td>\n",
       "      <td>41</td>\n",
       "      <td>NaN</td>\n",
       "      <td>1.11</td>\n",
       "      <td>0.36</td>\n",
       "      <td>2.3</td>\n",
       "      <td>59.1</td>\n",
       "    </tr>\n",
       "    <tr>\n",
       "      <th>3</th>\n",
       "      <td>エメルソンロドリゲス</td>\n",
       "      <td>大分三好ヴァイセアドラー</td>\n",
       "      <td>2</td>\n",
       "      <td>29</td>\n",
       "      <td>89</td>\n",
       "      <td>6</td>\n",
       "      <td>96</td>\n",
       "      <td>793</td>\n",
       "      <td>356</td>\n",
       "      <td>84</td>\n",
       "      <td>...</td>\n",
       "      <td>94</td>\n",
       "      <td>1</td>\n",
       "      <td>0</td>\n",
       "      <td>0</td>\n",
       "      <td>394</td>\n",
       "      <td>46.6</td>\n",
       "      <td>3.71</td>\n",
       "      <td>0.09</td>\n",
       "      <td>9.2</td>\n",
       "      <td>0.0</td>\n",
       "    </tr>\n",
       "    <tr>\n",
       "      <th>4</th>\n",
       "      <td>クビアクミハウ</td>\n",
       "      <td>パナソニックパンサーズ</td>\n",
       "      <td>13</td>\n",
       "      <td>84</td>\n",
       "      <td>43</td>\n",
       "      <td>24</td>\n",
       "      <td>127</td>\n",
       "      <td>940</td>\n",
       "      <td>432</td>\n",
       "      <td>76</td>\n",
       "      <td>...</td>\n",
       "      <td>135</td>\n",
       "      <td>835</td>\n",
       "      <td>366</td>\n",
       "      <td>209</td>\n",
       "      <td>499</td>\n",
       "      <td>47.7</td>\n",
       "      <td>3.40</td>\n",
       "      <td>0.31</td>\n",
       "      <td>8.6</td>\n",
       "      <td>56.3</td>\n",
       "    </tr>\n",
       "  </tbody>\n",
       "</table>\n",
       "<p>5 rows × 29 columns</p>\n",
       "</div>"
      ],
      "text/plain": [
       "           名前           チーム  背番号  得セット  失セット  勝敗  出場数  アタック打数  アタック得点  アタック失点  \\\n",
       "0     エスペホマーク          FC東京   15    37    69   8   81     506     188      42   \n",
       "1    エドガートーマス     JTサンダーズ広島    6    65    67  15  132    1509     750     111   \n",
       "2    エバデダンラリー   パナソニックパンサーズ   23    40    17  12   28      48      31       2   \n",
       "3  エメルソンロドリゲス  大分三好ヴァイセアドラー    2    29    89   6   96     793     356      84   \n",
       "4     クビアクミハウ   パナソニックパンサーズ   13    84    43  24  127     940     432      76   \n",
       "\n",
       "   ...  サーブ効果   受数  サーブレシーブ成功・優  サーブレシーブ成功・良  総得点  バックアタック決定率  アタックセット平均  \\\n",
       "0  ...     52  482          183          139  224        49.3       2.32   \n",
       "1  ...    126    1            0            0  837        55.5       5.68   \n",
       "2  ...     17   11            5            3   41         NaN       1.11   \n",
       "3  ...     94    1            0            0  394        46.6       3.71   \n",
       "4  ...    135  835          366          209  499        47.7       3.40   \n",
       "\n",
       "   ブロックセット平均  サーブ効果率  サーブレシーブ成功率  \n",
       "0       0.31     3.6        52.4  \n",
       "1       0.30     9.2         0.0  \n",
       "2       0.36     2.3        59.1  \n",
       "3       0.09     9.2         0.0  \n",
       "4       0.31     8.6        56.3  \n",
       "\n",
       "[5 rows x 29 columns]"
      ]
     },
     "execution_count": 4,
     "metadata": {},
     "output_type": "execute_result"
    }
   ],
   "source": [
    "division = 'v1_m'\n",
    "year = '2021-22_regular'\n",
    "# Database\n",
    "# player_db_path =  '../database/{0}/playerdb_{1}.csv'.format(division,year)\n",
    "# team_db_path =  '../database/{0}/teamdb_{1}.csv'.format(division,year)\n",
    "# simple\n",
    "player_db_path = '../{0}/{1}/yearly_all.csv'.format(year,division)\n",
    "# player_db = pd.read_csv(player_db_path)\n",
    "player_db = pd.read_csv(player_db_path,encoding='cp932')\n",
    "# team_db = pd.read_csv(team_db_path)\n",
    "player_db.head()"
   ]
  },
  {
   "cell_type": "code",
   "execution_count": 5,
   "id": "47db91db-aef1-4692-9b9d-cb5e187ea1f9",
   "metadata": {},
   "outputs": [
    {
     "data": {
      "text/plain": [
       "Index(['名前', 'チーム', '背番号', '得セット', '失セット', '勝敗', '出場数', 'アタック打数', 'アタック得点',\n",
       "       'アタック失点', 'アタック決定率', 'アタック効果率', 'バックアタック打数', 'バックアタック得点', 'バックアタック失点',\n",
       "       'ブロック得点', 'サーブ打数', 'サーブ得点', 'サーブ失点', 'サーブ効果', '受数', 'サーブレシーブ成功・優',\n",
       "       'サーブレシーブ成功・良', '総得点', 'バックアタック決定率', 'アタックセット平均', 'ブロックセット平均', 'サーブ効果率',\n",
       "       'サーブレシーブ成功率'],\n",
       "      dtype='object')"
      ]
     },
     "execution_count": 5,
     "metadata": {},
     "output_type": "execute_result"
    }
   ],
   "source": [
    "player_db.columns"
   ]
  },
  {
   "cell_type": "code",
   "execution_count": 6,
   "id": "e1e7515a-b399-422b-b47e-1e0e6cc5af84",
   "metadata": {},
   "outputs": [
    {
     "data": {
      "text/plain": [
       "{'ジェイテクトSTINGS': '#b2b2b2',\n",
       " 'JTサンダーズ広島': '#00cb65',\n",
       " 'VC長野トライデンツ': '#980000',\n",
       " '東レアローズ': '#0000ff',\n",
       " '堺ブレイザーズ': '#ffff00',\n",
       " '大分三好ヴァイセアドラー': '#3232ff',\n",
       " 'サントリーサンバーズ': '#ff003f',\n",
       " 'FC東京': '#0032cb',\n",
       " 'パナソニックパンサーズ': '#000065',\n",
       " 'ウルフドッグス名古屋': '#000000'}"
      ]
     },
     "execution_count": 6,
     "metadata": {},
     "output_type": "execute_result"
    }
   ],
   "source": [
    "dict_att_color[division]"
   ]
  },
  {
   "cell_type": "code",
   "execution_count": 7,
   "id": "8aed87f2-ce62-4e15-8fbf-e47fb9b28b17",
   "metadata": {},
   "outputs": [
    {
     "ename": "NameError",
     "evalue": "name 'team_db' is not defined",
     "output_type": "error",
     "traceback": [
      "\u001b[1;31m---------------------------------------------------------------------------\u001b[0m",
      "\u001b[1;31mNameError\u001b[0m                                 Traceback (most recent call last)",
      "\u001b[1;32m<ipython-input-7-8dbc206de75f>\u001b[0m in \u001b[0;36m<module>\u001b[1;34m\u001b[0m\n\u001b[1;32m----> 1\u001b[1;33m \u001b[0mteam_db_total\u001b[0m \u001b[1;33m=\u001b[0m \u001b[0mteam_db\u001b[0m\u001b[1;33m.\u001b[0m\u001b[0mgroupby\u001b[0m\u001b[1;33m(\u001b[0m\u001b[1;34m'Team'\u001b[0m\u001b[1;33m)\u001b[0m\u001b[1;33m.\u001b[0m\u001b[0msum\u001b[0m\u001b[1;33m(\u001b[0m\u001b[1;33m)\u001b[0m\u001b[1;33m\u001b[0m\u001b[1;33m\u001b[0m\u001b[0m\n\u001b[0m\u001b[0;32m      2\u001b[0m \u001b[0mteam_db_total\u001b[0m\u001b[1;33m[\u001b[0m\u001b[1;33m[\u001b[0m\u001b[1;34m'Win_Set'\u001b[0m\u001b[1;33m,\u001b[0m \u001b[1;34m'Lose_Set'\u001b[0m\u001b[1;33m]\u001b[0m\u001b[1;33m]\u001b[0m\u001b[1;33m\u001b[0m\u001b[1;33m\u001b[0m\u001b[0m\n",
      "\u001b[1;31mNameError\u001b[0m: name 'team_db' is not defined"
     ]
    }
   ],
   "source": [
    "team_db_total = team_db.groupby('Team').sum()\n",
    "team_db_total[['Win_Set', 'Lose_Set']]"
   ]
  },
  {
   "cell_type": "code",
   "execution_count": null,
   "id": "a74a2f5e-a39c-424a-aac2-333ccad5a68d",
   "metadata": {},
   "outputs": [],
   "source": [
    "team_db['Set'] = team_db['Win_Set'] + team_db['Lose_Set']"
   ]
  },
  {
   "cell_type": "code",
   "execution_count": null,
   "id": "e9c9b1f8-84bf-40e0-a9dc-8478b05a84d6",
   "metadata": {},
   "outputs": [],
   "source": [
    "player_db_total = player_db.groupby('Player').sum()\n",
    "player_db_total = stats_calc(player_db_total)\n",
    "player_db_total"
   ]
  },
  {
   "cell_type": "code",
   "execution_count": 26,
   "id": "1a27f5b4-ac53-4fea-90f0-df138a15bec2",
   "metadata": {},
   "outputs": [
    {
     "name": "stdout",
     "output_type": "stream",
     "text": [
      "['デアルマスアライン', 'ムセルスキードミトリー', '小川猛', '小野遥輝', '彭世坤', '柳田将洋', '秦耕介', '藤中謙也', '鍬田憲伸']\n",
      "#ff003f\n"
     ]
    },
    {
     "data": {
      "text/html": [
       "<div>\n",
       "<style scoped>\n",
       "    .dataframe tbody tr th:only-of-type {\n",
       "        vertical-align: middle;\n",
       "    }\n",
       "\n",
       "    .dataframe tbody tr th {\n",
       "        vertical-align: top;\n",
       "    }\n",
       "\n",
       "    .dataframe thead th {\n",
       "        text-align: right;\n",
       "    }\n",
       "</style>\n",
       "<table border=\"1\" class=\"dataframe\">\n",
       "  <thead>\n",
       "    <tr style=\"text-align: right;\">\n",
       "      <th></th>\n",
       "      <th>名前</th>\n",
       "      <th>チーム</th>\n",
       "      <th>背番号</th>\n",
       "      <th>得セット</th>\n",
       "      <th>失セット</th>\n",
       "      <th>勝敗</th>\n",
       "      <th>出場数</th>\n",
       "      <th>アタック打数</th>\n",
       "      <th>アタック得点</th>\n",
       "      <th>アタック失点</th>\n",
       "      <th>...</th>\n",
       "      <th>サーブ効果</th>\n",
       "      <th>受数</th>\n",
       "      <th>サーブレシーブ成功・優</th>\n",
       "      <th>サーブレシーブ成功・良</th>\n",
       "      <th>総得点</th>\n",
       "      <th>バックアタック決定率</th>\n",
       "      <th>アタックセット平均</th>\n",
       "      <th>ブロックセット平均</th>\n",
       "      <th>サーブ効果率</th>\n",
       "      <th>サーブレシーブ成功率</th>\n",
       "    </tr>\n",
       "  </thead>\n",
       "  <tbody>\n",
       "    <tr>\n",
       "      <th>8</th>\n",
       "      <td>デアルマスアライン</td>\n",
       "      <td>サントリーサンバーズ</td>\n",
       "      <td>7</td>\n",
       "      <td>74</td>\n",
       "      <td>47</td>\n",
       "      <td>23</td>\n",
       "      <td>99</td>\n",
       "      <td>575</td>\n",
       "      <td>295</td>\n",
       "      <td>32</td>\n",
       "      <td>...</td>\n",
       "      <td>87</td>\n",
       "      <td>61</td>\n",
       "      <td>17</td>\n",
       "      <td>17</td>\n",
       "      <td>337</td>\n",
       "      <td>58.4</td>\n",
       "      <td>2.98</td>\n",
       "      <td>0.21</td>\n",
       "      <td>10.7</td>\n",
       "      <td>41.8</td>\n",
       "    </tr>\n",
       "    <tr>\n",
       "      <th>14</th>\n",
       "      <td>ムセルスキードミトリー</td>\n",
       "      <td>サントリーサンバーズ</td>\n",
       "      <td>13</td>\n",
       "      <td>48</td>\n",
       "      <td>25</td>\n",
       "      <td>15</td>\n",
       "      <td>71</td>\n",
       "      <td>784</td>\n",
       "      <td>425</td>\n",
       "      <td>81</td>\n",
       "      <td>...</td>\n",
       "      <td>81</td>\n",
       "      <td>3</td>\n",
       "      <td>0</td>\n",
       "      <td>1</td>\n",
       "      <td>481</td>\n",
       "      <td>48.8</td>\n",
       "      <td>5.99</td>\n",
       "      <td>0.39</td>\n",
       "      <td>9.8</td>\n",
       "      <td>16.7</td>\n",
       "    </tr>\n",
       "    <tr>\n",
       "      <th>65</th>\n",
       "      <td>小川猛</td>\n",
       "      <td>サントリーサンバーズ</td>\n",
       "      <td>18</td>\n",
       "      <td>77</td>\n",
       "      <td>45</td>\n",
       "      <td>24</td>\n",
       "      <td>57</td>\n",
       "      <td>52</td>\n",
       "      <td>33</td>\n",
       "      <td>4</td>\n",
       "      <td>...</td>\n",
       "      <td>25</td>\n",
       "      <td>4</td>\n",
       "      <td>1</td>\n",
       "      <td>2</td>\n",
       "      <td>42</td>\n",
       "      <td>NaN</td>\n",
       "      <td>0.58</td>\n",
       "      <td>0.16</td>\n",
       "      <td>6.2</td>\n",
       "      <td>50.0</td>\n",
       "    </tr>\n",
       "    <tr>\n",
       "      <th>72</th>\n",
       "      <td>小野遥輝</td>\n",
       "      <td>サントリーサンバーズ</td>\n",
       "      <td>3</td>\n",
       "      <td>80</td>\n",
       "      <td>50</td>\n",
       "      <td>25</td>\n",
       "      <td>115</td>\n",
       "      <td>276</td>\n",
       "      <td>158</td>\n",
       "      <td>13</td>\n",
       "      <td>...</td>\n",
       "      <td>79</td>\n",
       "      <td>21</td>\n",
       "      <td>12</td>\n",
       "      <td>5</td>\n",
       "      <td>230</td>\n",
       "      <td>NaN</td>\n",
       "      <td>1.37</td>\n",
       "      <td>0.50</td>\n",
       "      <td>4.2</td>\n",
       "      <td>69.0</td>\n",
       "    </tr>\n",
       "    <tr>\n",
       "      <th>92</th>\n",
       "      <td>彭世坤</td>\n",
       "      <td>サントリーサンバーズ</td>\n",
       "      <td>6</td>\n",
       "      <td>71</td>\n",
       "      <td>42</td>\n",
       "      <td>22</td>\n",
       "      <td>109</td>\n",
       "      <td>256</td>\n",
       "      <td>158</td>\n",
       "      <td>16</td>\n",
       "      <td>...</td>\n",
       "      <td>105</td>\n",
       "      <td>13</td>\n",
       "      <td>4</td>\n",
       "      <td>3</td>\n",
       "      <td>233</td>\n",
       "      <td>NaN</td>\n",
       "      <td>1.45</td>\n",
       "      <td>0.59</td>\n",
       "      <td>6.8</td>\n",
       "      <td>42.3</td>\n",
       "    </tr>\n",
       "    <tr>\n",
       "      <th>106</th>\n",
       "      <td>柳田将洋</td>\n",
       "      <td>サントリーサンバーズ</td>\n",
       "      <td>8</td>\n",
       "      <td>68</td>\n",
       "      <td>46</td>\n",
       "      <td>21</td>\n",
       "      <td>106</td>\n",
       "      <td>640</td>\n",
       "      <td>333</td>\n",
       "      <td>35</td>\n",
       "      <td>...</td>\n",
       "      <td>127</td>\n",
       "      <td>467</td>\n",
       "      <td>153</td>\n",
       "      <td>120</td>\n",
       "      <td>401</td>\n",
       "      <td>58.6</td>\n",
       "      <td>3.14</td>\n",
       "      <td>0.19</td>\n",
       "      <td>13.3</td>\n",
       "      <td>45.6</td>\n",
       "    </tr>\n",
       "    <tr>\n",
       "      <th>139</th>\n",
       "      <td>秦耕介</td>\n",
       "      <td>サントリーサンバーズ</td>\n",
       "      <td>11</td>\n",
       "      <td>62</td>\n",
       "      <td>38</td>\n",
       "      <td>19</td>\n",
       "      <td>41</td>\n",
       "      <td>101</td>\n",
       "      <td>52</td>\n",
       "      <td>8</td>\n",
       "      <td>...</td>\n",
       "      <td>27</td>\n",
       "      <td>127</td>\n",
       "      <td>53</td>\n",
       "      <td>23</td>\n",
       "      <td>73</td>\n",
       "      <td>52.6</td>\n",
       "      <td>1.27</td>\n",
       "      <td>0.29</td>\n",
       "      <td>8.7</td>\n",
       "      <td>50.8</td>\n",
       "    </tr>\n",
       "    <tr>\n",
       "      <th>145</th>\n",
       "      <td>藤中謙也</td>\n",
       "      <td>サントリーサンバーズ</td>\n",
       "      <td>10</td>\n",
       "      <td>73</td>\n",
       "      <td>43</td>\n",
       "      <td>23</td>\n",
       "      <td>96</td>\n",
       "      <td>372</td>\n",
       "      <td>181</td>\n",
       "      <td>26</td>\n",
       "      <td>...</td>\n",
       "      <td>50</td>\n",
       "      <td>708</td>\n",
       "      <td>306</td>\n",
       "      <td>192</td>\n",
       "      <td>219</td>\n",
       "      <td>54.9</td>\n",
       "      <td>1.89</td>\n",
       "      <td>0.31</td>\n",
       "      <td>3.2</td>\n",
       "      <td>56.8</td>\n",
       "    </tr>\n",
       "    <tr>\n",
       "      <th>170</th>\n",
       "      <td>鍬田憲伸</td>\n",
       "      <td>サントリーサンバーズ</td>\n",
       "      <td>22</td>\n",
       "      <td>26</td>\n",
       "      <td>18</td>\n",
       "      <td>8</td>\n",
       "      <td>30</td>\n",
       "      <td>92</td>\n",
       "      <td>38</td>\n",
       "      <td>5</td>\n",
       "      <td>...</td>\n",
       "      <td>28</td>\n",
       "      <td>229</td>\n",
       "      <td>83</td>\n",
       "      <td>71</td>\n",
       "      <td>51</td>\n",
       "      <td>43.8</td>\n",
       "      <td>1.27</td>\n",
       "      <td>0.20</td>\n",
       "      <td>9.1</td>\n",
       "      <td>51.7</td>\n",
       "    </tr>\n",
       "  </tbody>\n",
       "</table>\n",
       "<p>9 rows × 29 columns</p>\n",
       "</div>"
      ],
      "text/plain": [
       "              名前         チーム  背番号  得セット  失セット  勝敗  出場数  アタック打数  アタック得点  \\\n",
       "8      デアルマスアライン  サントリーサンバーズ    7    74    47  23   99     575     295   \n",
       "14   ムセルスキードミトリー  サントリーサンバーズ   13    48    25  15   71     784     425   \n",
       "65           小川猛  サントリーサンバーズ   18    77    45  24   57      52      33   \n",
       "72          小野遥輝  サントリーサンバーズ    3    80    50  25  115     276     158   \n",
       "92           彭世坤  サントリーサンバーズ    6    71    42  22  109     256     158   \n",
       "106         柳田将洋  サントリーサンバーズ    8    68    46  21  106     640     333   \n",
       "139          秦耕介  サントリーサンバーズ   11    62    38  19   41     101      52   \n",
       "145         藤中謙也  サントリーサンバーズ   10    73    43  23   96     372     181   \n",
       "170         鍬田憲伸  サントリーサンバーズ   22    26    18   8   30      92      38   \n",
       "\n",
       "     アタック失点  ...  サーブ効果   受数  サーブレシーブ成功・優  サーブレシーブ成功・良  総得点  バックアタック決定率  \\\n",
       "8        32  ...     87   61           17           17  337        58.4   \n",
       "14       81  ...     81    3            0            1  481        48.8   \n",
       "65        4  ...     25    4            1            2   42         NaN   \n",
       "72       13  ...     79   21           12            5  230         NaN   \n",
       "92       16  ...    105   13            4            3  233         NaN   \n",
       "106      35  ...    127  467          153          120  401        58.6   \n",
       "139       8  ...     27  127           53           23   73        52.6   \n",
       "145      26  ...     50  708          306          192  219        54.9   \n",
       "170       5  ...     28  229           83           71   51        43.8   \n",
       "\n",
       "     アタックセット平均  ブロックセット平均  サーブ効果率  サーブレシーブ成功率  \n",
       "8         2.98       0.21    10.7        41.8  \n",
       "14        5.99       0.39     9.8        16.7  \n",
       "65        0.58       0.16     6.2        50.0  \n",
       "72        1.37       0.50     4.2        69.0  \n",
       "92        1.45       0.59     6.8        42.3  \n",
       "106       3.14       0.19    13.3        45.6  \n",
       "139       1.27       0.29     8.7        50.8  \n",
       "145       1.89       0.31     3.2        56.8  \n",
       "170       1.27       0.20     9.1        51.7  \n",
       "\n",
       "[9 rows x 29 columns]"
      ]
     },
     "execution_count": 26,
     "metadata": {},
     "output_type": "execute_result"
    }
   ],
   "source": [
    "team = 'サントリーサンバーズ'\n",
    "# color = 'red'\n",
    "# team_player = player_db[player_db['Team']==team]\n",
    "# team_player_total = team_player.groupby('Player').sum()\n",
    "# team_player_total = stats_calc(team_player_total)\n",
    "# team_player_total['Team'] = team\n",
    "team_player_total = player_db[(player_db['チーム']==team)&(player_db['アタック打数']>=50)]\n",
    "# team_player_total = player_db[(player_db['アタック打数']>=100)]\n",
    "# team_player_total = player_db[(player_db['チーム']==team)]\n",
    "# player = team_player_total.index\n",
    "player = list(team_player_total['名前'])\n",
    "print(player)\n",
    "color = dict_att_color[division][team]\n",
    "print(color)\n",
    "# team_player_total['Color'] = color\n",
    "team_player_total"
   ]
  },
  {
   "cell_type": "code",
   "execution_count": 27,
   "id": "8148b1ca-0a55-450c-a5cc-62aabda18f28",
   "metadata": {},
   "outputs": [
    {
     "data": {
      "text/plain": [
       "Index(['名前', 'チーム', '背番号', '得セット', '失セット', '勝敗', '出場数', 'アタック打数', 'アタック得点',\n",
       "       'アタック失点', 'アタック決定率', 'アタック効果率', 'バックアタック打数', 'バックアタック得点', 'バックアタック失点',\n",
       "       'ブロック得点', 'サーブ打数', 'サーブ得点', 'サーブ失点', 'サーブ効果', '受数', 'サーブレシーブ成功・優',\n",
       "       'サーブレシーブ成功・良', '総得点', 'バックアタック決定率', 'アタックセット平均', 'ブロックセット平均', 'サーブ効果率',\n",
       "       'サーブレシーブ成功率'],\n",
       "      dtype='object')"
      ]
     },
     "execution_count": 27,
     "metadata": {},
     "output_type": "execute_result"
    }
   ],
   "source": [
    "team_player_total.columns"
   ]
  },
  {
   "cell_type": "code",
   "execution_count": 29,
   "id": "f4159f82-f289-4fc5-8b3f-6e13933b402e",
   "metadata": {},
   "outputs": [
    {
     "data": {
      "application/vnd.plotly.v1+json": {
       "config": {
        "plotlyServerURL": "https://plot.ly"
       },
       "data": [
        {
         "marker": {
          "color": "#ff003f",
          "size": [
           57.5,
           78.4,
           5.2,
           27.6,
           25.6,
           64,
           10.100000000000001,
           37.2,
           9.200000000000001
          ],
          "symbol": "circle"
         },
         "mode": "markers+text",
         "text": [
          "デアルマスアライン",
          "ムセルスキードミトリー",
          "小川猛",
          "小野遥輝",
          "彭世坤",
          "柳田将洋",
          "秦耕介",
          "藤中謙也",
          "鍬田憲伸"
         ],
         "textposition": "top center",
         "type": "scatter",
         "x": [
          51.3,
          54.2,
          63.5,
          57.2,
          61.7,
          52,
          51.5,
          48.7,
          41.3
         ],
         "y": [
          0.21,
          0.39,
          0.16,
          0.5,
          0.59,
          0.19,
          0.29,
          0.31,
          0.2
         ]
        }
       ],
       "layout": {
        "height": 800,
        "hoverlabel": {
         "align": "right"
        },
        "hovermode": "closest",
        "template": {
         "data": {
          "bar": [
           {
            "error_x": {
             "color": "#2a3f5f"
            },
            "error_y": {
             "color": "#2a3f5f"
            },
            "marker": {
             "line": {
              "color": "#E5ECF6",
              "width": 0.5
             },
             "pattern": {
              "fillmode": "overlay",
              "size": 10,
              "solidity": 0.2
             }
            },
            "type": "bar"
           }
          ],
          "barpolar": [
           {
            "marker": {
             "line": {
              "color": "#E5ECF6",
              "width": 0.5
             },
             "pattern": {
              "fillmode": "overlay",
              "size": 10,
              "solidity": 0.2
             }
            },
            "type": "barpolar"
           }
          ],
          "carpet": [
           {
            "aaxis": {
             "endlinecolor": "#2a3f5f",
             "gridcolor": "white",
             "linecolor": "white",
             "minorgridcolor": "white",
             "startlinecolor": "#2a3f5f"
            },
            "baxis": {
             "endlinecolor": "#2a3f5f",
             "gridcolor": "white",
             "linecolor": "white",
             "minorgridcolor": "white",
             "startlinecolor": "#2a3f5f"
            },
            "type": "carpet"
           }
          ],
          "choropleth": [
           {
            "colorbar": {
             "outlinewidth": 0,
             "ticks": ""
            },
            "type": "choropleth"
           }
          ],
          "contour": [
           {
            "colorbar": {
             "outlinewidth": 0,
             "ticks": ""
            },
            "colorscale": [
             [
              0,
              "#0d0887"
             ],
             [
              0.1111111111111111,
              "#46039f"
             ],
             [
              0.2222222222222222,
              "#7201a8"
             ],
             [
              0.3333333333333333,
              "#9c179e"
             ],
             [
              0.4444444444444444,
              "#bd3786"
             ],
             [
              0.5555555555555556,
              "#d8576b"
             ],
             [
              0.6666666666666666,
              "#ed7953"
             ],
             [
              0.7777777777777778,
              "#fb9f3a"
             ],
             [
              0.8888888888888888,
              "#fdca26"
             ],
             [
              1,
              "#f0f921"
             ]
            ],
            "type": "contour"
           }
          ],
          "contourcarpet": [
           {
            "colorbar": {
             "outlinewidth": 0,
             "ticks": ""
            },
            "type": "contourcarpet"
           }
          ],
          "heatmap": [
           {
            "colorbar": {
             "outlinewidth": 0,
             "ticks": ""
            },
            "colorscale": [
             [
              0,
              "#0d0887"
             ],
             [
              0.1111111111111111,
              "#46039f"
             ],
             [
              0.2222222222222222,
              "#7201a8"
             ],
             [
              0.3333333333333333,
              "#9c179e"
             ],
             [
              0.4444444444444444,
              "#bd3786"
             ],
             [
              0.5555555555555556,
              "#d8576b"
             ],
             [
              0.6666666666666666,
              "#ed7953"
             ],
             [
              0.7777777777777778,
              "#fb9f3a"
             ],
             [
              0.8888888888888888,
              "#fdca26"
             ],
             [
              1,
              "#f0f921"
             ]
            ],
            "type": "heatmap"
           }
          ],
          "heatmapgl": [
           {
            "colorbar": {
             "outlinewidth": 0,
             "ticks": ""
            },
            "colorscale": [
             [
              0,
              "#0d0887"
             ],
             [
              0.1111111111111111,
              "#46039f"
             ],
             [
              0.2222222222222222,
              "#7201a8"
             ],
             [
              0.3333333333333333,
              "#9c179e"
             ],
             [
              0.4444444444444444,
              "#bd3786"
             ],
             [
              0.5555555555555556,
              "#d8576b"
             ],
             [
              0.6666666666666666,
              "#ed7953"
             ],
             [
              0.7777777777777778,
              "#fb9f3a"
             ],
             [
              0.8888888888888888,
              "#fdca26"
             ],
             [
              1,
              "#f0f921"
             ]
            ],
            "type": "heatmapgl"
           }
          ],
          "histogram": [
           {
            "marker": {
             "pattern": {
              "fillmode": "overlay",
              "size": 10,
              "solidity": 0.2
             }
            },
            "type": "histogram"
           }
          ],
          "histogram2d": [
           {
            "colorbar": {
             "outlinewidth": 0,
             "ticks": ""
            },
            "colorscale": [
             [
              0,
              "#0d0887"
             ],
             [
              0.1111111111111111,
              "#46039f"
             ],
             [
              0.2222222222222222,
              "#7201a8"
             ],
             [
              0.3333333333333333,
              "#9c179e"
             ],
             [
              0.4444444444444444,
              "#bd3786"
             ],
             [
              0.5555555555555556,
              "#d8576b"
             ],
             [
              0.6666666666666666,
              "#ed7953"
             ],
             [
              0.7777777777777778,
              "#fb9f3a"
             ],
             [
              0.8888888888888888,
              "#fdca26"
             ],
             [
              1,
              "#f0f921"
             ]
            ],
            "type": "histogram2d"
           }
          ],
          "histogram2dcontour": [
           {
            "colorbar": {
             "outlinewidth": 0,
             "ticks": ""
            },
            "colorscale": [
             [
              0,
              "#0d0887"
             ],
             [
              0.1111111111111111,
              "#46039f"
             ],
             [
              0.2222222222222222,
              "#7201a8"
             ],
             [
              0.3333333333333333,
              "#9c179e"
             ],
             [
              0.4444444444444444,
              "#bd3786"
             ],
             [
              0.5555555555555556,
              "#d8576b"
             ],
             [
              0.6666666666666666,
              "#ed7953"
             ],
             [
              0.7777777777777778,
              "#fb9f3a"
             ],
             [
              0.8888888888888888,
              "#fdca26"
             ],
             [
              1,
              "#f0f921"
             ]
            ],
            "type": "histogram2dcontour"
           }
          ],
          "mesh3d": [
           {
            "colorbar": {
             "outlinewidth": 0,
             "ticks": ""
            },
            "type": "mesh3d"
           }
          ],
          "parcoords": [
           {
            "line": {
             "colorbar": {
              "outlinewidth": 0,
              "ticks": ""
             }
            },
            "type": "parcoords"
           }
          ],
          "pie": [
           {
            "automargin": true,
            "type": "pie"
           }
          ],
          "scatter": [
           {
            "fillpattern": {
             "fillmode": "overlay",
             "size": 10,
             "solidity": 0.2
            },
            "type": "scatter"
           }
          ],
          "scatter3d": [
           {
            "line": {
             "colorbar": {
              "outlinewidth": 0,
              "ticks": ""
             }
            },
            "marker": {
             "colorbar": {
              "outlinewidth": 0,
              "ticks": ""
             }
            },
            "type": "scatter3d"
           }
          ],
          "scattercarpet": [
           {
            "marker": {
             "colorbar": {
              "outlinewidth": 0,
              "ticks": ""
             }
            },
            "type": "scattercarpet"
           }
          ],
          "scattergeo": [
           {
            "marker": {
             "colorbar": {
              "outlinewidth": 0,
              "ticks": ""
             }
            },
            "type": "scattergeo"
           }
          ],
          "scattergl": [
           {
            "marker": {
             "colorbar": {
              "outlinewidth": 0,
              "ticks": ""
             }
            },
            "type": "scattergl"
           }
          ],
          "scattermapbox": [
           {
            "marker": {
             "colorbar": {
              "outlinewidth": 0,
              "ticks": ""
             }
            },
            "type": "scattermapbox"
           }
          ],
          "scatterpolar": [
           {
            "marker": {
             "colorbar": {
              "outlinewidth": 0,
              "ticks": ""
             }
            },
            "type": "scatterpolar"
           }
          ],
          "scatterpolargl": [
           {
            "marker": {
             "colorbar": {
              "outlinewidth": 0,
              "ticks": ""
             }
            },
            "type": "scatterpolargl"
           }
          ],
          "scatterternary": [
           {
            "marker": {
             "colorbar": {
              "outlinewidth": 0,
              "ticks": ""
             }
            },
            "type": "scatterternary"
           }
          ],
          "surface": [
           {
            "colorbar": {
             "outlinewidth": 0,
             "ticks": ""
            },
            "colorscale": [
             [
              0,
              "#0d0887"
             ],
             [
              0.1111111111111111,
              "#46039f"
             ],
             [
              0.2222222222222222,
              "#7201a8"
             ],
             [
              0.3333333333333333,
              "#9c179e"
             ],
             [
              0.4444444444444444,
              "#bd3786"
             ],
             [
              0.5555555555555556,
              "#d8576b"
             ],
             [
              0.6666666666666666,
              "#ed7953"
             ],
             [
              0.7777777777777778,
              "#fb9f3a"
             ],
             [
              0.8888888888888888,
              "#fdca26"
             ],
             [
              1,
              "#f0f921"
             ]
            ],
            "type": "surface"
           }
          ],
          "table": [
           {
            "cells": {
             "fill": {
              "color": "#EBF0F8"
             },
             "line": {
              "color": "white"
             }
            },
            "header": {
             "fill": {
              "color": "#C8D4E3"
             },
             "line": {
              "color": "white"
             }
            },
            "type": "table"
           }
          ]
         },
         "layout": {
          "annotationdefaults": {
           "arrowcolor": "#2a3f5f",
           "arrowhead": 0,
           "arrowwidth": 1
          },
          "autotypenumbers": "strict",
          "coloraxis": {
           "colorbar": {
            "outlinewidth": 0,
            "ticks": ""
           }
          },
          "colorscale": {
           "diverging": [
            [
             0,
             "#8e0152"
            ],
            [
             0.1,
             "#c51b7d"
            ],
            [
             0.2,
             "#de77ae"
            ],
            [
             0.3,
             "#f1b6da"
            ],
            [
             0.4,
             "#fde0ef"
            ],
            [
             0.5,
             "#f7f7f7"
            ],
            [
             0.6,
             "#e6f5d0"
            ],
            [
             0.7,
             "#b8e186"
            ],
            [
             0.8,
             "#7fbc41"
            ],
            [
             0.9,
             "#4d9221"
            ],
            [
             1,
             "#276419"
            ]
           ],
           "sequential": [
            [
             0,
             "#0d0887"
            ],
            [
             0.1111111111111111,
             "#46039f"
            ],
            [
             0.2222222222222222,
             "#7201a8"
            ],
            [
             0.3333333333333333,
             "#9c179e"
            ],
            [
             0.4444444444444444,
             "#bd3786"
            ],
            [
             0.5555555555555556,
             "#d8576b"
            ],
            [
             0.6666666666666666,
             "#ed7953"
            ],
            [
             0.7777777777777778,
             "#fb9f3a"
            ],
            [
             0.8888888888888888,
             "#fdca26"
            ],
            [
             1,
             "#f0f921"
            ]
           ],
           "sequentialminus": [
            [
             0,
             "#0d0887"
            ],
            [
             0.1111111111111111,
             "#46039f"
            ],
            [
             0.2222222222222222,
             "#7201a8"
            ],
            [
             0.3333333333333333,
             "#9c179e"
            ],
            [
             0.4444444444444444,
             "#bd3786"
            ],
            [
             0.5555555555555556,
             "#d8576b"
            ],
            [
             0.6666666666666666,
             "#ed7953"
            ],
            [
             0.7777777777777778,
             "#fb9f3a"
            ],
            [
             0.8888888888888888,
             "#fdca26"
            ],
            [
             1,
             "#f0f921"
            ]
           ]
          },
          "colorway": [
           "#636efa",
           "#EF553B",
           "#00cc96",
           "#ab63fa",
           "#FFA15A",
           "#19d3f3",
           "#FF6692",
           "#B6E880",
           "#FF97FF",
           "#FECB52"
          ],
          "font": {
           "color": "#2a3f5f"
          },
          "geo": {
           "bgcolor": "white",
           "lakecolor": "white",
           "landcolor": "#E5ECF6",
           "showlakes": true,
           "showland": true,
           "subunitcolor": "white"
          },
          "hoverlabel": {
           "align": "left"
          },
          "hovermode": "closest",
          "mapbox": {
           "style": "light"
          },
          "paper_bgcolor": "white",
          "plot_bgcolor": "#E5ECF6",
          "polar": {
           "angularaxis": {
            "gridcolor": "white",
            "linecolor": "white",
            "ticks": ""
           },
           "bgcolor": "#E5ECF6",
           "radialaxis": {
            "gridcolor": "white",
            "linecolor": "white",
            "ticks": ""
           }
          },
          "scene": {
           "xaxis": {
            "backgroundcolor": "#E5ECF6",
            "gridcolor": "white",
            "gridwidth": 2,
            "linecolor": "white",
            "showbackground": true,
            "ticks": "",
            "zerolinecolor": "white"
           },
           "yaxis": {
            "backgroundcolor": "#E5ECF6",
            "gridcolor": "white",
            "gridwidth": 2,
            "linecolor": "white",
            "showbackground": true,
            "ticks": "",
            "zerolinecolor": "white"
           },
           "zaxis": {
            "backgroundcolor": "#E5ECF6",
            "gridcolor": "white",
            "gridwidth": 2,
            "linecolor": "white",
            "showbackground": true,
            "ticks": "",
            "zerolinecolor": "white"
           }
          },
          "shapedefaults": {
           "line": {
            "color": "#2a3f5f"
           }
          },
          "ternary": {
           "aaxis": {
            "gridcolor": "white",
            "linecolor": "white",
            "ticks": ""
           },
           "baxis": {
            "gridcolor": "white",
            "linecolor": "white",
            "ticks": ""
           },
           "bgcolor": "#E5ECF6",
           "caxis": {
            "gridcolor": "white",
            "linecolor": "white",
            "ticks": ""
           }
          },
          "title": {
           "x": 0.05
          },
          "xaxis": {
           "automargin": true,
           "gridcolor": "white",
           "linecolor": "white",
           "ticks": "",
           "title": {
            "standoff": 15
           },
           "zerolinecolor": "white",
           "zerolinewidth": 2
          },
          "yaxis": {
           "automargin": true,
           "gridcolor": "white",
           "linecolor": "white",
           "ticks": "",
           "title": {
            "standoff": 15
           },
           "zerolinecolor": "white",
           "zerolinewidth": 2
          }
         }
        },
        "title": {
         "text": "サントリーサンバーズ"
        },
        "width": 1000,
        "xaxis": {
         "autorange": true,
         "range": [
          39.88092369477911,
          64.84477911646586
         ],
         "title": {
          "text": "アタック決定率"
         },
         "type": "linear"
        },
        "yaxis": {
         "autorange": true,
         "range": [
          0.13266357308584686,
          0.6275127610208816
         ],
         "title": {
          "text": "1セットあたりのブロック決定本数"
         },
         "type": "linear"
        }
       }
      },
      "image/png": "[encoded data removed]",
      "text/html": [
       "<div>                            <div id=\"3817df1d-78d4-4082-a9d1-7f769b9054db\" class=\"plotly-graph-div\" style=\"height:800px; width:1000px;\"></div>            <script type=\"text/javascript\">                require([\"plotly\"], function(Plotly) {                    window.PLOTLYENV=window.PLOTLYENV || {};                                    if (document.getElementById(\"3817df1d-78d4-4082-a9d1-7f769b9054db\")) {                    Plotly.newPlot(                        \"3817df1d-78d4-4082-a9d1-7f769b9054db\",                        [{\"marker\":{\"color\":\"#ff003f\",\"size\":[57.5,78.4,5.2,27.6,25.6,64.0,10.100000000000001,37.2,9.200000000000001],\"symbol\":\"circle\"},\"mode\":\"markers+text\",\"text\":[\"\\u30c7\\u30a2\\u30eb\\u30de\\u30b9\\u30a2\\u30e9\\u30a4\\u30f3\",\"\\u30e0\\u30bb\\u30eb\\u30b9\\u30ad\\u30fc\\u30c9\\u30df\\u30c8\\u30ea\\u30fc\",\"\\u5c0f\\u5ddd\\u731b\",\"\\u5c0f\\u91ce\\u9065\\u8f1d\",\"\\u5f6d\\u4e16\\u5764\",\"\\u67f3\\u7530\\u5c06\\u6d0b\",\"\\u79e6\\u8015\\u4ecb\",\"\\u85e4\\u4e2d\\u8b19\\u4e5f\",\"\\u936c\\u7530\\u61b2\\u4f38\"],\"textposition\":\"top center\",\"x\":[51.3,54.2,63.5,57.2,61.7,52.0,51.5,48.7,41.3],\"y\":[0.21,0.39,0.16,0.5,0.59,0.19,0.29,0.31,0.2],\"type\":\"scatter\"}],                        {\"template\":{\"data\":{\"histogram2dcontour\":[{\"type\":\"histogram2dcontour\",\"colorbar\":{\"outlinewidth\":0,\"ticks\":\"\"},\"colorscale\":[[0.0,\"#0d0887\"],[0.1111111111111111,\"#46039f\"],[0.2222222222222222,\"#7201a8\"],[0.3333333333333333,\"#9c179e\"],[0.4444444444444444,\"#bd3786\"],[0.5555555555555556,\"#d8576b\"],[0.6666666666666666,\"#ed7953\"],[0.7777777777777778,\"#fb9f3a\"],[0.8888888888888888,\"#fdca26\"],[1.0,\"#f0f921\"]]}],\"choropleth\":[{\"type\":\"choropleth\",\"colorbar\":{\"outlinewidth\":0,\"ticks\":\"\"}}],\"histogram2d\":[{\"type\":\"histogram2d\",\"colorbar\":{\"outlinewidth\":0,\"ticks\":\"\"},\"colorscale\":[[0.0,\"#0d0887\"],[0.1111111111111111,\"#46039f\"],[0.2222222222222222,\"#7201a8\"],[0.3333333333333333,\"#9c179e\"],[0.4444444444444444,\"#bd3786\"],[0.5555555555555556,\"#d8576b\"],[0.6666666666666666,\"#ed7953\"],[0.7777777777777778,\"#fb9f3a\"],[0.8888888888888888,\"#fdca26\"],[1.0,\"#f0f921\"]]}],\"heatmap\":[{\"type\":\"heatmap\",\"colorbar\":{\"outlinewidth\":0,\"ticks\":\"\"},\"colorscale\":[[0.0,\"#0d0887\"],[0.1111111111111111,\"#46039f\"],[0.2222222222222222,\"#7201a8\"],[0.3333333333333333,\"#9c179e\"],[0.4444444444444444,\"#bd3786\"],[0.5555555555555556,\"#d8576b\"],[0.6666666666666666,\"#ed7953\"],[0.7777777777777778,\"#fb9f3a\"],[0.8888888888888888,\"#fdca26\"],[1.0,\"#f0f921\"]]}],\"heatmapgl\":[{\"type\":\"heatmapgl\",\"colorbar\":{\"outlinewidth\":0,\"ticks\":\"\"},\"colorscale\":[[0.0,\"#0d0887\"],[0.1111111111111111,\"#46039f\"],[0.2222222222222222,\"#7201a8\"],[0.3333333333333333,\"#9c179e\"],[0.4444444444444444,\"#bd3786\"],[0.5555555555555556,\"#d8576b\"],[0.6666666666666666,\"#ed7953\"],[0.7777777777777778,\"#fb9f3a\"],[0.8888888888888888,\"#fdca26\"],[1.0,\"#f0f921\"]]}],\"contourcarpet\":[{\"type\":\"contourcarpet\",\"colorbar\":{\"outlinewidth\":0,\"ticks\":\"\"}}],\"contour\":[{\"type\":\"contour\",\"colorbar\":{\"outlinewidth\":0,\"ticks\":\"\"},\"colorscale\":[[0.0,\"#0d0887\"],[0.1111111111111111,\"#46039f\"],[0.2222222222222222,\"#7201a8\"],[0.3333333333333333,\"#9c179e\"],[0.4444444444444444,\"#bd3786\"],[0.5555555555555556,\"#d8576b\"],[0.6666666666666666,\"#ed7953\"],[0.7777777777777778,\"#fb9f3a\"],[0.8888888888888888,\"#fdca26\"],[1.0,\"#f0f921\"]]}],\"surface\":[{\"type\":\"surface\",\"colorbar\":{\"outlinewidth\":0,\"ticks\":\"\"},\"colorscale\":[[0.0,\"#0d0887\"],[0.1111111111111111,\"#46039f\"],[0.2222222222222222,\"#7201a8\"],[0.3333333333333333,\"#9c179e\"],[0.4444444444444444,\"#bd3786\"],[0.5555555555555556,\"#d8576b\"],[0.6666666666666666,\"#ed7953\"],[0.7777777777777778,\"#fb9f3a\"],[0.8888888888888888,\"#fdca26\"],[1.0,\"#f0f921\"]]}],\"mesh3d\":[{\"type\":\"mesh3d\",\"colorbar\":{\"outlinewidth\":0,\"ticks\":\"\"}}],\"scatter\":[{\"fillpattern\":{\"fillmode\":\"overlay\",\"size\":10,\"solidity\":0.2},\"type\":\"scatter\"}],\"parcoords\":[{\"type\":\"parcoords\",\"line\":{\"colorbar\":{\"outlinewidth\":0,\"ticks\":\"\"}}}],\"scatterpolargl\":[{\"type\":\"scatterpolargl\",\"marker\":{\"colorbar\":{\"outlinewidth\":0,\"ticks\":\"\"}}}],\"bar\":[{\"error_x\":{\"color\":\"#2a3f5f\"},\"error_y\":{\"color\":\"#2a3f5f\"},\"marker\":{\"line\":{\"color\":\"#E5ECF6\",\"width\":0.5},\"pattern\":{\"fillmode\":\"overlay\",\"size\":10,\"solidity\":0.2}},\"type\":\"bar\"}],\"scattergeo\":[{\"type\":\"scattergeo\",\"marker\":{\"colorbar\":{\"outlinewidth\":0,\"ticks\":\"\"}}}],\"scatterpolar\":[{\"type\":\"scatterpolar\",\"marker\":{\"colorbar\":{\"outlinewidth\":0,\"ticks\":\"\"}}}],\"histogram\":[{\"marker\":{\"pattern\":{\"fillmode\":\"overlay\",\"size\":10,\"solidity\":0.2}},\"type\":\"histogram\"}],\"scattergl\":[{\"type\":\"scattergl\",\"marker\":{\"colorbar\":{\"outlinewidth\":0,\"ticks\":\"\"}}}],\"scatter3d\":[{\"type\":\"scatter3d\",\"line\":{\"colorbar\":{\"outlinewidth\":0,\"ticks\":\"\"}},\"marker\":{\"colorbar\":{\"outlinewidth\":0,\"ticks\":\"\"}}}],\"scattermapbox\":[{\"type\":\"scattermapbox\",\"marker\":{\"colorbar\":{\"outlinewidth\":0,\"ticks\":\"\"}}}],\"scatterternary\":[{\"type\":\"scatterternary\",\"marker\":{\"colorbar\":{\"outlinewidth\":0,\"ticks\":\"\"}}}],\"scattercarpet\":[{\"type\":\"scattercarpet\",\"marker\":{\"colorbar\":{\"outlinewidth\":0,\"ticks\":\"\"}}}],\"carpet\":[{\"aaxis\":{\"endlinecolor\":\"#2a3f5f\",\"gridcolor\":\"white\",\"linecolor\":\"white\",\"minorgridcolor\":\"white\",\"startlinecolor\":\"#2a3f5f\"},\"baxis\":{\"endlinecolor\":\"#2a3f5f\",\"gridcolor\":\"white\",\"linecolor\":\"white\",\"minorgridcolor\":\"white\",\"startlinecolor\":\"#2a3f5f\"},\"type\":\"carpet\"}],\"table\":[{\"cells\":{\"fill\":{\"color\":\"#EBF0F8\"},\"line\":{\"color\":\"white\"}},\"header\":{\"fill\":{\"color\":\"#C8D4E3\"},\"line\":{\"color\":\"white\"}},\"type\":\"table\"}],\"barpolar\":[{\"marker\":{\"line\":{\"color\":\"#E5ECF6\",\"width\":0.5},\"pattern\":{\"fillmode\":\"overlay\",\"size\":10,\"solidity\":0.2}},\"type\":\"barpolar\"}],\"pie\":[{\"automargin\":true,\"type\":\"pie\"}]},\"layout\":{\"autotypenumbers\":\"strict\",\"colorway\":[\"#636efa\",\"#EF553B\",\"#00cc96\",\"#ab63fa\",\"#FFA15A\",\"#19d3f3\",\"#FF6692\",\"#B6E880\",\"#FF97FF\",\"#FECB52\"],\"font\":{\"color\":\"#2a3f5f\"},\"hovermode\":\"closest\",\"hoverlabel\":{\"align\":\"left\"},\"paper_bgcolor\":\"white\",\"plot_bgcolor\":\"#E5ECF6\",\"polar\":{\"bgcolor\":\"#E5ECF6\",\"angularaxis\":{\"gridcolor\":\"white\",\"linecolor\":\"white\",\"ticks\":\"\"},\"radialaxis\":{\"gridcolor\":\"white\",\"linecolor\":\"white\",\"ticks\":\"\"}},\"ternary\":{\"bgcolor\":\"#E5ECF6\",\"aaxis\":{\"gridcolor\":\"white\",\"linecolor\":\"white\",\"ticks\":\"\"},\"baxis\":{\"gridcolor\":\"white\",\"linecolor\":\"white\",\"ticks\":\"\"},\"caxis\":{\"gridcolor\":\"white\",\"linecolor\":\"white\",\"ticks\":\"\"}},\"coloraxis\":{\"colorbar\":{\"outlinewidth\":0,\"ticks\":\"\"}},\"colorscale\":{\"sequential\":[[0.0,\"#0d0887\"],[0.1111111111111111,\"#46039f\"],[0.2222222222222222,\"#7201a8\"],[0.3333333333333333,\"#9c179e\"],[0.4444444444444444,\"#bd3786\"],[0.5555555555555556,\"#d8576b\"],[0.6666666666666666,\"#ed7953\"],[0.7777777777777778,\"#fb9f3a\"],[0.8888888888888888,\"#fdca26\"],[1.0,\"#f0f921\"]],\"sequentialminus\":[[0.0,\"#0d0887\"],[0.1111111111111111,\"#46039f\"],[0.2222222222222222,\"#7201a8\"],[0.3333333333333333,\"#9c179e\"],[0.4444444444444444,\"#bd3786\"],[0.5555555555555556,\"#d8576b\"],[0.6666666666666666,\"#ed7953\"],[0.7777777777777778,\"#fb9f3a\"],[0.8888888888888888,\"#fdca26\"],[1.0,\"#f0f921\"]],\"diverging\":[[0,\"#8e0152\"],[0.1,\"#c51b7d\"],[0.2,\"#de77ae\"],[0.3,\"#f1b6da\"],[0.4,\"#fde0ef\"],[0.5,\"#f7f7f7\"],[0.6,\"#e6f5d0\"],[0.7,\"#b8e186\"],[0.8,\"#7fbc41\"],[0.9,\"#4d9221\"],[1,\"#276419\"]]},\"xaxis\":{\"gridcolor\":\"white\",\"linecolor\":\"white\",\"ticks\":\"\",\"title\":{\"standoff\":15},\"zerolinecolor\":\"white\",\"automargin\":true,\"zerolinewidth\":2},\"yaxis\":{\"gridcolor\":\"white\",\"linecolor\":\"white\",\"ticks\":\"\",\"title\":{\"standoff\":15},\"zerolinecolor\":\"white\",\"automargin\":true,\"zerolinewidth\":2},\"scene\":{\"xaxis\":{\"backgroundcolor\":\"#E5ECF6\",\"gridcolor\":\"white\",\"linecolor\":\"white\",\"showbackground\":true,\"ticks\":\"\",\"zerolinecolor\":\"white\",\"gridwidth\":2},\"yaxis\":{\"backgroundcolor\":\"#E5ECF6\",\"gridcolor\":\"white\",\"linecolor\":\"white\",\"showbackground\":true,\"ticks\":\"\",\"zerolinecolor\":\"white\",\"gridwidth\":2},\"zaxis\":{\"backgroundcolor\":\"#E5ECF6\",\"gridcolor\":\"white\",\"linecolor\":\"white\",\"showbackground\":true,\"ticks\":\"\",\"zerolinecolor\":\"white\",\"gridwidth\":2}},\"shapedefaults\":{\"line\":{\"color\":\"#2a3f5f\"}},\"annotationdefaults\":{\"arrowcolor\":\"#2a3f5f\",\"arrowhead\":0,\"arrowwidth\":1},\"geo\":{\"bgcolor\":\"white\",\"landcolor\":\"#E5ECF6\",\"subunitcolor\":\"white\",\"showland\":true,\"showlakes\":true,\"lakecolor\":\"white\"},\"title\":{\"x\":0.05},\"mapbox\":{\"style\":\"light\"}}},\"hoverlabel\":{\"align\":\"right\"},\"xaxis\":{\"title\":{\"text\":\"\\u30a2\\u30bf\\u30c3\\u30af\\u6c7a\\u5b9a\\u7387\"}},\"yaxis\":{\"title\":{\"text\":\"1\\u30bb\\u30c3\\u30c8\\u3042\\u305f\\u308a\\u306e\\u30d6\\u30ed\\u30c3\\u30af\\u6c7a\\u5b9a\\u672c\\u6570\"}},\"hovermode\":\"closest\",\"title\":{\"text\":\"\\u30b5\\u30f3\\u30c8\\u30ea\\u30fc\\u30b5\\u30f3\\u30d0\\u30fc\\u30ba\"},\"width\":1000,\"height\":800},                        {\"responsive\": true}                    ).then(function(){\n",
       "                            \n",
       "var gd = document.getElementById('3817df1d-78d4-4082-a9d1-7f769b9054db');\n",
       "var x = new MutationObserver(function (mutations, observer) {{\n",
       "        var display = window.getComputedStyle(gd).display;\n",
       "        if (!display || display === 'none') {{\n",
       "            console.log([gd, 'removed!']);\n",
       "            Plotly.purge(gd);\n",
       "            observer.disconnect();\n",
       "        }}\n",
       "}});\n",
       "\n",
       "// Listen for the removal of the full notebook cells\n",
       "var notebookContainer = gd.closest('#notebook-container');\n",
       "if (notebookContainer) {{\n",
       "    x.observe(notebookContainer, {childList: true});\n",
       "}}\n",
       "\n",
       "// Listen for the clearing of the current output cell\n",
       "var outputEl = gd.closest('.output');\n",
       "if (outputEl) {{\n",
       "    x.observe(outputEl, {childList: true});\n",
       "}}\n",
       "\n",
       "                        })                };                });            </script>        </div>"
      ]
     },
     "metadata": {},
     "output_type": "display_data"
    }
   ],
   "source": [
    "# fig = px.scatter(team_player_total,x='ASucc%',y='BP/S',color='Team',size='Set',color_discrete_map=dict_att_color[division])\n",
    "fig = go.Figure()\n",
    "fig.add_trace(\n",
    "    go.Scatter(\n",
    "#         x=team_player_total['ASucc%'],\n",
    "#         y=team_player_total['BP/S'],\n",
    "        x=team_player_total['アタック決定率'],\n",
    "        y=team_player_total['ブロックセット平均'],\n",
    "\n",
    "        mode='markers+text',\n",
    "        marker={\n",
    "#             'size': team_player_total['Set']*0.3,\n",
    "            'size': team_player_total['アタック打数']*0.1,\n",
    "            'symbol': 'circle',\n",
    "            'color': dict_att_color[division][team]\n",
    "#             'color': team,\n",
    "        },\n",
    "        text=player,\n",
    "        textposition='top center',\n",
    "    )\n",
    ")\n",
    "fig.update_layout(\n",
    "    xaxis={'title': 'アタック決定率'},\n",
    "    yaxis={'title': '1セットあたりのブロック決定本数'},\n",
    "    hovermode='closest',\n",
    "    hoverlabel_align='right',\n",
    "    title='{}'.format(team),\n",
    "    width=1000,\n",
    "    height=800,\n",
    "#     xaxis_range=(30,65),\n",
    "#     yaxis_range=(-0.01,1)\n",
    ")\n",
    "fig.write_image('test.jpg')\n",
    "fig.show()"
   ]
  },
  {
   "cell_type": "code",
   "execution_count": 10,
   "id": "46c777ea-c2eb-4d21-bb60-98062952992c",
   "metadata": {},
   "outputs": [
    {
     "ename": "NameError",
     "evalue": "name 'team_db_total' is not defined",
     "output_type": "error",
     "traceback": [
      "\u001b[1;31m---------------------------------------------------------------------------\u001b[0m",
      "\u001b[1;31mNameError\u001b[0m                                 Traceback (most recent call last)",
      "\u001b[1;32m<ipython-input-10-946af14898e7>\u001b[0m in \u001b[0;36m<module>\u001b[1;34m\u001b[0m\n\u001b[1;32m----> 1\u001b[1;33m \u001b[0mteam_db_total\u001b[0m \u001b[1;33m=\u001b[0m \u001b[0mstats_calc\u001b[0m\u001b[1;33m(\u001b[0m\u001b[0mteam_db_total\u001b[0m\u001b[1;33m)\u001b[0m\u001b[1;33m\u001b[0m\u001b[1;33m\u001b[0m\u001b[0m\n\u001b[0m\u001b[0;32m      2\u001b[0m \u001b[0mteam_db_total\u001b[0m\u001b[1;33m\u001b[0m\u001b[1;33m\u001b[0m\u001b[0m\n",
      "\u001b[1;31mNameError\u001b[0m: name 'team_db_total' is not defined"
     ]
    }
   ],
   "source": [
    "team_db_total = stats_calc(team_db_total)\n",
    "team_db_total"
   ]
  },
  {
   "cell_type": "code",
   "execution_count": 11,
   "id": "961055d6-4163-44ec-b331-fa0f3016e5a9",
   "metadata": {},
   "outputs": [
    {
     "ename": "NameError",
     "evalue": "name 'team_db_total' is not defined",
     "output_type": "error",
     "traceback": [
      "\u001b[1;31m---------------------------------------------------------------------------\u001b[0m",
      "\u001b[1;31mNameError\u001b[0m                                 Traceback (most recent call last)",
      "\u001b[1;32m<ipython-input-11-c6310dbfa355>\u001b[0m in \u001b[0;36m<module>\u001b[1;34m\u001b[0m\n\u001b[1;32m----> 1\u001b[1;33m \u001b[0mteam_db_main\u001b[0m \u001b[1;33m=\u001b[0m \u001b[0mteam_db_total\u001b[0m\u001b[1;33m[\u001b[0m\u001b[1;33m[\u001b[0m\u001b[1;34m'ASucc%'\u001b[0m\u001b[1;33m,\u001b[0m \u001b[1;34m'BASucc%'\u001b[0m\u001b[1;33m,\u001b[0m \u001b[1;34m'BP/S'\u001b[0m\u001b[1;33m,\u001b[0m \u001b[1;34m'SVEff%'\u001b[0m\u001b[1;33m,\u001b[0m \u001b[1;34m'RSucc%'\u001b[0m\u001b[1;33m]\u001b[0m\u001b[1;33m]\u001b[0m\u001b[1;33m\u001b[0m\u001b[1;33m\u001b[0m\u001b[0m\n\u001b[0m\u001b[0;32m      2\u001b[0m \u001b[0mteam_db_main\u001b[0m\u001b[1;33m\u001b[0m\u001b[1;33m\u001b[0m\u001b[0m\n",
      "\u001b[1;31mNameError\u001b[0m: name 'team_db_total' is not defined"
     ]
    }
   ],
   "source": [
    "team_db_main = team_db_total[['ASucc%', 'BASucc%', 'BP/S', 'SVEff%', 'RSucc%']]\n",
    "team_db_main"
   ]
  },
  {
   "cell_type": "code",
   "execution_count": 12,
   "id": "cff03cd1-4c52-40ec-9257-4e376a0f429a",
   "metadata": {},
   "outputs": [
    {
     "ename": "NameError",
     "evalue": "name 'team_db_main' is not defined",
     "output_type": "error",
     "traceback": [
      "\u001b[1;31m---------------------------------------------------------------------------\u001b[0m",
      "\u001b[1;31mNameError\u001b[0m                                 Traceback (most recent call last)",
      "\u001b[1;32m<ipython-input-12-f98fe4a6cc20>\u001b[0m in \u001b[0;36m<module>\u001b[1;34m\u001b[0m\n\u001b[0;32m     26\u001b[0m     ]\n\u001b[0;32m     27\u001b[0m }\n\u001b[1;32m---> 28\u001b[1;33m \u001b[0mteam_db_main_std\u001b[0m \u001b[1;33m=\u001b[0m \u001b[0mteam_db_main\u001b[0m\u001b[1;33m.\u001b[0m\u001b[0mapply\u001b[0m\u001b[1;33m(\u001b[0m\u001b[1;32mlambda\u001b[0m \u001b[0mx\u001b[0m\u001b[1;33m:\u001b[0m \u001b[1;33m(\u001b[0m\u001b[0mx\u001b[0m\u001b[1;33m-\u001b[0m\u001b[0mx\u001b[0m\u001b[1;33m.\u001b[0m\u001b[0mmean\u001b[0m\u001b[1;33m(\u001b[0m\u001b[1;33m)\u001b[0m\u001b[1;33m)\u001b[0m\u001b[1;33m/\u001b[0m\u001b[0mx\u001b[0m\u001b[1;33m.\u001b[0m\u001b[0mstd\u001b[0m\u001b[1;33m(\u001b[0m\u001b[1;33m)\u001b[0m\u001b[1;33m)\u001b[0m\u001b[1;33m.\u001b[0m\u001b[0mreindex\u001b[0m\u001b[1;33m(\u001b[0m\u001b[0mindex\u001b[0m\u001b[1;33m=\u001b[0m\u001b[0mindex\u001b[0m\u001b[1;33m[\u001b[0m\u001b[0mdivision\u001b[0m\u001b[1;33m]\u001b[0m\u001b[1;33m)\u001b[0m\u001b[1;33m\u001b[0m\u001b[1;33m\u001b[0m\u001b[0m\n\u001b[0m\u001b[0;32m     29\u001b[0m \u001b[0mteam_db_main_std\u001b[0m\u001b[1;33m\u001b[0m\u001b[1;33m\u001b[0m\u001b[0m\n",
      "\u001b[1;31mNameError\u001b[0m: name 'team_db_main' is not defined"
     ]
    }
   ],
   "source": [
    "index={\n",
    "    \"v1_m\": [\n",
    "        \"サントリーサンバーズ\",\"ウルフドッグス名古屋\",\"パナソニックパンサーズ\",\"東レアローズ\",\n",
    "        \"堺ブレイザーズ\",\"JTサンダーズ広島\",\"ジェイテクトSTINGS\",\"FC東京\",\n",
    "        \"大分三好ヴァイセアドラー\",\"VC長野トライデンツ\"\n",
    "    ],\n",
    "    \"v2_m\": [\n",
    "        \"ヴォレアス北海道\",\"富士通カワサキレッドスピリッツ\",\"ヴィアティン三重\", \n",
    "        \"埼玉アザレア\",\"サフィルヴァ北海道\",\"大同特殊鋼レッドスター\",\n",
    "        \"兵庫デルフィーノ\",\"きんでんトリニティーブリッツ\",\"つくばユナイテッドSunGAIA\",\n",
    "        \"トヨタ自動車サンホークス\",\"奈良ドリーマーズ\",\"警視庁フォートファイターズ\",\n",
    "        \"東京ヴェルディ\",\"クボタスピアーズ\",\"千葉ZELVA\"\n",
    "    ],\n",
    "    \"v3_m\": [\n",
    "        \"アイシンティルマーレ\",\"近畿クラブスフィーダ\",\"長野GaRons\",\"トヨタモビリティ東京スパークル\"\n",
    "    ],\n",
    "    \"v1_w\": [\n",
    "        \"JTマーヴェラス\",\"東レアローズ\",\"久光スプリングス\",\"NECレッドロケッツ\",\n",
    "        \"埼玉上尾メディックス\",\"デンソーエアリービーズ\",\"日立Astemoリヴァーレ\",\"PFUブルーキャッツ\",\n",
    "        \"岡山シーガルズ\",\"トヨタ車体クインシーズ\",\"ヴィクトリーナ姫路\",\"KUROBEアクアフェアリーズ\"\n",
    "    ],\n",
    "    \"v2_w\": [\n",
    "        \"群馬銀行グリーンウィングス\",\"ルートインホテルズブリリアントアリーズ\",\"プレステージ・インターナショナルアランマーレ\",\n",
    "        \"GSS東京サンビームズ\",\"千葉エンゼルクロス\",\"リガーレ仙台\",\"ブレス浜松\",\n",
    "        \"大野石油広島オイラーズ\",\"JAぎふリオレーナ\",\"フォレストリーブズ熊本\"\n",
    "    ]\n",
    "}\n",
    "team_db_main_std = team_db_main.apply(lambda x: (x-x.mean())/x.std()).reindex(index=index[division])\n",
    "team_db_main_std"
   ]
  },
  {
   "cell_type": "code",
   "execution_count": 13,
   "id": "d0c386a6-e49d-4008-9988-99684bfb3dc8",
   "metadata": {},
   "outputs": [
    {
     "ename": "NameError",
     "evalue": "name 'team_db_main_std' is not defined",
     "output_type": "error",
     "traceback": [
      "\u001b[1;31m---------------------------------------------------------------------------\u001b[0m",
      "\u001b[1;31mNameError\u001b[0m                                 Traceback (most recent call last)",
      "\u001b[1;32m<ipython-input-13-c6734e3a4cdf>\u001b[0m in \u001b[0;36m<module>\u001b[1;34m\u001b[0m\n\u001b[0;32m      1\u001b[0m \u001b[0mplt\u001b[0m\u001b[1;33m.\u001b[0m\u001b[0mfigure\u001b[0m\u001b[1;33m(\u001b[0m\u001b[0mfigsize\u001b[0m\u001b[1;33m=\u001b[0m\u001b[1;33m(\u001b[0m\u001b[1;36m8\u001b[0m\u001b[1;33m,\u001b[0m\u001b[1;36m6\u001b[0m\u001b[1;33m)\u001b[0m\u001b[1;33m)\u001b[0m\u001b[1;33m\u001b[0m\u001b[1;33m\u001b[0m\u001b[0m\n\u001b[0;32m      2\u001b[0m \u001b[1;31m# sns.set(font_scale=2)\u001b[0m\u001b[1;33m\u001b[0m\u001b[1;33m\u001b[0m\u001b[1;33m\u001b[0m\u001b[0m\n\u001b[1;32m----> 3\u001b[1;33m \u001b[0msns\u001b[0m\u001b[1;33m.\u001b[0m\u001b[0mheatmap\u001b[0m\u001b[1;33m(\u001b[0m\u001b[0mteam_db_main_std\u001b[0m\u001b[1;33m,\u001b[0m \u001b[0mannot\u001b[0m\u001b[1;33m=\u001b[0m\u001b[1;32mTrue\u001b[0m\u001b[1;33m,\u001b[0m \u001b[0mcmap\u001b[0m\u001b[1;33m=\u001b[0m\u001b[1;34m'bwr'\u001b[0m\u001b[1;33m,\u001b[0m\u001b[0mvmax\u001b[0m\u001b[1;33m=\u001b[0m\u001b[1;36m2\u001b[0m\u001b[1;33m,\u001b[0m \u001b[0mvmin\u001b[0m\u001b[1;33m=\u001b[0m\u001b[1;33m-\u001b[0m\u001b[1;36m2\u001b[0m\u001b[1;33m)\u001b[0m\u001b[1;33m\u001b[0m\u001b[1;33m\u001b[0m\u001b[0m\n\u001b[0m\u001b[0;32m      4\u001b[0m \u001b[0mplt\u001b[0m\u001b[1;33m.\u001b[0m\u001b[0msavefig\u001b[0m\u001b[1;33m(\u001b[0m\u001b[1;34m'test.png'\u001b[0m\u001b[1;33m,\u001b[0m \u001b[0mfacecolor\u001b[0m\u001b[1;33m=\u001b[0m\u001b[1;34m'white'\u001b[0m\u001b[1;33m,\u001b[0m\u001b[0mbbox_inches\u001b[0m\u001b[1;33m=\u001b[0m\u001b[1;34m\"tight\"\u001b[0m\u001b[1;33m)\u001b[0m\u001b[1;33m\u001b[0m\u001b[1;33m\u001b[0m\u001b[0m\n\u001b[0;32m      5\u001b[0m \u001b[0mplt\u001b[0m\u001b[1;33m.\u001b[0m\u001b[0mshow\u001b[0m\u001b[1;33m(\u001b[0m\u001b[1;33m)\u001b[0m\u001b[1;33m\u001b[0m\u001b[1;33m\u001b[0m\u001b[0m\n",
      "\u001b[1;31mNameError\u001b[0m: name 'team_db_main_std' is not defined"
     ]
    },
    {
     "data": {
      "text/plain": [
       "<Figure size 576x432 with 0 Axes>"
      ]
     },
     "metadata": {},
     "output_type": "display_data"
    }
   ],
   "source": [
    "plt.figure(figsize=(8,6))\n",
    "# sns.set(font_scale=2)\n",
    "sns.heatmap(team_db_main_std, annot=True, cmap='bwr',vmax=2, vmin=-2)\n",
    "plt.savefig('test.png', facecolor='white',bbox_inches=\"tight\")\n",
    "plt.show()"
   ]
  },
  {
   "cell_type": "code",
   "execution_count": null,
   "id": "8ebf3ee4-dadd-4705-9794-b9d19b07a576",
   "metadata": {},
   "outputs": [],
   "source": []
  },
  {
   "cell_type": "code",
   "execution_count": null,
   "id": "75ed3b34-eefe-4790-b33a-36d27749460a",
   "metadata": {},
   "outputs": [],
   "source": []
  }
 ],
 "metadata": {
  "kernelspec": {
   "display_name": "Python 3",
   "language": "python",
   "name": "python3"
  },
  "language_info": {
   "codemirror_mode": {
    "name": "ipython",
    "version": 3
   },
   "file_extension": ".py",
   "mimetype": "text/x-python",
   "name": "python",
   "nbconvert_exporter": "python",
   "pygments_lexer": "ipython3",
   "version": "3.8.8"
  }
 },
 "nbformat": 4,
 "nbformat_minor": 5
}
