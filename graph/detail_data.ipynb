{
 "cells": [
  {
   "cell_type": "code",
   "execution_count": 38,
   "id": "9cd818e3-ae41-46a1-85fc-7ce02963a00f",
   "metadata": {},
   "outputs": [],
   "source": [
    "import time\n",
    "import os\n",
    "import re\n",
    "import datetime\n",
    "import glob\n",
    "\n",
    "import numpy as np\n",
    "import pandas as pd\n",
    "import seaborn as sns\n",
    "import matplotlib.pyplot as plt\n",
    "import japanize_matplotlib\n",
    "\n",
    "import plotly.express as px\n",
    "import plotly.graph_objects as go\n",
    "\n",
    "# from sklearn.model_selection import train_test_split\n",
    "# from sklearn.linear_model import LogisticRegression\n",
    "# from sklearn.metrics import accuracy_score\n",
    "\n",
    "# ディビジョンを日本語に\n",
    "def div_ja(division):\n",
    "    sex = '男子' if division[-1]=='m' else '女子'\n",
    "    return 'V{0}{1}'.format(division[1], sex)"
   ]
  },
  {
   "cell_type": "code",
   "execution_count": 29,
   "id": "27ac2c6b-21d7-417a-924f-88660ca290bd",
   "metadata": {},
   "outputs": [],
   "source": [
    "def stats_calc(df):\n",
    "    df['Set'] = df['Win_Set'] + df['Lose_Set']\n",
    "    df['ASucc%'] = ((df['AP'] / df['AA']) * 100).round(1)\n",
    "    df['AEff%'] = (((df['AP']-df['AE']) /\n",
    "                     df['AA']) * 100).round(1)\n",
    "    df['BASucc%'] = ((df['BAP'] / df['BAA']) * 100).round(1)\n",
    "    df['AP/S'] = (df['AP'] / df['Set']).round(2)\n",
    "    df['BP/S'] = (df['BP'] / df['Set']).round(2)\n",
    "    df['SVEff%'] = ((df['SVP'] * 100 + df['SVx'] * 25 -\n",
    "                    df['SVE'] * 25) / df['SVA']).round(1)\n",
    "    df['RSucc%'] = (\n",
    "        (df['Rx'] * 100 + df['Rg'] * 50) / df['RA']).round(1)\n",
    "    return df\n",
    "\n",
    "dict_att_color = {\n",
    "    'v1_m':{\n",
    "        'ジェイテクトSTINGS': '#b2b2b2',\n",
    "        'JTサンダーズ広島': '#00cb65',\n",
    "        'VC長野トライデンツ': '#980000',\n",
    "        '東レアローズ': '#0000ff',\n",
    "        '堺ブレイザーズ': '#ffff00',\n",
    "        '大分三好ヴァイセアドラー': '#3232ff',\n",
    "        'サントリーサンバーズ': '#ff003f',\n",
    "        'FC東京': '#0032cb',\n",
    "        'パナソニックパンサーズ': '#000065',\n",
    "        'ウルフドッグス名古屋': '#000000'\n",
    "    },\n",
    "    'v2_m':{\n",
    "        '警視庁フォートファイターズ': '#b2b2b2',\n",
    "        '千葉ZELVA': '#9932ff',\n",
    "        'トヨタ自動車サンホークス': '#004c98',\n",
    "        '奈良ドリーマーズ': '#006532',\n",
    "        'ヴォレアス北海道': '#cb0032',\n",
    "        '埼玉アザレア': '#cb0098',\n",
    "        'サフィルヴァ北海道': '#ffff00',\n",
    "        'ヴィアティン三重': '#ff3f00',\n",
    "        '大同特殊鋼レッドスター': '#984c00',\n",
    "        '兵庫デルフィーノ': '#007fff',\n",
    "        '富士通カワサキレッドスピリッツ': '#ff0000',\n",
    "        'クボタスピアーズ': '#00ffff',\n",
    "        'つくばユナイテッドSunGAIA': '#009872',\n",
    "        'きんでんトリニティーブリッツ': '#00984c',\n",
    "        '東京ヴェルディ': '#009826',        \n",
    "    },\n",
    "    'v3_m':{\n",
    "        '長野GaRons': '#003fff',\n",
    "        'アイシンティルマーレ': '#3299ff',\n",
    "        'トヨタモビリティ東京スパークル': '#ff3232',\n",
    "        '近畿クラブスフィーダ': '#000000'\n",
    "    },\n",
    "    'v1_w':{\n",
    "        '東レアローズ':'#0018fa', \n",
    "        'ヴィクトリーナ姫路':'#fa00bd',\n",
    "        'トヨタ車体クインシーズ':'#0a1899',\n",
    "        'JTマーヴェラス':'#00b348',\n",
    "        'NECレッドロケッツ': '#ff003f',\n",
    "        'KUROBEアクアフェアリーズ': '#00ebe3',\n",
    "        'デンソーエアリービーズ': '#ff3232',\n",
    "        'PFUブルーキャッツ': '#1000fa',\n",
    "        '久光スプリングス': '#7ce01f',\n",
    "        '日立Astemoリヴァーレ': '#8b00bb',\n",
    "        '岡山シーガルズ': '#8adeff',\n",
    "        '埼玉上尾メディックス': '#000000'\n",
    "    },\n",
    "    'v2_w':{\n",
    "        'ブレス浜松': '#32ccff',\n",
    "        'JAぎふリオレーナ': '#99e5ff',\n",
    "        'プレステージ・インターナショナルアランマーレ': '#ff3f00',\n",
    "        '千葉エンゼルクロス': '#980026',\n",
    "        '群馬銀行グリーンウイングス': '#00cb65',\n",
    "        'リガーレ仙台': '#ff0000',\n",
    "        'ルートインホテルズブリリアントアリーズ': '#ff99e5',\n",
    "        'GSS東京サンビームズ': '#269800',\n",
    "        'フォレストリーヴズ熊本': '#00984c',\n",
    "        '大野石油広島オイラーズ': '#3265ff'\n",
    "    }\n",
    "}"
   ]
  },
  {
   "cell_type": "code",
   "execution_count": 2,
   "id": "582f93ab-f763-40b0-ade4-17e4e0353c75",
   "metadata": {},
   "outputs": [
    {
     "name": "stdout",
     "output_type": "stream",
     "text": [
      "['../database/v1_w\\\\teamdb_1999-00_regular.csv', '../database/v1_w\\\\teamdb_2000-01_regular.csv', '../database/v1_w\\\\teamdb_2001-02_regular.csv', '../database/v1_w\\\\teamdb_2002-03_regular.csv', '../database/v1_w\\\\teamdb_2003-04_regular.csv', '../database/v1_w\\\\teamdb_2004-05_regular.csv', '../database/v1_w\\\\teamdb_2005-06_regular.csv', '../database/v1_w\\\\teamdb_2006-07_regular.csv', '../database/v1_w\\\\teamdb_2007-08_regular.csv', '../database/v1_w\\\\teamdb_2008-09_regular.csv', '../database/v1_w\\\\teamdb_2009-10_regular.csv', '../database/v1_w\\\\teamdb_2010-11_regular.csv', '../database/v1_w\\\\teamdb_2011-12_regular.csv', '../database/v1_w\\\\teamdb_2012-13_regular.csv', '../database/v1_w\\\\teamdb_2013-14_regular.csv', '../database/v1_w\\\\teamdb_2014-15_regular.csv', '../database/v1_w\\\\teamdb_2015-16_regular.csv', '../database/v1_w\\\\teamdb_2016-17_regular.csv', '../database/v1_w\\\\teamdb_2017-18_regular.csv', '../database/v1_w\\\\teamdb_2018-19_regular.csv', '../database/v1_w\\\\teamdb_2019-20_regular.csv', '../database/v1_w\\\\teamdb_2020-21_regular.csv', '../database/v1_w\\\\teamdb_2021-22_regular.csv']\n"
     ]
    }
   ],
   "source": [
    "division = 'v1_w'\n",
    "paths = glob.glob('../database/{}/teamdb_*'.format(division))\n",
    "# paths = paths[-5:]\n",
    "print(paths)"
   ]
  },
  {
   "cell_type": "code",
   "execution_count": 72,
   "id": "feab84f9-f551-4544-8c23-736ae5aa9c1b",
   "metadata": {},
   "outputs": [
    {
     "data": {
      "text/html": [
       "<div>\n",
       "<style scoped>\n",
       "    .dataframe tbody tr th:only-of-type {\n",
       "        vertical-align: middle;\n",
       "    }\n",
       "\n",
       "    .dataframe tbody tr th {\n",
       "        vertical-align: top;\n",
       "    }\n",
       "\n",
       "    .dataframe thead th {\n",
       "        text-align: right;\n",
       "    }\n",
       "</style>\n",
       "<table border=\"1\" class=\"dataframe\">\n",
       "  <thead>\n",
       "    <tr style=\"text-align: right;\">\n",
       "      <th></th>\n",
       "      <th>名前</th>\n",
       "      <th>チーム</th>\n",
       "      <th>背番号</th>\n",
       "      <th>得セット</th>\n",
       "      <th>失セット</th>\n",
       "      <th>勝敗</th>\n",
       "      <th>出場数</th>\n",
       "      <th>アタック打数</th>\n",
       "      <th>アタック得点</th>\n",
       "      <th>アタック失点</th>\n",
       "      <th>...</th>\n",
       "      <th>サーブ効果</th>\n",
       "      <th>受数</th>\n",
       "      <th>サーブレシーブ成功・優</th>\n",
       "      <th>サーブレシーブ成功・良</th>\n",
       "      <th>総得点</th>\n",
       "      <th>バックアタック決定率</th>\n",
       "      <th>アタックセット平均</th>\n",
       "      <th>ブロックセット平均</th>\n",
       "      <th>サーブ効果率</th>\n",
       "      <th>サーブレシーブ成功率</th>\n",
       "    </tr>\n",
       "  </thead>\n",
       "  <tbody>\n",
       "    <tr>\n",
       "      <th>0</th>\n",
       "      <td>エスペホマーク</td>\n",
       "      <td>FC東京</td>\n",
       "      <td>15</td>\n",
       "      <td>37</td>\n",
       "      <td>69</td>\n",
       "      <td>8</td>\n",
       "      <td>81</td>\n",
       "      <td>506</td>\n",
       "      <td>188</td>\n",
       "      <td>42</td>\n",
       "      <td>...</td>\n",
       "      <td>52</td>\n",
       "      <td>482</td>\n",
       "      <td>183</td>\n",
       "      <td>139</td>\n",
       "      <td>224</td>\n",
       "      <td>49.3</td>\n",
       "      <td>2.32</td>\n",
       "      <td>0.31</td>\n",
       "      <td>3.6</td>\n",
       "      <td>52.4</td>\n",
       "    </tr>\n",
       "    <tr>\n",
       "      <th>1</th>\n",
       "      <td>エドガートーマス</td>\n",
       "      <td>JTサンダーズ広島</td>\n",
       "      <td>6</td>\n",
       "      <td>65</td>\n",
       "      <td>67</td>\n",
       "      <td>15</td>\n",
       "      <td>132</td>\n",
       "      <td>1509</td>\n",
       "      <td>750</td>\n",
       "      <td>111</td>\n",
       "      <td>...</td>\n",
       "      <td>126</td>\n",
       "      <td>1</td>\n",
       "      <td>0</td>\n",
       "      <td>0</td>\n",
       "      <td>837</td>\n",
       "      <td>55.5</td>\n",
       "      <td>5.68</td>\n",
       "      <td>0.30</td>\n",
       "      <td>9.2</td>\n",
       "      <td>0.0</td>\n",
       "    </tr>\n",
       "    <tr>\n",
       "      <th>2</th>\n",
       "      <td>エバデダンラリー</td>\n",
       "      <td>パナソニックパンサーズ</td>\n",
       "      <td>23</td>\n",
       "      <td>40</td>\n",
       "      <td>17</td>\n",
       "      <td>12</td>\n",
       "      <td>28</td>\n",
       "      <td>48</td>\n",
       "      <td>31</td>\n",
       "      <td>2</td>\n",
       "      <td>...</td>\n",
       "      <td>17</td>\n",
       "      <td>11</td>\n",
       "      <td>5</td>\n",
       "      <td>3</td>\n",
       "      <td>41</td>\n",
       "      <td>NaN</td>\n",
       "      <td>1.11</td>\n",
       "      <td>0.36</td>\n",
       "      <td>2.3</td>\n",
       "      <td>59.1</td>\n",
       "    </tr>\n",
       "    <tr>\n",
       "      <th>3</th>\n",
       "      <td>エメルソンロドリゲス</td>\n",
       "      <td>大分三好ヴァイセアドラー</td>\n",
       "      <td>2</td>\n",
       "      <td>29</td>\n",
       "      <td>89</td>\n",
       "      <td>6</td>\n",
       "      <td>96</td>\n",
       "      <td>793</td>\n",
       "      <td>356</td>\n",
       "      <td>84</td>\n",
       "      <td>...</td>\n",
       "      <td>94</td>\n",
       "      <td>1</td>\n",
       "      <td>0</td>\n",
       "      <td>0</td>\n",
       "      <td>394</td>\n",
       "      <td>46.6</td>\n",
       "      <td>3.71</td>\n",
       "      <td>0.09</td>\n",
       "      <td>9.2</td>\n",
       "      <td>0.0</td>\n",
       "    </tr>\n",
       "    <tr>\n",
       "      <th>4</th>\n",
       "      <td>クビアクミハウ</td>\n",
       "      <td>パナソニックパンサーズ</td>\n",
       "      <td>13</td>\n",
       "      <td>84</td>\n",
       "      <td>43</td>\n",
       "      <td>24</td>\n",
       "      <td>127</td>\n",
       "      <td>940</td>\n",
       "      <td>432</td>\n",
       "      <td>76</td>\n",
       "      <td>...</td>\n",
       "      <td>135</td>\n",
       "      <td>835</td>\n",
       "      <td>366</td>\n",
       "      <td>209</td>\n",
       "      <td>499</td>\n",
       "      <td>47.7</td>\n",
       "      <td>3.40</td>\n",
       "      <td>0.31</td>\n",
       "      <td>8.6</td>\n",
       "      <td>56.3</td>\n",
       "    </tr>\n",
       "  </tbody>\n",
       "</table>\n",
       "<p>5 rows × 29 columns</p>\n",
       "</div>"
      ],
      "text/plain": [
       "           名前           チーム  背番号  得セット  失セット  勝敗  出場数  アタック打数  アタック得点  アタック失点  \\\n",
       "0     エスペホマーク          FC東京   15    37    69   8   81     506     188      42   \n",
       "1    エドガートーマス     JTサンダーズ広島    6    65    67  15  132    1509     750     111   \n",
       "2    エバデダンラリー   パナソニックパンサーズ   23    40    17  12   28      48      31       2   \n",
       "3  エメルソンロドリゲス  大分三好ヴァイセアドラー    2    29    89   6   96     793     356      84   \n",
       "4     クビアクミハウ   パナソニックパンサーズ   13    84    43  24  127     940     432      76   \n",
       "\n",
       "   ...  サーブ効果   受数  サーブレシーブ成功・優  サーブレシーブ成功・良  総得点  バックアタック決定率  アタックセット平均  \\\n",
       "0  ...     52  482          183          139  224        49.3       2.32   \n",
       "1  ...    126    1            0            0  837        55.5       5.68   \n",
       "2  ...     17   11            5            3   41         NaN       1.11   \n",
       "3  ...     94    1            0            0  394        46.6       3.71   \n",
       "4  ...    135  835          366          209  499        47.7       3.40   \n",
       "\n",
       "   ブロックセット平均  サーブ効果率  サーブレシーブ成功率  \n",
       "0       0.31     3.6        52.4  \n",
       "1       0.30     9.2         0.0  \n",
       "2       0.36     2.3        59.1  \n",
       "3       0.09     9.2         0.0  \n",
       "4       0.31     8.6        56.3  \n",
       "\n",
       "[5 rows x 29 columns]"
      ]
     },
     "execution_count": 72,
     "metadata": {},
     "output_type": "execute_result"
    }
   ],
   "source": [
    "division = 'v1_m'\n",
    "year = '2021-22_regular'\n",
    "# Database\n",
    "# player_db_path =  '../database/{0}/playerdb_{1}.csv'.format(division,year)\n",
    "# team_db_path =  '../database/{0}/teamdb_{1}.csv'.format(division,year)\n",
    "# simple\n",
    "player_db_path = '../{0}/{1}/yearly_all.csv'.format(year,division)\n",
    "# player_db = pd.read_csv(player_db_path)\n",
    "player_db = pd.read_csv(player_db_path,encoding='cp932')\n",
    "team_db = pd.read_csv(team_db_path)\n",
    "player_db.head()"
   ]
  },
  {
   "cell_type": "code",
   "execution_count": 66,
   "id": "47db91db-aef1-4692-9b9d-cb5e187ea1f9",
   "metadata": {},
   "outputs": [
    {
     "data": {
      "text/plain": [
       "Index(['No.', 'L', 'Player', 'Set', '1', '2', '3', '4', '5', 'AA', 'AP', 'AE',\n",
       "       'ASucc%', 'AP/S', 'BAA', 'BAP', 'BAE', 'BASucc%', 'BP', 'BP/S', 'SVA',\n",
       "       'SVP', 'SVE', 'SVx', 'SVEff%', 'RA', 'Rx', 'Rg', 'RSucc%', 'MatchNo.',\n",
       "       'Date', 'Year', 'Month', 'Day', 'Place', 'Venue', 'Team', 'Op.Team',\n",
       "       'Director', 'Coach', 'Win_Set', 'Lose_Set', 'Total_Set', 'Win_Lose',\n",
       "       'Get_Point', 'Lose_Point', 'Game_Time', 'Start_Time', 'End_Time',\n",
       "       'Spectators', 'Jury', 'Chief_Umpire', 'Sub_Umpire', 'Judgeman',\n",
       "       'Home_Away'],\n",
       "      dtype='object')"
      ]
     },
     "execution_count": 66,
     "metadata": {},
     "output_type": "execute_result"
    }
   ],
   "source": [
    "player_db.columns"
   ]
  },
  {
   "cell_type": "code",
   "execution_count": 31,
   "id": "e1e7515a-b399-422b-b47e-1e0e6cc5af84",
   "metadata": {},
   "outputs": [
    {
     "data": {
      "text/plain": [
       "{'ジェイテクトSTINGS': '#b2b2b2',\n",
       " 'JTサンダーズ広島': '#00cb65',\n",
       " 'VC長野トライデンツ': '#980000',\n",
       " '東レアローズ': '#0000ff',\n",
       " '堺ブレイザーズ': '#ffff00',\n",
       " '大分三好ヴァイセアドラー': '#3232ff',\n",
       " 'サントリーサンバーズ': '#ff003f',\n",
       " 'FC東京': '#0032cb',\n",
       " 'パナソニックパンサーズ': '#000065',\n",
       " 'ウルフドッグス名古屋': '#000000'}"
      ]
     },
     "execution_count": 31,
     "metadata": {},
     "output_type": "execute_result"
    }
   ],
   "source": [
    "dict_att_color[division]"
   ]
  },
  {
   "cell_type": "code",
   "execution_count": 5,
   "id": "8aed87f2-ce62-4e15-8fbf-e47fb9b28b17",
   "metadata": {},
   "outputs": [
    {
     "data": {
      "text/html": [
       "<div>\n",
       "<style scoped>\n",
       "    .dataframe tbody tr th:only-of-type {\n",
       "        vertical-align: middle;\n",
       "    }\n",
       "\n",
       "    .dataframe tbody tr th {\n",
       "        vertical-align: top;\n",
       "    }\n",
       "\n",
       "    .dataframe thead th {\n",
       "        text-align: right;\n",
       "    }\n",
       "</style>\n",
       "<table border=\"1\" class=\"dataframe\">\n",
       "  <thead>\n",
       "    <tr style=\"text-align: right;\">\n",
       "      <th></th>\n",
       "      <th>Win_Set</th>\n",
       "      <th>Lose_Set</th>\n",
       "    </tr>\n",
       "    <tr>\n",
       "      <th>Team</th>\n",
       "      <th></th>\n",
       "      <th></th>\n",
       "    </tr>\n",
       "  </thead>\n",
       "  <tbody>\n",
       "    <tr>\n",
       "      <th>FC東京</th>\n",
       "      <td>40</td>\n",
       "      <td>75</td>\n",
       "    </tr>\n",
       "    <tr>\n",
       "      <th>JTサンダーズ広島</th>\n",
       "      <td>65</td>\n",
       "      <td>67</td>\n",
       "    </tr>\n",
       "    <tr>\n",
       "      <th>VC長野トライデンツ</th>\n",
       "      <td>29</td>\n",
       "      <td>97</td>\n",
       "    </tr>\n",
       "    <tr>\n",
       "      <th>ウルフドッグス名古屋</th>\n",
       "      <td>78</td>\n",
       "      <td>45</td>\n",
       "    </tr>\n",
       "    <tr>\n",
       "      <th>サントリーサンバーズ</th>\n",
       "      <td>80</td>\n",
       "      <td>50</td>\n",
       "    </tr>\n",
       "    <tr>\n",
       "      <th>ジェイテクトSTINGS</th>\n",
       "      <td>57</td>\n",
       "      <td>68</td>\n",
       "    </tr>\n",
       "    <tr>\n",
       "      <th>パナソニックパンサーズ</th>\n",
       "      <td>89</td>\n",
       "      <td>46</td>\n",
       "    </tr>\n",
       "    <tr>\n",
       "      <th>堺ブレイザーズ</th>\n",
       "      <td>82</td>\n",
       "      <td>44</td>\n",
       "    </tr>\n",
       "    <tr>\n",
       "      <th>大分三好ヴァイセアドラー</th>\n",
       "      <td>29</td>\n",
       "      <td>92</td>\n",
       "    </tr>\n",
       "    <tr>\n",
       "      <th>東レアローズ</th>\n",
       "      <td>85</td>\n",
       "      <td>50</td>\n",
       "    </tr>\n",
       "  </tbody>\n",
       "</table>\n",
       "</div>"
      ],
      "text/plain": [
       "              Win_Set  Lose_Set\n",
       "Team                           \n",
       "FC東京               40        75\n",
       "JTサンダーズ広島          65        67\n",
       "VC長野トライデンツ         29        97\n",
       "ウルフドッグス名古屋         78        45\n",
       "サントリーサンバーズ         80        50\n",
       "ジェイテクトSTINGS       57        68\n",
       "パナソニックパンサーズ        89        46\n",
       "堺ブレイザーズ            82        44\n",
       "大分三好ヴァイセアドラー       29        92\n",
       "東レアローズ             85        50"
      ]
     },
     "execution_count": 5,
     "metadata": {},
     "output_type": "execute_result"
    }
   ],
   "source": [
    "team_db_total = team_db.groupby('Team').sum()\n",
    "team_db_total[['Win_Set', 'Lose_Set']]"
   ]
  },
  {
   "cell_type": "code",
   "execution_count": 6,
   "id": "a74a2f5e-a39c-424a-aac2-333ccad5a68d",
   "metadata": {},
   "outputs": [],
   "source": [
    "team_db['Set'] = team_db['Win_Set'] + team_db['Lose_Set']"
   ]
  },
  {
   "cell_type": "code",
   "execution_count": 11,
   "id": "e9c9b1f8-84bf-40e0-a9dc-8478b05a84d6",
   "metadata": {},
   "outputs": [
    {
     "data": {
      "text/html": [
       "<div>\n",
       "<style scoped>\n",
       "    .dataframe tbody tr th:only-of-type {\n",
       "        vertical-align: middle;\n",
       "    }\n",
       "\n",
       "    .dataframe tbody tr th {\n",
       "        vertical-align: top;\n",
       "    }\n",
       "\n",
       "    .dataframe thead th {\n",
       "        text-align: right;\n",
       "    }\n",
       "</style>\n",
       "<table border=\"1\" class=\"dataframe\">\n",
       "  <thead>\n",
       "    <tr style=\"text-align: right;\">\n",
       "      <th></th>\n",
       "      <th>No.</th>\n",
       "      <th>Set</th>\n",
       "      <th>AA</th>\n",
       "      <th>AP</th>\n",
       "      <th>AE</th>\n",
       "      <th>BAA</th>\n",
       "      <th>BAP</th>\n",
       "      <th>BAE</th>\n",
       "      <th>BP</th>\n",
       "      <th>SVA</th>\n",
       "      <th>...</th>\n",
       "      <th>Lose_Point</th>\n",
       "      <th>Game_Time</th>\n",
       "      <th>Spectators</th>\n",
       "      <th>ASucc%</th>\n",
       "      <th>AEff%</th>\n",
       "      <th>BASucc%</th>\n",
       "      <th>AP/S</th>\n",
       "      <th>BP/S</th>\n",
       "      <th>SVEff%</th>\n",
       "      <th>RSucc%</th>\n",
       "    </tr>\n",
       "    <tr>\n",
       "      <th>Player</th>\n",
       "      <th></th>\n",
       "      <th></th>\n",
       "      <th></th>\n",
       "      <th></th>\n",
       "      <th></th>\n",
       "      <th></th>\n",
       "      <th></th>\n",
       "      <th></th>\n",
       "      <th></th>\n",
       "      <th></th>\n",
       "      <th></th>\n",
       "      <th></th>\n",
       "      <th></th>\n",
       "      <th></th>\n",
       "      <th></th>\n",
       "      <th></th>\n",
       "      <th></th>\n",
       "      <th></th>\n",
       "      <th></th>\n",
       "      <th></th>\n",
       "      <th></th>\n",
       "    </tr>\n",
       "  </thead>\n",
       "  <tbody>\n",
       "    <tr>\n",
       "      <th>エスペホマーク</th>\n",
       "      <td>435</td>\n",
       "      <td>106</td>\n",
       "      <td>506</td>\n",
       "      <td>188</td>\n",
       "      <td>42</td>\n",
       "      <td>71</td>\n",
       "      <td>35</td>\n",
       "      <td>9</td>\n",
       "      <td>25</td>\n",
       "      <td>216</td>\n",
       "      <td>...</td>\n",
       "      <td>2488</td>\n",
       "      <td>2865</td>\n",
       "      <td>24365</td>\n",
       "      <td>37.2</td>\n",
       "      <td>28.9</td>\n",
       "      <td>49.3</td>\n",
       "      <td>1.77</td>\n",
       "      <td>0.24</td>\n",
       "      <td>3.6</td>\n",
       "      <td>52.4</td>\n",
       "    </tr>\n",
       "    <tr>\n",
       "      <th>エドガートーマス</th>\n",
       "      <td>204</td>\n",
       "      <td>132</td>\n",
       "      <td>1509</td>\n",
       "      <td>750</td>\n",
       "      <td>111</td>\n",
       "      <td>629</td>\n",
       "      <td>349</td>\n",
       "      <td>51</td>\n",
       "      <td>40</td>\n",
       "      <td>479</td>\n",
       "      <td>...</td>\n",
       "      <td>2927</td>\n",
       "      <td>3450</td>\n",
       "      <td>31446</td>\n",
       "      <td>49.7</td>\n",
       "      <td>42.3</td>\n",
       "      <td>55.5</td>\n",
       "      <td>5.68</td>\n",
       "      <td>0.30</td>\n",
       "      <td>9.2</td>\n",
       "      <td>0.0</td>\n",
       "    </tr>\n",
       "    <tr>\n",
       "      <th>エバデダンラリー</th>\n",
       "      <td>345</td>\n",
       "      <td>57</td>\n",
       "      <td>48</td>\n",
       "      <td>31</td>\n",
       "      <td>2</td>\n",
       "      <td>0</td>\n",
       "      <td>0</td>\n",
       "      <td>0</td>\n",
       "      <td>10</td>\n",
       "      <td>64</td>\n",
       "      <td>...</td>\n",
       "      <td>1216</td>\n",
       "      <td>1530</td>\n",
       "      <td>15570</td>\n",
       "      <td>64.6</td>\n",
       "      <td>60.4</td>\n",
       "      <td>NaN</td>\n",
       "      <td>0.54</td>\n",
       "      <td>0.18</td>\n",
       "      <td>2.3</td>\n",
       "      <td>59.1</td>\n",
       "    </tr>\n",
       "    <tr>\n",
       "      <th>エメルソンロドリゲス</th>\n",
       "      <td>64</td>\n",
       "      <td>118</td>\n",
       "      <td>793</td>\n",
       "      <td>356</td>\n",
       "      <td>84</td>\n",
       "      <td>343</td>\n",
       "      <td>160</td>\n",
       "      <td>37</td>\n",
       "      <td>9</td>\n",
       "      <td>311</td>\n",
       "      <td>...</td>\n",
       "      <td>2838</td>\n",
       "      <td>3110</td>\n",
       "      <td>24915</td>\n",
       "      <td>44.9</td>\n",
       "      <td>34.3</td>\n",
       "      <td>46.6</td>\n",
       "      <td>3.02</td>\n",
       "      <td>0.08</td>\n",
       "      <td>9.2</td>\n",
       "      <td>0.0</td>\n",
       "    </tr>\n",
       "    <tr>\n",
       "      <th>クビアクミハウ</th>\n",
       "      <td>442</td>\n",
       "      <td>127</td>\n",
       "      <td>940</td>\n",
       "      <td>432</td>\n",
       "      <td>76</td>\n",
       "      <td>153</td>\n",
       "      <td>73</td>\n",
       "      <td>19</td>\n",
       "      <td>40</td>\n",
       "      <td>507</td>\n",
       "      <td>...</td>\n",
       "      <td>2713</td>\n",
       "      <td>3391</td>\n",
       "      <td>38560</td>\n",
       "      <td>46.0</td>\n",
       "      <td>37.9</td>\n",
       "      <td>47.7</td>\n",
       "      <td>3.40</td>\n",
       "      <td>0.31</td>\n",
       "      <td>8.6</td>\n",
       "      <td>56.3</td>\n",
       "    </tr>\n",
       "    <tr>\n",
       "      <th>...</th>\n",
       "      <td>...</td>\n",
       "      <td>...</td>\n",
       "      <td>...</td>\n",
       "      <td>...</td>\n",
       "      <td>...</td>\n",
       "      <td>...</td>\n",
       "      <td>...</td>\n",
       "      <td>...</td>\n",
       "      <td>...</td>\n",
       "      <td>...</td>\n",
       "      <td>...</td>\n",
       "      <td>...</td>\n",
       "      <td>...</td>\n",
       "      <td>...</td>\n",
       "      <td>...</td>\n",
       "      <td>...</td>\n",
       "      <td>...</td>\n",
       "      <td>...</td>\n",
       "      <td>...</td>\n",
       "      <td>...</td>\n",
       "      <td>...</td>\n",
       "    </tr>\n",
       "    <tr>\n",
       "      <th>高橋良</th>\n",
       "      <td>456</td>\n",
       "      <td>90</td>\n",
       "      <td>29</td>\n",
       "      <td>15</td>\n",
       "      <td>1</td>\n",
       "      <td>2</td>\n",
       "      <td>1</td>\n",
       "      <td>0</td>\n",
       "      <td>0</td>\n",
       "      <td>15</td>\n",
       "      <td>...</td>\n",
       "      <td>1957</td>\n",
       "      <td>2502</td>\n",
       "      <td>21742</td>\n",
       "      <td>51.7</td>\n",
       "      <td>48.3</td>\n",
       "      <td>50.0</td>\n",
       "      <td>0.17</td>\n",
       "      <td>0.00</td>\n",
       "      <td>0.0</td>\n",
       "      <td>54.2</td>\n",
       "    </tr>\n",
       "    <tr>\n",
       "      <th>高野直哉</th>\n",
       "      <td>128</td>\n",
       "      <td>117</td>\n",
       "      <td>433</td>\n",
       "      <td>205</td>\n",
       "      <td>32</td>\n",
       "      <td>33</td>\n",
       "      <td>13</td>\n",
       "      <td>5</td>\n",
       "      <td>32</td>\n",
       "      <td>284</td>\n",
       "      <td>...</td>\n",
       "      <td>2523</td>\n",
       "      <td>3088</td>\n",
       "      <td>18885</td>\n",
       "      <td>47.3</td>\n",
       "      <td>40.0</td>\n",
       "      <td>39.4</td>\n",
       "      <td>1.75</td>\n",
       "      <td>0.27</td>\n",
       "      <td>3.8</td>\n",
       "      <td>52.4</td>\n",
       "    </tr>\n",
       "    <tr>\n",
       "      <th>鵜野幸也</th>\n",
       "      <td>713</td>\n",
       "      <td>114</td>\n",
       "      <td>104</td>\n",
       "      <td>46</td>\n",
       "      <td>5</td>\n",
       "      <td>16</td>\n",
       "      <td>10</td>\n",
       "      <td>0</td>\n",
       "      <td>2</td>\n",
       "      <td>60</td>\n",
       "      <td>...</td>\n",
       "      <td>2470</td>\n",
       "      <td>3013</td>\n",
       "      <td>20184</td>\n",
       "      <td>44.2</td>\n",
       "      <td>39.4</td>\n",
       "      <td>62.5</td>\n",
       "      <td>0.40</td>\n",
       "      <td>0.02</td>\n",
       "      <td>0.8</td>\n",
       "      <td>48.6</td>\n",
       "    </tr>\n",
       "    <tr>\n",
       "      <th>鶴田大樹</th>\n",
       "      <td>30</td>\n",
       "      <td>114</td>\n",
       "      <td>0</td>\n",
       "      <td>0</td>\n",
       "      <td>0</td>\n",
       "      <td>0</td>\n",
       "      <td>0</td>\n",
       "      <td>0</td>\n",
       "      <td>0</td>\n",
       "      <td>0</td>\n",
       "      <td>...</td>\n",
       "      <td>2450</td>\n",
       "      <td>3027</td>\n",
       "      <td>34195</td>\n",
       "      <td>NaN</td>\n",
       "      <td>NaN</td>\n",
       "      <td>NaN</td>\n",
       "      <td>0.00</td>\n",
       "      <td>0.00</td>\n",
       "      <td>NaN</td>\n",
       "      <td>58.0</td>\n",
       "    </tr>\n",
       "    <tr>\n",
       "      <th>黒田彪斗</th>\n",
       "      <td>832</td>\n",
       "      <td>115</td>\n",
       "      <td>328</td>\n",
       "      <td>113</td>\n",
       "      <td>19</td>\n",
       "      <td>28</td>\n",
       "      <td>11</td>\n",
       "      <td>2</td>\n",
       "      <td>5</td>\n",
       "      <td>140</td>\n",
       "      <td>...</td>\n",
       "      <td>2703</td>\n",
       "      <td>3101</td>\n",
       "      <td>26835</td>\n",
       "      <td>34.5</td>\n",
       "      <td>28.7</td>\n",
       "      <td>39.3</td>\n",
       "      <td>0.98</td>\n",
       "      <td>0.04</td>\n",
       "      <td>1.1</td>\n",
       "      <td>53.6</td>\n",
       "    </tr>\n",
       "  </tbody>\n",
       "</table>\n",
       "<p>188 rows × 34 columns</p>\n",
       "</div>"
      ],
      "text/plain": [
       "            No.  Set    AA   AP   AE  BAA  BAP  BAE  BP  SVA  ...  Lose_Point  \\\n",
       "Player                                                        ...               \n",
       "エスペホマーク     435  106   506  188   42   71   35    9  25  216  ...        2488   \n",
       "エドガートーマス    204  132  1509  750  111  629  349   51  40  479  ...        2927   \n",
       "エバデダンラリー    345   57    48   31    2    0    0    0  10   64  ...        1216   \n",
       "エメルソンロドリゲス   64  118   793  356   84  343  160   37   9  311  ...        2838   \n",
       "クビアクミハウ     442  127   940  432   76  153   73   19  40  507  ...        2713   \n",
       "...         ...  ...   ...  ...  ...  ...  ...  ...  ..  ...  ...         ...   \n",
       "高橋良         456   90    29   15    1    2    1    0   0   15  ...        1957   \n",
       "高野直哉        128  117   433  205   32   33   13    5  32  284  ...        2523   \n",
       "鵜野幸也        713  114   104   46    5   16   10    0   2   60  ...        2470   \n",
       "鶴田大樹         30  114     0    0    0    0    0    0   0    0  ...        2450   \n",
       "黒田彪斗        832  115   328  113   19   28   11    2   5  140  ...        2703   \n",
       "\n",
       "            Game_Time  Spectators  ASucc%  AEff%  BASucc%  AP/S  BP/S  SVEff%  \\\n",
       "Player                                                                          \n",
       "エスペホマーク          2865       24365    37.2   28.9     49.3  1.77  0.24     3.6   \n",
       "エドガートーマス         3450       31446    49.7   42.3     55.5  5.68  0.30     9.2   \n",
       "エバデダンラリー         1530       15570    64.6   60.4      NaN  0.54  0.18     2.3   \n",
       "エメルソンロドリゲス       3110       24915    44.9   34.3     46.6  3.02  0.08     9.2   \n",
       "クビアクミハウ          3391       38560    46.0   37.9     47.7  3.40  0.31     8.6   \n",
       "...               ...         ...     ...    ...      ...   ...   ...     ...   \n",
       "高橋良              2502       21742    51.7   48.3     50.0  0.17  0.00     0.0   \n",
       "高野直哉             3088       18885    47.3   40.0     39.4  1.75  0.27     3.8   \n",
       "鵜野幸也             3013       20184    44.2   39.4     62.5  0.40  0.02     0.8   \n",
       "鶴田大樹             3027       34195     NaN    NaN      NaN  0.00  0.00     NaN   \n",
       "黒田彪斗             3101       26835    34.5   28.7     39.3  0.98  0.04     1.1   \n",
       "\n",
       "            RSucc%  \n",
       "Player              \n",
       "エスペホマーク       52.4  \n",
       "エドガートーマス       0.0  \n",
       "エバデダンラリー      59.1  \n",
       "エメルソンロドリゲス     0.0  \n",
       "クビアクミハウ       56.3  \n",
       "...            ...  \n",
       "高橋良           54.2  \n",
       "高野直哉          52.4  \n",
       "鵜野幸也          48.6  \n",
       "鶴田大樹          58.0  \n",
       "黒田彪斗          53.6  \n",
       "\n",
       "[188 rows x 34 columns]"
      ]
     },
     "execution_count": 11,
     "metadata": {},
     "output_type": "execute_result"
    }
   ],
   "source": [
    "player_db_total = player_db.groupby('Player').sum()\n",
    "player_db_total = stats_calc(player_db_total)\n",
    "player_db_total"
   ]
  },
  {
   "cell_type": "code",
   "execution_count": 92,
   "id": "1a27f5b4-ac53-4fea-90f0-df138a15bec2",
   "metadata": {},
   "outputs": [
    {
     "name": "stdout",
     "output_type": "stream",
     "text": [
      "['エスペホマーク', 'エドガートーマス', 'エメルソンロドリゲス', 'クビアクミハウ', 'クレクバルトシュ', 'クヴァーレンヨナス', 'シャロンバーノンエバンズ', 'デアルマスアライン', 'ヌルムルキリヴァン', 'バグナスブライアン', 'パダルクリスティアン', 'フォンテレスフェリペ', 'ムセルスキードミトリー', '三輪大将', '中島健太', '仲本賢優', '伊藤樹', '傳田亮太', '出耒田敬', '古賀健太', '坂下純也', '大塚達宣', '大竹壱青', '安部翔大', '宮浦健人', '富田将馬', '小宮雄一郎', '小野寺太志', '小野遥輝', '山内晶大', '山崎彰都', '山本将平', '山田滉太', '川口喬', '彭世坤', '戸嵜嵩大', '手塚大', '新井雄大', '李博', '村山豪', '松本慶彦', '林一壽', '柳田将洋', '柳町逸太', '栗山英之', '森崎健史', '樋口裕希', '武藤鉄也', '池田幸太', '池田颯太', '清水邦広', '矢貫龍馬', '福山汰一', '秦耕介', '笠利真吾', '米山裕太', '藤中優斗', '藤中謙也', '藤原奨太', '西本圭吾', '近裕崇', '迫田郭志', '都築仁', '長友優磨', '陳龍海', '高梨健太', '高橋健太郎', '高野直哉', '鵜野幸也', '黒田彪斗']\n",
      "#ff003f\n"
     ]
    },
    {
     "data": {
      "text/html": [
       "<div>\n",
       "<style scoped>\n",
       "    .dataframe tbody tr th:only-of-type {\n",
       "        vertical-align: middle;\n",
       "    }\n",
       "\n",
       "    .dataframe tbody tr th {\n",
       "        vertical-align: top;\n",
       "    }\n",
       "\n",
       "    .dataframe thead th {\n",
       "        text-align: right;\n",
       "    }\n",
       "</style>\n",
       "<table border=\"1\" class=\"dataframe\">\n",
       "  <thead>\n",
       "    <tr style=\"text-align: right;\">\n",
       "      <th></th>\n",
       "      <th>名前</th>\n",
       "      <th>チーム</th>\n",
       "      <th>背番号</th>\n",
       "      <th>得セット</th>\n",
       "      <th>失セット</th>\n",
       "      <th>勝敗</th>\n",
       "      <th>出場数</th>\n",
       "      <th>アタック打数</th>\n",
       "      <th>アタック得点</th>\n",
       "      <th>アタック失点</th>\n",
       "      <th>...</th>\n",
       "      <th>サーブ効果</th>\n",
       "      <th>受数</th>\n",
       "      <th>サーブレシーブ成功・優</th>\n",
       "      <th>サーブレシーブ成功・良</th>\n",
       "      <th>総得点</th>\n",
       "      <th>バックアタック決定率</th>\n",
       "      <th>アタックセット平均</th>\n",
       "      <th>ブロックセット平均</th>\n",
       "      <th>サーブ効果率</th>\n",
       "      <th>サーブレシーブ成功率</th>\n",
       "    </tr>\n",
       "  </thead>\n",
       "  <tbody>\n",
       "    <tr>\n",
       "      <th>0</th>\n",
       "      <td>エスペホマーク</td>\n",
       "      <td>FC東京</td>\n",
       "      <td>15</td>\n",
       "      <td>37</td>\n",
       "      <td>69</td>\n",
       "      <td>8</td>\n",
       "      <td>81</td>\n",
       "      <td>506</td>\n",
       "      <td>188</td>\n",
       "      <td>42</td>\n",
       "      <td>...</td>\n",
       "      <td>52</td>\n",
       "      <td>482</td>\n",
       "      <td>183</td>\n",
       "      <td>139</td>\n",
       "      <td>224</td>\n",
       "      <td>49.3</td>\n",
       "      <td>2.32</td>\n",
       "      <td>0.31</td>\n",
       "      <td>3.6</td>\n",
       "      <td>52.4</td>\n",
       "    </tr>\n",
       "    <tr>\n",
       "      <th>1</th>\n",
       "      <td>エドガートーマス</td>\n",
       "      <td>JTサンダーズ広島</td>\n",
       "      <td>6</td>\n",
       "      <td>65</td>\n",
       "      <td>67</td>\n",
       "      <td>15</td>\n",
       "      <td>132</td>\n",
       "      <td>1509</td>\n",
       "      <td>750</td>\n",
       "      <td>111</td>\n",
       "      <td>...</td>\n",
       "      <td>126</td>\n",
       "      <td>1</td>\n",
       "      <td>0</td>\n",
       "      <td>0</td>\n",
       "      <td>837</td>\n",
       "      <td>55.5</td>\n",
       "      <td>5.68</td>\n",
       "      <td>0.30</td>\n",
       "      <td>9.2</td>\n",
       "      <td>0.0</td>\n",
       "    </tr>\n",
       "    <tr>\n",
       "      <th>3</th>\n",
       "      <td>エメルソンロドリゲス</td>\n",
       "      <td>大分三好ヴァイセアドラー</td>\n",
       "      <td>2</td>\n",
       "      <td>29</td>\n",
       "      <td>89</td>\n",
       "      <td>6</td>\n",
       "      <td>96</td>\n",
       "      <td>793</td>\n",
       "      <td>356</td>\n",
       "      <td>84</td>\n",
       "      <td>...</td>\n",
       "      <td>94</td>\n",
       "      <td>1</td>\n",
       "      <td>0</td>\n",
       "      <td>0</td>\n",
       "      <td>394</td>\n",
       "      <td>46.6</td>\n",
       "      <td>3.71</td>\n",
       "      <td>0.09</td>\n",
       "      <td>9.2</td>\n",
       "      <td>0.0</td>\n",
       "    </tr>\n",
       "    <tr>\n",
       "      <th>4</th>\n",
       "      <td>クビアクミハウ</td>\n",
       "      <td>パナソニックパンサーズ</td>\n",
       "      <td>13</td>\n",
       "      <td>84</td>\n",
       "      <td>43</td>\n",
       "      <td>24</td>\n",
       "      <td>127</td>\n",
       "      <td>940</td>\n",
       "      <td>432</td>\n",
       "      <td>76</td>\n",
       "      <td>...</td>\n",
       "      <td>135</td>\n",
       "      <td>835</td>\n",
       "      <td>366</td>\n",
       "      <td>209</td>\n",
       "      <td>499</td>\n",
       "      <td>47.7</td>\n",
       "      <td>3.40</td>\n",
       "      <td>0.31</td>\n",
       "      <td>8.6</td>\n",
       "      <td>56.3</td>\n",
       "    </tr>\n",
       "    <tr>\n",
       "      <th>5</th>\n",
       "      <td>クレクバルトシュ</td>\n",
       "      <td>ウルフドッグス名古屋</td>\n",
       "      <td>3</td>\n",
       "      <td>78</td>\n",
       "      <td>45</td>\n",
       "      <td>23</td>\n",
       "      <td>123</td>\n",
       "      <td>1407</td>\n",
       "      <td>769</td>\n",
       "      <td>108</td>\n",
       "      <td>...</td>\n",
       "      <td>169</td>\n",
       "      <td>28</td>\n",
       "      <td>11</td>\n",
       "      <td>10</td>\n",
       "      <td>868</td>\n",
       "      <td>56.5</td>\n",
       "      <td>6.25</td>\n",
       "      <td>0.49</td>\n",
       "      <td>8.7</td>\n",
       "      <td>57.1</td>\n",
       "    </tr>\n",
       "    <tr>\n",
       "      <th>...</th>\n",
       "      <td>...</td>\n",
       "      <td>...</td>\n",
       "      <td>...</td>\n",
       "      <td>...</td>\n",
       "      <td>...</td>\n",
       "      <td>...</td>\n",
       "      <td>...</td>\n",
       "      <td>...</td>\n",
       "      <td>...</td>\n",
       "      <td>...</td>\n",
       "      <td>...</td>\n",
       "      <td>...</td>\n",
       "      <td>...</td>\n",
       "      <td>...</td>\n",
       "      <td>...</td>\n",
       "      <td>...</td>\n",
       "      <td>...</td>\n",
       "      <td>...</td>\n",
       "      <td>...</td>\n",
       "      <td>...</td>\n",
       "      <td>...</td>\n",
       "    </tr>\n",
       "    <tr>\n",
       "      <th>178</th>\n",
       "      <td>高梨健太</td>\n",
       "      <td>ウルフドッグス名古屋</td>\n",
       "      <td>22</td>\n",
       "      <td>78</td>\n",
       "      <td>45</td>\n",
       "      <td>23</td>\n",
       "      <td>120</td>\n",
       "      <td>667</td>\n",
       "      <td>309</td>\n",
       "      <td>34</td>\n",
       "      <td>...</td>\n",
       "      <td>123</td>\n",
       "      <td>703</td>\n",
       "      <td>299</td>\n",
       "      <td>145</td>\n",
       "      <td>375</td>\n",
       "      <td>46.3</td>\n",
       "      <td>2.58</td>\n",
       "      <td>0.33</td>\n",
       "      <td>6.3</td>\n",
       "      <td>52.8</td>\n",
       "    </tr>\n",
       "    <tr>\n",
       "      <th>179</th>\n",
       "      <td>高橋健太郎</td>\n",
       "      <td>東レアローズ</td>\n",
       "      <td>2</td>\n",
       "      <td>81</td>\n",
       "      <td>39</td>\n",
       "      <td>24</td>\n",
       "      <td>113</td>\n",
       "      <td>297</td>\n",
       "      <td>178</td>\n",
       "      <td>15</td>\n",
       "      <td>...</td>\n",
       "      <td>56</td>\n",
       "      <td>36</td>\n",
       "      <td>19</td>\n",
       "      <td>8</td>\n",
       "      <td>289</td>\n",
       "      <td>NaN</td>\n",
       "      <td>1.58</td>\n",
       "      <td>0.92</td>\n",
       "      <td>4.2</td>\n",
       "      <td>63.9</td>\n",
       "    </tr>\n",
       "    <tr>\n",
       "      <th>184</th>\n",
       "      <td>高野直哉</td>\n",
       "      <td>堺ブレイザーズ</td>\n",
       "      <td>4</td>\n",
       "      <td>79</td>\n",
       "      <td>38</td>\n",
       "      <td>24</td>\n",
       "      <td>86</td>\n",
       "      <td>433</td>\n",
       "      <td>205</td>\n",
       "      <td>32</td>\n",
       "      <td>...</td>\n",
       "      <td>54</td>\n",
       "      <td>535</td>\n",
       "      <td>218</td>\n",
       "      <td>125</td>\n",
       "      <td>250</td>\n",
       "      <td>39.4</td>\n",
       "      <td>2.38</td>\n",
       "      <td>0.37</td>\n",
       "      <td>3.8</td>\n",
       "      <td>52.4</td>\n",
       "    </tr>\n",
       "    <tr>\n",
       "      <th>185</th>\n",
       "      <td>鵜野幸也</td>\n",
       "      <td>堺ブレイザーズ</td>\n",
       "      <td>23</td>\n",
       "      <td>73</td>\n",
       "      <td>41</td>\n",
       "      <td>21</td>\n",
       "      <td>25</td>\n",
       "      <td>104</td>\n",
       "      <td>46</td>\n",
       "      <td>5</td>\n",
       "      <td>...</td>\n",
       "      <td>8</td>\n",
       "      <td>108</td>\n",
       "      <td>43</td>\n",
       "      <td>19</td>\n",
       "      <td>50</td>\n",
       "      <td>62.5</td>\n",
       "      <td>1.84</td>\n",
       "      <td>0.08</td>\n",
       "      <td>0.8</td>\n",
       "      <td>48.6</td>\n",
       "    </tr>\n",
       "    <tr>\n",
       "      <th>187</th>\n",
       "      <td>黒田彪斗</td>\n",
       "      <td>FC東京</td>\n",
       "      <td>26</td>\n",
       "      <td>40</td>\n",
       "      <td>75</td>\n",
       "      <td>9</td>\n",
       "      <td>59</td>\n",
       "      <td>328</td>\n",
       "      <td>113</td>\n",
       "      <td>19</td>\n",
       "      <td>...</td>\n",
       "      <td>22</td>\n",
       "      <td>267</td>\n",
       "      <td>103</td>\n",
       "      <td>80</td>\n",
       "      <td>119</td>\n",
       "      <td>39.3</td>\n",
       "      <td>1.92</td>\n",
       "      <td>0.08</td>\n",
       "      <td>1.1</td>\n",
       "      <td>53.6</td>\n",
       "    </tr>\n",
       "  </tbody>\n",
       "</table>\n",
       "<p>70 rows × 29 columns</p>\n",
       "</div>"
      ],
      "text/plain": [
       "             名前           チーム  背番号  得セット  失セット  勝敗  出場数  アタック打数  アタック得点  \\\n",
       "0       エスペホマーク          FC東京   15    37    69   8   81     506     188   \n",
       "1      エドガートーマス     JTサンダーズ広島    6    65    67  15  132    1509     750   \n",
       "3    エメルソンロドリゲス  大分三好ヴァイセアドラー    2    29    89   6   96     793     356   \n",
       "4       クビアクミハウ   パナソニックパンサーズ   13    84    43  24  127     940     432   \n",
       "5      クレクバルトシュ    ウルフドッグス名古屋    3    78    45  23  123    1407     769   \n",
       "..          ...           ...  ...   ...   ...  ..  ...     ...     ...   \n",
       "178        高梨健太    ウルフドッグス名古屋   22    78    45  23  120     667     309   \n",
       "179       高橋健太郎        東レアローズ    2    81    39  24  113     297     178   \n",
       "184        高野直哉       堺ブレイザーズ    4    79    38  24   86     433     205   \n",
       "185        鵜野幸也       堺ブレイザーズ   23    73    41  21   25     104      46   \n",
       "187        黒田彪斗          FC東京   26    40    75   9   59     328     113   \n",
       "\n",
       "     アタック失点  ...  サーブ効果   受数  サーブレシーブ成功・優  サーブレシーブ成功・良  総得点  バックアタック決定率  \\\n",
       "0        42  ...     52  482          183          139  224        49.3   \n",
       "1       111  ...    126    1            0            0  837        55.5   \n",
       "3        84  ...     94    1            0            0  394        46.6   \n",
       "4        76  ...    135  835          366          209  499        47.7   \n",
       "5       108  ...    169   28           11           10  868        56.5   \n",
       "..      ...  ...    ...  ...          ...          ...  ...         ...   \n",
       "178      34  ...    123  703          299          145  375        46.3   \n",
       "179      15  ...     56   36           19            8  289         NaN   \n",
       "184      32  ...     54  535          218          125  250        39.4   \n",
       "185       5  ...      8  108           43           19   50        62.5   \n",
       "187      19  ...     22  267          103           80  119        39.3   \n",
       "\n",
       "     アタックセット平均  ブロックセット平均  サーブ効果率  サーブレシーブ成功率  \n",
       "0         2.32       0.31     3.6        52.4  \n",
       "1         5.68       0.30     9.2         0.0  \n",
       "3         3.71       0.09     9.2         0.0  \n",
       "4         3.40       0.31     8.6        56.3  \n",
       "5         6.25       0.49     8.7        57.1  \n",
       "..         ...        ...     ...         ...  \n",
       "178       2.58       0.33     6.3        52.8  \n",
       "179       1.58       0.92     4.2        63.9  \n",
       "184       2.38       0.37     3.8        52.4  \n",
       "185       1.84       0.08     0.8        48.6  \n",
       "187       1.92       0.08     1.1        53.6  \n",
       "\n",
       "[70 rows x 29 columns]"
      ]
     },
     "execution_count": 92,
     "metadata": {},
     "output_type": "execute_result"
    }
   ],
   "source": [
    "# team = 'サントリーサンバーズ'\n",
    "# color = 'red'\n",
    "# team_player = player_db[player_db['Team']==team]\n",
    "# team_player_total = team_player.groupby('Player').sum()\n",
    "# team_player_total = stats_calc(team_player_total)\n",
    "# team_player_total['Team'] = team\n",
    "# team_player_total = player_db[(player_db['チーム']==team)&(player_db['アタック打数']>=100)]\n",
    "team_player_total = player_db[(player_db['アタック打数']>=100)]\n",
    "# team_player_total = player_db[(player_db['チーム']==team)]\n",
    "# player = team_player_total.index\n",
    "player = list(team_player_total['名前'])\n",
    "print(player)\n",
    "color = dict_att_color[division][team]\n",
    "print(color)\n",
    "# team_player_total['Color'] = color\n",
    "team_player_total"
   ]
  },
  {
   "cell_type": "code",
   "execution_count": 93,
   "id": "8148b1ca-0a55-450c-a5cc-62aabda18f28",
   "metadata": {},
   "outputs": [
    {
     "data": {
      "text/plain": [
       "Index(['名前', 'チーム', '背番号', '得セット', '失セット', '勝敗', '出場数', 'アタック打数', 'アタック得点',\n",
       "       'アタック失点', 'アタック決定率', 'アタック効果率', 'バックアタック打数', 'バックアタック得点', 'バックアタック失点',\n",
       "       'ブロック得点', 'サーブ打数', 'サーブ得点', 'サーブ失点', 'サーブ効果', '受数', 'サーブレシーブ成功・優',\n",
       "       'サーブレシーブ成功・良', '総得点', 'バックアタック決定率', 'アタックセット平均', 'ブロックセット平均', 'サーブ効果率',\n",
       "       'サーブレシーブ成功率'],\n",
       "      dtype='object')"
      ]
     },
     "execution_count": 93,
     "metadata": {},
     "output_type": "execute_result"
    }
   ],
   "source": [
    "team_player_total.columns"
   ]
  },
  {
   "cell_type": "code",
   "execution_count": null,
   "id": "d225bbcc-472a-4069-95b1-a44253d520d2",
   "metadata": {},
   "outputs": [],
   "source": [
    "at"
   ]
  },
  {
   "cell_type": "code",
   "execution_count": 101,
   "id": "f4159f82-f289-4fc5-8b3f-6e13933b402e",
   "metadata": {},
   "outputs": [
    {
     "data": {
      "application/vnd.plotly.v1+json": {
       "config": {
        "plotlyServerURL": "https://plot.ly"
       },
       "data": [
        {
         "marker": {
          "size": [
           50.6,
           150.9,
           79.30000000000001,
           94,
           140.70000000000002,
           92.2,
           114.80000000000001,
           57.5,
           109.4,
           88,
           139.20000000000002,
           72.2,
           78.4,
           23.1,
           18.400000000000002,
           32.7,
           22,
           25.400000000000002,
           29.3,
           37.6,
           62.900000000000006,
           47.7,
           67.5,
           17.7,
           112.80000000000001,
           76.10000000000001,
           18.2,
           31.1,
           27.6,
           32,
           51.800000000000004,
           33.800000000000004,
           48.300000000000004,
           24.3,
           25.6,
           29.400000000000002,
           18.2,
           37.9,
           14.600000000000001,
           24.1,
           25.6,
           10.9,
           64,
           25.700000000000003,
           18.6,
           19.900000000000002,
           70.4,
           14.600000000000001,
           63.300000000000004,
           19.700000000000003,
           48.6,
           11.600000000000001,
           24.8,
           10.100000000000001,
           25,
           32.7,
           43.400000000000006,
           37.2,
           26.1,
           11.5,
           11.700000000000001,
           31.700000000000003,
           27.8,
           60.900000000000006,
           11.3,
           66.7,
           29.700000000000003,
           43.300000000000004,
           10.4,
           32.800000000000004
          ],
          "symbol": "circle"
         },
         "mode": "markers+text",
         "text": [
          "エスペホマーク",
          "エドガートーマス",
          "エメルソンロドリゲス",
          "クビアクミハウ",
          "クレクバルトシュ",
          "クヴァーレンヨナス",
          "シャロンバーノンエバンズ",
          "デアルマスアライン",
          "ヌルムルキリヴァン",
          "バグナスブライアン",
          "パダルクリスティアン",
          "フォンテレスフェリペ",
          "ムセルスキードミトリー",
          "三輪大将",
          "中島健太",
          "仲本賢優",
          "伊藤樹",
          "傳田亮太",
          "出耒田敬",
          "古賀健太",
          "坂下純也",
          "大塚達宣",
          "大竹壱青",
          "安部翔大",
          "宮浦健人",
          "富田将馬",
          "小宮雄一郎",
          "小野寺太志",
          "小野遥輝",
          "山内晶大",
          "山崎彰都",
          "山本将平",
          "山田滉太",
          "川口喬",
          "彭世坤",
          "戸嵜嵩大",
          "手塚大",
          "新井雄大",
          "李博",
          "村山豪",
          "松本慶彦",
          "林一壽",
          "柳田将洋",
          "柳町逸太",
          "栗山英之",
          "森崎健史",
          "樋口裕希",
          "武藤鉄也",
          "池田幸太",
          "池田颯太",
          "清水邦広",
          "矢貫龍馬",
          "福山汰一",
          "秦耕介",
          "笠利真吾",
          "米山裕太",
          "藤中優斗",
          "藤中謙也",
          "藤原奨太",
          "西本圭吾",
          "近裕崇",
          "迫田郭志",
          "都築仁",
          "長友優磨",
          "陳龍海",
          "高梨健太",
          "高橋健太郎",
          "高野直哉",
          "鵜野幸也",
          "黒田彪斗"
         ],
         "textposition": "top center",
         "type": "scatter",
         "x": [
          37.2,
          49.7,
          44.9,
          46,
          54.7,
          45.4,
          52.9,
          51.3,
          41.3,
          49.5,
          52.3,
          51.5,
          54.2,
          56.3,
          53.3,
          50.5,
          34.1,
          61.4,
          58,
          47.3,
          46.6,
          55.6,
          50.7,
          56.5,
          50.8,
          48.6,
          57.1,
          53.7,
          57.2,
          61.3,
          47.3,
          38.5,
          45.3,
          50.6,
          61.7,
          39.1,
          45.6,
          42.2,
          56.8,
          55.2,
          58.2,
          49.5,
          52,
          42.8,
          51.1,
          55.8,
          47.6,
          57.5,
          47.7,
          38.1,
          50.4,
          45.7,
          50.4,
          51.5,
          42.8,
          39.1,
          41.7,
          48.7,
          35.2,
          53,
          50.4,
          45.4,
          43.5,
          45.3,
          45.1,
          46.3,
          59.9,
          47.3,
          44.2,
          34.5
         ],
         "y": [
          0.31,
          0.3,
          0.09,
          0.31,
          0.49,
          0.38,
          0.53,
          0.21,
          0.36,
          0.47,
          0.39,
          0.39,
          0.39,
          0.4,
          0.52,
          0.18,
          0.2,
          0.61,
          0.5,
          0.14,
          0.16,
          0.29,
          0.32,
          0.44,
          0.2,
          0.19,
          0.42,
          0.73,
          0.5,
          0.52,
          0.2,
          0.2,
          0.17,
          0.23,
          0.59,
          0.3,
          0.05,
          0.23,
          0.35,
          0.61,
          0.38,
          0.22,
          0.19,
          0.07,
          0.48,
          0.3,
          0.67,
          0.21,
          0.31,
          0.02,
          0.31,
          0.39,
          0.33,
          0.29,
          0.17,
          0.16,
          0.21,
          0.31,
          0.1,
          0.53,
          0.45,
          0.15,
          0.12,
          0.19,
          0.32,
          0.33,
          0.92,
          0.37,
          0.08,
          0.08
         ]
        }
       ],
       "layout": {
        "height": 800,
        "hoverlabel": {
         "align": "right"
        },
        "hovermode": "closest",
        "template": {
         "data": {
          "bar": [
           {
            "error_x": {
             "color": "#2a3f5f"
            },
            "error_y": {
             "color": "#2a3f5f"
            },
            "marker": {
             "line": {
              "color": "#E5ECF6",
              "width": 0.5
             },
             "pattern": {
              "fillmode": "overlay",
              "size": 10,
              "solidity": 0.2
             }
            },
            "type": "bar"
           }
          ],
          "barpolar": [
           {
            "marker": {
             "line": {
              "color": "#E5ECF6",
              "width": 0.5
             },
             "pattern": {
              "fillmode": "overlay",
              "size": 10,
              "solidity": 0.2
             }
            },
            "type": "barpolar"
           }
          ],
          "carpet": [
           {
            "aaxis": {
             "endlinecolor": "#2a3f5f",
             "gridcolor": "white",
             "linecolor": "white",
             "minorgridcolor": "white",
             "startlinecolor": "#2a3f5f"
            },
            "baxis": {
             "endlinecolor": "#2a3f5f",
             "gridcolor": "white",
             "linecolor": "white",
             "minorgridcolor": "white",
             "startlinecolor": "#2a3f5f"
            },
            "type": "carpet"
           }
          ],
          "choropleth": [
           {
            "colorbar": {
             "outlinewidth": 0,
             "ticks": ""
            },
            "type": "choropleth"
           }
          ],
          "contour": [
           {
            "colorbar": {
             "outlinewidth": 0,
             "ticks": ""
            },
            "colorscale": [
             [
              0,
              "#0d0887"
             ],
             [
              0.1111111111111111,
              "#46039f"
             ],
             [
              0.2222222222222222,
              "#7201a8"
             ],
             [
              0.3333333333333333,
              "#9c179e"
             ],
             [
              0.4444444444444444,
              "#bd3786"
             ],
             [
              0.5555555555555556,
              "#d8576b"
             ],
             [
              0.6666666666666666,
              "#ed7953"
             ],
             [
              0.7777777777777778,
              "#fb9f3a"
             ],
             [
              0.8888888888888888,
              "#fdca26"
             ],
             [
              1,
              "#f0f921"
             ]
            ],
            "type": "contour"
           }
          ],
          "contourcarpet": [
           {
            "colorbar": {
             "outlinewidth": 0,
             "ticks": ""
            },
            "type": "contourcarpet"
           }
          ],
          "heatmap": [
           {
            "colorbar": {
             "outlinewidth": 0,
             "ticks": ""
            },
            "colorscale": [
             [
              0,
              "#0d0887"
             ],
             [
              0.1111111111111111,
              "#46039f"
             ],
             [
              0.2222222222222222,
              "#7201a8"
             ],
             [
              0.3333333333333333,
              "#9c179e"
             ],
             [
              0.4444444444444444,
              "#bd3786"
             ],
             [
              0.5555555555555556,
              "#d8576b"
             ],
             [
              0.6666666666666666,
              "#ed7953"
             ],
             [
              0.7777777777777778,
              "#fb9f3a"
             ],
             [
              0.8888888888888888,
              "#fdca26"
             ],
             [
              1,
              "#f0f921"
             ]
            ],
            "type": "heatmap"
           }
          ],
          "heatmapgl": [
           {
            "colorbar": {
             "outlinewidth": 0,
             "ticks": ""
            },
            "colorscale": [
             [
              0,
              "#0d0887"
             ],
             [
              0.1111111111111111,
              "#46039f"
             ],
             [
              0.2222222222222222,
              "#7201a8"
             ],
             [
              0.3333333333333333,
              "#9c179e"
             ],
             [
              0.4444444444444444,
              "#bd3786"
             ],
             [
              0.5555555555555556,
              "#d8576b"
             ],
             [
              0.6666666666666666,
              "#ed7953"
             ],
             [
              0.7777777777777778,
              "#fb9f3a"
             ],
             [
              0.8888888888888888,
              "#fdca26"
             ],
             [
              1,
              "#f0f921"
             ]
            ],
            "type": "heatmapgl"
           }
          ],
          "histogram": [
           {
            "marker": {
             "pattern": {
              "fillmode": "overlay",
              "size": 10,
              "solidity": 0.2
             }
            },
            "type": "histogram"
           }
          ],
          "histogram2d": [
           {
            "colorbar": {
             "outlinewidth": 0,
             "ticks": ""
            },
            "colorscale": [
             [
              0,
              "#0d0887"
             ],
             [
              0.1111111111111111,
              "#46039f"
             ],
             [
              0.2222222222222222,
              "#7201a8"
             ],
             [
              0.3333333333333333,
              "#9c179e"
             ],
             [
              0.4444444444444444,
              "#bd3786"
             ],
             [
              0.5555555555555556,
              "#d8576b"
             ],
             [
              0.6666666666666666,
              "#ed7953"
             ],
             [
              0.7777777777777778,
              "#fb9f3a"
             ],
             [
              0.8888888888888888,
              "#fdca26"
             ],
             [
              1,
              "#f0f921"
             ]
            ],
            "type": "histogram2d"
           }
          ],
          "histogram2dcontour": [
           {
            "colorbar": {
             "outlinewidth": 0,
             "ticks": ""
            },
            "colorscale": [
             [
              0,
              "#0d0887"
             ],
             [
              0.1111111111111111,
              "#46039f"
             ],
             [
              0.2222222222222222,
              "#7201a8"
             ],
             [
              0.3333333333333333,
              "#9c179e"
             ],
             [
              0.4444444444444444,
              "#bd3786"
             ],
             [
              0.5555555555555556,
              "#d8576b"
             ],
             [
              0.6666666666666666,
              "#ed7953"
             ],
             [
              0.7777777777777778,
              "#fb9f3a"
             ],
             [
              0.8888888888888888,
              "#fdca26"
             ],
             [
              1,
              "#f0f921"
             ]
            ],
            "type": "histogram2dcontour"
           }
          ],
          "mesh3d": [
           {
            "colorbar": {
             "outlinewidth": 0,
             "ticks": ""
            },
            "type": "mesh3d"
           }
          ],
          "parcoords": [
           {
            "line": {
             "colorbar": {
              "outlinewidth": 0,
              "ticks": ""
             }
            },
            "type": "parcoords"
           }
          ],
          "pie": [
           {
            "automargin": true,
            "type": "pie"
           }
          ],
          "scatter": [
           {
            "fillpattern": {
             "fillmode": "overlay",
             "size": 10,
             "solidity": 0.2
            },
            "type": "scatter"
           }
          ],
          "scatter3d": [
           {
            "line": {
             "colorbar": {
              "outlinewidth": 0,
              "ticks": ""
             }
            },
            "marker": {
             "colorbar": {
              "outlinewidth": 0,
              "ticks": ""
             }
            },
            "type": "scatter3d"
           }
          ],
          "scattercarpet": [
           {
            "marker": {
             "colorbar": {
              "outlinewidth": 0,
              "ticks": ""
             }
            },
            "type": "scattercarpet"
           }
          ],
          "scattergeo": [
           {
            "marker": {
             "colorbar": {
              "outlinewidth": 0,
              "ticks": ""
             }
            },
            "type": "scattergeo"
           }
          ],
          "scattergl": [
           {
            "marker": {
             "colorbar": {
              "outlinewidth": 0,
              "ticks": ""
             }
            },
            "type": "scattergl"
           }
          ],
          "scattermapbox": [
           {
            "marker": {
             "colorbar": {
              "outlinewidth": 0,
              "ticks": ""
             }
            },
            "type": "scattermapbox"
           }
          ],
          "scatterpolar": [
           {
            "marker": {
             "colorbar": {
              "outlinewidth": 0,
              "ticks": ""
             }
            },
            "type": "scatterpolar"
           }
          ],
          "scatterpolargl": [
           {
            "marker": {
             "colorbar": {
              "outlinewidth": 0,
              "ticks": ""
             }
            },
            "type": "scatterpolargl"
           }
          ],
          "scatterternary": [
           {
            "marker": {
             "colorbar": {
              "outlinewidth": 0,
              "ticks": ""
             }
            },
            "type": "scatterternary"
           }
          ],
          "surface": [
           {
            "colorbar": {
             "outlinewidth": 0,
             "ticks": ""
            },
            "colorscale": [
             [
              0,
              "#0d0887"
             ],
             [
              0.1111111111111111,
              "#46039f"
             ],
             [
              0.2222222222222222,
              "#7201a8"
             ],
             [
              0.3333333333333333,
              "#9c179e"
             ],
             [
              0.4444444444444444,
              "#bd3786"
             ],
             [
              0.5555555555555556,
              "#d8576b"
             ],
             [
              0.6666666666666666,
              "#ed7953"
             ],
             [
              0.7777777777777778,
              "#fb9f3a"
             ],
             [
              0.8888888888888888,
              "#fdca26"
             ],
             [
              1,
              "#f0f921"
             ]
            ],
            "type": "surface"
           }
          ],
          "table": [
           {
            "cells": {
             "fill": {
              "color": "#EBF0F8"
             },
             "line": {
              "color": "white"
             }
            },
            "header": {
             "fill": {
              "color": "#C8D4E3"
             },
             "line": {
              "color": "white"
             }
            },
            "type": "table"
           }
          ]
         },
         "layout": {
          "annotationdefaults": {
           "arrowcolor": "#2a3f5f",
           "arrowhead": 0,
           "arrowwidth": 1
          },
          "autotypenumbers": "strict",
          "coloraxis": {
           "colorbar": {
            "outlinewidth": 0,
            "ticks": ""
           }
          },
          "colorscale": {
           "diverging": [
            [
             0,
             "#8e0152"
            ],
            [
             0.1,
             "#c51b7d"
            ],
            [
             0.2,
             "#de77ae"
            ],
            [
             0.3,
             "#f1b6da"
            ],
            [
             0.4,
             "#fde0ef"
            ],
            [
             0.5,
             "#f7f7f7"
            ],
            [
             0.6,
             "#e6f5d0"
            ],
            [
             0.7,
             "#b8e186"
            ],
            [
             0.8,
             "#7fbc41"
            ],
            [
             0.9,
             "#4d9221"
            ],
            [
             1,
             "#276419"
            ]
           ],
           "sequential": [
            [
             0,
             "#0d0887"
            ],
            [
             0.1111111111111111,
             "#46039f"
            ],
            [
             0.2222222222222222,
             "#7201a8"
            ],
            [
             0.3333333333333333,
             "#9c179e"
            ],
            [
             0.4444444444444444,
             "#bd3786"
            ],
            [
             0.5555555555555556,
             "#d8576b"
            ],
            [
             0.6666666666666666,
             "#ed7953"
            ],
            [
             0.7777777777777778,
             "#fb9f3a"
            ],
            [
             0.8888888888888888,
             "#fdca26"
            ],
            [
             1,
             "#f0f921"
            ]
           ],
           "sequentialminus": [
            [
             0,
             "#0d0887"
            ],
            [
             0.1111111111111111,
             "#46039f"
            ],
            [
             0.2222222222222222,
             "#7201a8"
            ],
            [
             0.3333333333333333,
             "#9c179e"
            ],
            [
             0.4444444444444444,
             "#bd3786"
            ],
            [
             0.5555555555555556,
             "#d8576b"
            ],
            [
             0.6666666666666666,
             "#ed7953"
            ],
            [
             0.7777777777777778,
             "#fb9f3a"
            ],
            [
             0.8888888888888888,
             "#fdca26"
            ],
            [
             1,
             "#f0f921"
            ]
           ]
          },
          "colorway": [
           "#636efa",
           "#EF553B",
           "#00cc96",
           "#ab63fa",
           "#FFA15A",
           "#19d3f3",
           "#FF6692",
           "#B6E880",
           "#FF97FF",
           "#FECB52"
          ],
          "font": {
           "color": "#2a3f5f"
          },
          "geo": {
           "bgcolor": "white",
           "lakecolor": "white",
           "landcolor": "#E5ECF6",
           "showlakes": true,
           "showland": true,
           "subunitcolor": "white"
          },
          "hoverlabel": {
           "align": "left"
          },
          "hovermode": "closest",
          "mapbox": {
           "style": "light"
          },
          "paper_bgcolor": "white",
          "plot_bgcolor": "#E5ECF6",
          "polar": {
           "angularaxis": {
            "gridcolor": "white",
            "linecolor": "white",
            "ticks": ""
           },
           "bgcolor": "#E5ECF6",
           "radialaxis": {
            "gridcolor": "white",
            "linecolor": "white",
            "ticks": ""
           }
          },
          "scene": {
           "xaxis": {
            "backgroundcolor": "#E5ECF6",
            "gridcolor": "white",
            "gridwidth": 2,
            "linecolor": "white",
            "showbackground": true,
            "ticks": "",
            "zerolinecolor": "white"
           },
           "yaxis": {
            "backgroundcolor": "#E5ECF6",
            "gridcolor": "white",
            "gridwidth": 2,
            "linecolor": "white",
            "showbackground": true,
            "ticks": "",
            "zerolinecolor": "white"
           },
           "zaxis": {
            "backgroundcolor": "#E5ECF6",
            "gridcolor": "white",
            "gridwidth": 2,
            "linecolor": "white",
            "showbackground": true,
            "ticks": "",
            "zerolinecolor": "white"
           }
          },
          "shapedefaults": {
           "line": {
            "color": "#2a3f5f"
           }
          },
          "ternary": {
           "aaxis": {
            "gridcolor": "white",
            "linecolor": "white",
            "ticks": ""
           },
           "baxis": {
            "gridcolor": "white",
            "linecolor": "white",
            "ticks": ""
           },
           "bgcolor": "#E5ECF6",
           "caxis": {
            "gridcolor": "white",
            "linecolor": "white",
            "ticks": ""
           }
          },
          "title": {
           "x": 0.05
          },
          "xaxis": {
           "automargin": true,
           "gridcolor": "white",
           "linecolor": "white",
           "ticks": "",
           "title": {
            "standoff": 15
           },
           "zerolinecolor": "white",
           "zerolinewidth": 2
          },
          "yaxis": {
           "automargin": true,
           "gridcolor": "white",
           "linecolor": "white",
           "ticks": "",
           "title": {
            "standoff": 15
           },
           "zerolinecolor": "white",
           "zerolinewidth": 2
          }
         }
        },
        "title": {
         "text": "サントリーサンバーズ"
        },
        "width": 1000,
        "xaxis": {
         "autorange": true,
         "range": [
          31.98130808950086,
          63.90419965576592
         ],
         "title": {
          "text": "アタック決定率"
         },
         "type": "linear"
        },
        "yaxis": {
         "autorange": true,
         "range": [
          -0.053950675835902295,
          1.0046217690301162
         ],
         "title": {
          "text": "1セットあたりのブロック決定本数"
         },
         "type": "linear"
        }
       }
      },
      "image/png": "[encoded data removed]",
      "text/html": [
       "<div>                            <div id=\"1613c3ce-a73b-48f6-ac09-ae283b349f8f\" class=\"plotly-graph-div\" style=\"height:800px; width:1000px;\"></div>            <script type=\"text/javascript\">                require([\"plotly\"], function(Plotly) {                    window.PLOTLYENV=window.PLOTLYENV || {};                                    if (document.getElementById(\"1613c3ce-a73b-48f6-ac09-ae283b349f8f\")) {                    Plotly.newPlot(                        \"1613c3ce-a73b-48f6-ac09-ae283b349f8f\",                        [{\"marker\":{\"size\":[50.6,150.9,79.30000000000001,94.0,140.70000000000002,92.2,114.80000000000001,57.5,109.4,88.0,139.20000000000002,72.2,78.4,23.1,18.400000000000002,32.7,22.0,25.400000000000002,29.3,37.6,62.900000000000006,47.7,67.5,17.7,112.80000000000001,76.10000000000001,18.2,31.1,27.6,32.0,51.800000000000004,33.800000000000004,48.300000000000004,24.3,25.6,29.400000000000002,18.2,37.9,14.600000000000001,24.1,25.6,10.9,64.0,25.700000000000003,18.6,19.900000000000002,70.4,14.600000000000001,63.300000000000004,19.700000000000003,48.6,11.600000000000001,24.8,10.100000000000001,25.0,32.7,43.400000000000006,37.2,26.1,11.5,11.700000000000001,31.700000000000003,27.8,60.900000000000006,11.3,66.7,29.700000000000003,43.300000000000004,10.4,32.800000000000004],\"symbol\":\"circle\"},\"mode\":\"markers+text\",\"text\":[\"\\u30a8\\u30b9\\u30da\\u30db\\u30de\\u30fc\\u30af\",\"\\u30a8\\u30c9\\u30ac\\u30fc\\u30c8\\u30fc\\u30de\\u30b9\",\"\\u30a8\\u30e1\\u30eb\\u30bd\\u30f3\\u30ed\\u30c9\\u30ea\\u30b2\\u30b9\",\"\\u30af\\u30d3\\u30a2\\u30af\\u30df\\u30cf\\u30a6\",\"\\u30af\\u30ec\\u30af\\u30d0\\u30eb\\u30c8\\u30b7\\u30e5\",\"\\u30af\\u30f4\\u30a1\\u30fc\\u30ec\\u30f3\\u30e8\\u30ca\\u30b9\",\"\\u30b7\\u30e3\\u30ed\\u30f3\\u30d0\\u30fc\\u30ce\\u30f3\\u30a8\\u30d0\\u30f3\\u30ba\",\"\\u30c7\\u30a2\\u30eb\\u30de\\u30b9\\u30a2\\u30e9\\u30a4\\u30f3\",\"\\u30cc\\u30eb\\u30e0\\u30eb\\u30ad\\u30ea\\u30f4\\u30a1\\u30f3\",\"\\u30d0\\u30b0\\u30ca\\u30b9\\u30d6\\u30e9\\u30a4\\u30a2\\u30f3\",\"\\u30d1\\u30c0\\u30eb\\u30af\\u30ea\\u30b9\\u30c6\\u30a3\\u30a2\\u30f3\",\"\\u30d5\\u30a9\\u30f3\\u30c6\\u30ec\\u30b9\\u30d5\\u30a7\\u30ea\\u30da\",\"\\u30e0\\u30bb\\u30eb\\u30b9\\u30ad\\u30fc\\u30c9\\u30df\\u30c8\\u30ea\\u30fc\",\"\\u4e09\\u8f2a\\u5927\\u5c06\",\"\\u4e2d\\u5cf6\\u5065\\u592a\",\"\\u4ef2\\u672c\\u8ce2\\u512a\",\"\\u4f0a\\u85e4\\u6a39\",\"\\u50b3\\u7530\\u4eae\\u592a\",\"\\u51fa\\u8012\\u7530\\u656c\",\"\\u53e4\\u8cc0\\u5065\\u592a\",\"\\u5742\\u4e0b\\u7d14\\u4e5f\",\"\\u5927\\u585a\\u9054\\u5ba3\",\"\\u5927\\u7af9\\u58f1\\u9752\",\"\\u5b89\\u90e8\\u7fd4\\u5927\",\"\\u5bae\\u6d66\\u5065\\u4eba\",\"\\u5bcc\\u7530\\u5c06\\u99ac\",\"\\u5c0f\\u5bae\\u96c4\\u4e00\\u90ce\",\"\\u5c0f\\u91ce\\u5bfa\\u592a\\u5fd7\",\"\\u5c0f\\u91ce\\u9065\\u8f1d\",\"\\u5c71\\u5185\\u6676\\u5927\",\"\\u5c71\\u5d0e\\u5f70\\u90fd\",\"\\u5c71\\u672c\\u5c06\\u5e73\",\"\\u5c71\\u7530\\u6ec9\\u592a\",\"\\u5ddd\\u53e3\\u55ac\",\"\\u5f6d\\u4e16\\u5764\",\"\\u6238\\u5d5c\\u5d69\\u5927\",\"\\u624b\\u585a\\u5927\",\"\\u65b0\\u4e95\\u96c4\\u5927\",\"\\u674e\\u535a\",\"\\u6751\\u5c71\\u8c6a\",\"\\u677e\\u672c\\u6176\\u5f66\",\"\\u6797\\u4e00\\u58fd\",\"\\u67f3\\u7530\\u5c06\\u6d0b\",\"\\u67f3\\u753a\\u9038\\u592a\",\"\\u6817\\u5c71\\u82f1\\u4e4b\",\"\\u68ee\\u5d0e\\u5065\\u53f2\",\"\\u6a0b\\u53e3\\u88d5\\u5e0c\",\"\\u6b66\\u85e4\\u9244\\u4e5f\",\"\\u6c60\\u7530\\u5e78\\u592a\",\"\\u6c60\\u7530\\u98af\\u592a\",\"\\u6e05\\u6c34\\u90a6\\u5e83\",\"\\u77e2\\u8cab\\u9f8d\\u99ac\",\"\\u798f\\u5c71\\u6c70\\u4e00\",\"\\u79e6\\u8015\\u4ecb\",\"\\u7b20\\u5229\\u771f\\u543e\",\"\\u7c73\\u5c71\\u88d5\\u592a\",\"\\u85e4\\u4e2d\\u512a\\u6597\",\"\\u85e4\\u4e2d\\u8b19\\u4e5f\",\"\\u85e4\\u539f\\u5968\\u592a\",\"\\u897f\\u672c\\u572d\\u543e\",\"\\u8fd1\\u88d5\\u5d07\",\"\\u8feb\\u7530\\u90ed\\u5fd7\",\"\\u90fd\\u7bc9\\u4ec1\",\"\\u9577\\u53cb\\u512a\\u78e8\",\"\\u9673\\u9f8d\\u6d77\",\"\\u9ad8\\u68a8\\u5065\\u592a\",\"\\u9ad8\\u6a4b\\u5065\\u592a\\u90ce\",\"\\u9ad8\\u91ce\\u76f4\\u54c9\",\"\\u9d5c\\u91ce\\u5e78\\u4e5f\",\"\\u9ed2\\u7530\\u5f6a\\u6597\"],\"textposition\":\"top center\",\"x\":[37.2,49.7,44.9,46.0,54.7,45.4,52.9,51.3,41.3,49.5,52.3,51.5,54.2,56.3,53.3,50.5,34.1,61.4,58.0,47.3,46.6,55.6,50.7,56.5,50.8,48.6,57.1,53.7,57.2,61.3,47.3,38.5,45.3,50.6,61.7,39.1,45.6,42.2,56.8,55.2,58.2,49.5,52.0,42.8,51.1,55.8,47.6,57.5,47.7,38.1,50.4,45.7,50.4,51.5,42.8,39.1,41.7,48.7,35.2,53.0,50.4,45.4,43.5,45.3,45.1,46.3,59.9,47.3,44.2,34.5],\"y\":[0.31,0.3,0.09,0.31,0.49,0.38,0.53,0.21,0.36,0.47,0.39,0.39,0.39,0.4,0.52,0.18,0.2,0.61,0.5,0.14,0.16,0.29,0.32,0.44,0.2,0.19,0.42,0.73,0.5,0.52,0.2,0.2,0.17,0.23,0.59,0.3,0.05,0.23,0.35,0.61,0.38,0.22,0.19,0.07,0.48,0.3,0.67,0.21,0.31,0.02,0.31,0.39,0.33,0.29,0.17,0.16,0.21,0.31,0.1,0.53,0.45,0.15,0.12,0.19,0.32,0.33,0.92,0.37,0.08,0.08],\"type\":\"scatter\"}],                        {\"template\":{\"data\":{\"histogram2dcontour\":[{\"type\":\"histogram2dcontour\",\"colorbar\":{\"outlinewidth\":0,\"ticks\":\"\"},\"colorscale\":[[0.0,\"#0d0887\"],[0.1111111111111111,\"#46039f\"],[0.2222222222222222,\"#7201a8\"],[0.3333333333333333,\"#9c179e\"],[0.4444444444444444,\"#bd3786\"],[0.5555555555555556,\"#d8576b\"],[0.6666666666666666,\"#ed7953\"],[0.7777777777777778,\"#fb9f3a\"],[0.8888888888888888,\"#fdca26\"],[1.0,\"#f0f921\"]]}],\"choropleth\":[{\"type\":\"choropleth\",\"colorbar\":{\"outlinewidth\":0,\"ticks\":\"\"}}],\"histogram2d\":[{\"type\":\"histogram2d\",\"colorbar\":{\"outlinewidth\":0,\"ticks\":\"\"},\"colorscale\":[[0.0,\"#0d0887\"],[0.1111111111111111,\"#46039f\"],[0.2222222222222222,\"#7201a8\"],[0.3333333333333333,\"#9c179e\"],[0.4444444444444444,\"#bd3786\"],[0.5555555555555556,\"#d8576b\"],[0.6666666666666666,\"#ed7953\"],[0.7777777777777778,\"#fb9f3a\"],[0.8888888888888888,\"#fdca26\"],[1.0,\"#f0f921\"]]}],\"heatmap\":[{\"type\":\"heatmap\",\"colorbar\":{\"outlinewidth\":0,\"ticks\":\"\"},\"colorscale\":[[0.0,\"#0d0887\"],[0.1111111111111111,\"#46039f\"],[0.2222222222222222,\"#7201a8\"],[0.3333333333333333,\"#9c179e\"],[0.4444444444444444,\"#bd3786\"],[0.5555555555555556,\"#d8576b\"],[0.6666666666666666,\"#ed7953\"],[0.7777777777777778,\"#fb9f3a\"],[0.8888888888888888,\"#fdca26\"],[1.0,\"#f0f921\"]]}],\"heatmapgl\":[{\"type\":\"heatmapgl\",\"colorbar\":{\"outlinewidth\":0,\"ticks\":\"\"},\"colorscale\":[[0.0,\"#0d0887\"],[0.1111111111111111,\"#46039f\"],[0.2222222222222222,\"#7201a8\"],[0.3333333333333333,\"#9c179e\"],[0.4444444444444444,\"#bd3786\"],[0.5555555555555556,\"#d8576b\"],[0.6666666666666666,\"#ed7953\"],[0.7777777777777778,\"#fb9f3a\"],[0.8888888888888888,\"#fdca26\"],[1.0,\"#f0f921\"]]}],\"contourcarpet\":[{\"type\":\"contourcarpet\",\"colorbar\":{\"outlinewidth\":0,\"ticks\":\"\"}}],\"contour\":[{\"type\":\"contour\",\"colorbar\":{\"outlinewidth\":0,\"ticks\":\"\"},\"colorscale\":[[0.0,\"#0d0887\"],[0.1111111111111111,\"#46039f\"],[0.2222222222222222,\"#7201a8\"],[0.3333333333333333,\"#9c179e\"],[0.4444444444444444,\"#bd3786\"],[0.5555555555555556,\"#d8576b\"],[0.6666666666666666,\"#ed7953\"],[0.7777777777777778,\"#fb9f3a\"],[0.8888888888888888,\"#fdca26\"],[1.0,\"#f0f921\"]]}],\"surface\":[{\"type\":\"surface\",\"colorbar\":{\"outlinewidth\":0,\"ticks\":\"\"},\"colorscale\":[[0.0,\"#0d0887\"],[0.1111111111111111,\"#46039f\"],[0.2222222222222222,\"#7201a8\"],[0.3333333333333333,\"#9c179e\"],[0.4444444444444444,\"#bd3786\"],[0.5555555555555556,\"#d8576b\"],[0.6666666666666666,\"#ed7953\"],[0.7777777777777778,\"#fb9f3a\"],[0.8888888888888888,\"#fdca26\"],[1.0,\"#f0f921\"]]}],\"mesh3d\":[{\"type\":\"mesh3d\",\"colorbar\":{\"outlinewidth\":0,\"ticks\":\"\"}}],\"scatter\":[{\"fillpattern\":{\"fillmode\":\"overlay\",\"size\":10,\"solidity\":0.2},\"type\":\"scatter\"}],\"parcoords\":[{\"type\":\"parcoords\",\"line\":{\"colorbar\":{\"outlinewidth\":0,\"ticks\":\"\"}}}],\"scatterpolargl\":[{\"type\":\"scatterpolargl\",\"marker\":{\"colorbar\":{\"outlinewidth\":0,\"ticks\":\"\"}}}],\"bar\":[{\"error_x\":{\"color\":\"#2a3f5f\"},\"error_y\":{\"color\":\"#2a3f5f\"},\"marker\":{\"line\":{\"color\":\"#E5ECF6\",\"width\":0.5},\"pattern\":{\"fillmode\":\"overlay\",\"size\":10,\"solidity\":0.2}},\"type\":\"bar\"}],\"scattergeo\":[{\"type\":\"scattergeo\",\"marker\":{\"colorbar\":{\"outlinewidth\":0,\"ticks\":\"\"}}}],\"scatterpolar\":[{\"type\":\"scatterpolar\",\"marker\":{\"colorbar\":{\"outlinewidth\":0,\"ticks\":\"\"}}}],\"histogram\":[{\"marker\":{\"pattern\":{\"fillmode\":\"overlay\",\"size\":10,\"solidity\":0.2}},\"type\":\"histogram\"}],\"scattergl\":[{\"type\":\"scattergl\",\"marker\":{\"colorbar\":{\"outlinewidth\":0,\"ticks\":\"\"}}}],\"scatter3d\":[{\"type\":\"scatter3d\",\"line\":{\"colorbar\":{\"outlinewidth\":0,\"ticks\":\"\"}},\"marker\":{\"colorbar\":{\"outlinewidth\":0,\"ticks\":\"\"}}}],\"scattermapbox\":[{\"type\":\"scattermapbox\",\"marker\":{\"colorbar\":{\"outlinewidth\":0,\"ticks\":\"\"}}}],\"scatterternary\":[{\"type\":\"scatterternary\",\"marker\":{\"colorbar\":{\"outlinewidth\":0,\"ticks\":\"\"}}}],\"scattercarpet\":[{\"type\":\"scattercarpet\",\"marker\":{\"colorbar\":{\"outlinewidth\":0,\"ticks\":\"\"}}}],\"carpet\":[{\"aaxis\":{\"endlinecolor\":\"#2a3f5f\",\"gridcolor\":\"white\",\"linecolor\":\"white\",\"minorgridcolor\":\"white\",\"startlinecolor\":\"#2a3f5f\"},\"baxis\":{\"endlinecolor\":\"#2a3f5f\",\"gridcolor\":\"white\",\"linecolor\":\"white\",\"minorgridcolor\":\"white\",\"startlinecolor\":\"#2a3f5f\"},\"type\":\"carpet\"}],\"table\":[{\"cells\":{\"fill\":{\"color\":\"#EBF0F8\"},\"line\":{\"color\":\"white\"}},\"header\":{\"fill\":{\"color\":\"#C8D4E3\"},\"line\":{\"color\":\"white\"}},\"type\":\"table\"}],\"barpolar\":[{\"marker\":{\"line\":{\"color\":\"#E5ECF6\",\"width\":0.5},\"pattern\":{\"fillmode\":\"overlay\",\"size\":10,\"solidity\":0.2}},\"type\":\"barpolar\"}],\"pie\":[{\"automargin\":true,\"type\":\"pie\"}]},\"layout\":{\"autotypenumbers\":\"strict\",\"colorway\":[\"#636efa\",\"#EF553B\",\"#00cc96\",\"#ab63fa\",\"#FFA15A\",\"#19d3f3\",\"#FF6692\",\"#B6E880\",\"#FF97FF\",\"#FECB52\"],\"font\":{\"color\":\"#2a3f5f\"},\"hovermode\":\"closest\",\"hoverlabel\":{\"align\":\"left\"},\"paper_bgcolor\":\"white\",\"plot_bgcolor\":\"#E5ECF6\",\"polar\":{\"bgcolor\":\"#E5ECF6\",\"angularaxis\":{\"gridcolor\":\"white\",\"linecolor\":\"white\",\"ticks\":\"\"},\"radialaxis\":{\"gridcolor\":\"white\",\"linecolor\":\"white\",\"ticks\":\"\"}},\"ternary\":{\"bgcolor\":\"#E5ECF6\",\"aaxis\":{\"gridcolor\":\"white\",\"linecolor\":\"white\",\"ticks\":\"\"},\"baxis\":{\"gridcolor\":\"white\",\"linecolor\":\"white\",\"ticks\":\"\"},\"caxis\":{\"gridcolor\":\"white\",\"linecolor\":\"white\",\"ticks\":\"\"}},\"coloraxis\":{\"colorbar\":{\"outlinewidth\":0,\"ticks\":\"\"}},\"colorscale\":{\"sequential\":[[0.0,\"#0d0887\"],[0.1111111111111111,\"#46039f\"],[0.2222222222222222,\"#7201a8\"],[0.3333333333333333,\"#9c179e\"],[0.4444444444444444,\"#bd3786\"],[0.5555555555555556,\"#d8576b\"],[0.6666666666666666,\"#ed7953\"],[0.7777777777777778,\"#fb9f3a\"],[0.8888888888888888,\"#fdca26\"],[1.0,\"#f0f921\"]],\"sequentialminus\":[[0.0,\"#0d0887\"],[0.1111111111111111,\"#46039f\"],[0.2222222222222222,\"#7201a8\"],[0.3333333333333333,\"#9c179e\"],[0.4444444444444444,\"#bd3786\"],[0.5555555555555556,\"#d8576b\"],[0.6666666666666666,\"#ed7953\"],[0.7777777777777778,\"#fb9f3a\"],[0.8888888888888888,\"#fdca26\"],[1.0,\"#f0f921\"]],\"diverging\":[[0,\"#8e0152\"],[0.1,\"#c51b7d\"],[0.2,\"#de77ae\"],[0.3,\"#f1b6da\"],[0.4,\"#fde0ef\"],[0.5,\"#f7f7f7\"],[0.6,\"#e6f5d0\"],[0.7,\"#b8e186\"],[0.8,\"#7fbc41\"],[0.9,\"#4d9221\"],[1,\"#276419\"]]},\"xaxis\":{\"gridcolor\":\"white\",\"linecolor\":\"white\",\"ticks\":\"\",\"title\":{\"standoff\":15},\"zerolinecolor\":\"white\",\"automargin\":true,\"zerolinewidth\":2},\"yaxis\":{\"gridcolor\":\"white\",\"linecolor\":\"white\",\"ticks\":\"\",\"title\":{\"standoff\":15},\"zerolinecolor\":\"white\",\"automargin\":true,\"zerolinewidth\":2},\"scene\":{\"xaxis\":{\"backgroundcolor\":\"#E5ECF6\",\"gridcolor\":\"white\",\"linecolor\":\"white\",\"showbackground\":true,\"ticks\":\"\",\"zerolinecolor\":\"white\",\"gridwidth\":2},\"yaxis\":{\"backgroundcolor\":\"#E5ECF6\",\"gridcolor\":\"white\",\"linecolor\":\"white\",\"showbackground\":true,\"ticks\":\"\",\"zerolinecolor\":\"white\",\"gridwidth\":2},\"zaxis\":{\"backgroundcolor\":\"#E5ECF6\",\"gridcolor\":\"white\",\"linecolor\":\"white\",\"showbackground\":true,\"ticks\":\"\",\"zerolinecolor\":\"white\",\"gridwidth\":2}},\"shapedefaults\":{\"line\":{\"color\":\"#2a3f5f\"}},\"annotationdefaults\":{\"arrowcolor\":\"#2a3f5f\",\"arrowhead\":0,\"arrowwidth\":1},\"geo\":{\"bgcolor\":\"white\",\"landcolor\":\"#E5ECF6\",\"subunitcolor\":\"white\",\"showland\":true,\"showlakes\":true,\"lakecolor\":\"white\"},\"title\":{\"x\":0.05},\"mapbox\":{\"style\":\"light\"}}},\"hoverlabel\":{\"align\":\"right\"},\"xaxis\":{\"title\":{\"text\":\"\\u30a2\\u30bf\\u30c3\\u30af\\u6c7a\\u5b9a\\u7387\"}},\"yaxis\":{\"title\":{\"text\":\"1\\u30bb\\u30c3\\u30c8\\u3042\\u305f\\u308a\\u306e\\u30d6\\u30ed\\u30c3\\u30af\\u6c7a\\u5b9a\\u672c\\u6570\"}},\"hovermode\":\"closest\",\"title\":{\"text\":\"\\u30b5\\u30f3\\u30c8\\u30ea\\u30fc\\u30b5\\u30f3\\u30d0\\u30fc\\u30ba\"},\"width\":1000,\"height\":800},                        {\"responsive\": true}                    ).then(function(){\n",
       "                            \n",
       "var gd = document.getElementById('1613c3ce-a73b-48f6-ac09-ae283b349f8f');\n",
       "var x = new MutationObserver(function (mutations, observer) {{\n",
       "        var display = window.getComputedStyle(gd).display;\n",
       "        if (!display || display === 'none') {{\n",
       "            console.log([gd, 'removed!']);\n",
       "            Plotly.purge(gd);\n",
       "            observer.disconnect();\n",
       "        }}\n",
       "}});\n",
       "\n",
       "// Listen for the removal of the full notebook cells\n",
       "var notebookContainer = gd.closest('#notebook-container');\n",
       "if (notebookContainer) {{\n",
       "    x.observe(notebookContainer, {childList: true});\n",
       "}}\n",
       "\n",
       "// Listen for the clearing of the current output cell\n",
       "var outputEl = gd.closest('.output');\n",
       "if (outputEl) {{\n",
       "    x.observe(outputEl, {childList: true});\n",
       "}}\n",
       "\n",
       "                        })                };                });            </script>        </div>"
      ]
     },
     "metadata": {},
     "output_type": "display_data"
    }
   ],
   "source": [
    "# fig = px.scatter(team_player_total,x='ASucc%',y='BP/S',color='Team',size='Set',color_discrete_map=dict_att_color[division])\n",
    "fig = go.Figure()\n",
    "fig.add_trace(\n",
    "    go.Scatter(\n",
    "#         x=team_player_total['ASucc%'],\n",
    "#         y=team_player_total['BP/S'],\n",
    "        x=team_player_total['アタック決定率'],\n",
    "        y=team_player_total['ブロックセット平均'],\n",
    "\n",
    "        mode='markers+text',\n",
    "        marker={\n",
    "#             'size': team_player_total['Set']*0.3,\n",
    "            'size': team_player_total['アタック打数']*0.1,\n",
    "            'symbol': 'circle',\n",
    "#             'color': dict_att_color[division]\n",
    "#             'color': team,\n",
    "        },\n",
    "        text=player,\n",
    "        textposition='top center',\n",
    "    )\n",
    ")\n",
    "fig.update_layout(\n",
    "    xaxis={'title': 'アタック決定率'},\n",
    "    yaxis={'title': '1セットあたりのブロック決定本数'},\n",
    "    hovermode='closest',\n",
    "    hoverlabel_align='right',\n",
    "    title='{}'.format(team),\n",
    "    width=1000,\n",
    "    height=800\n",
    ")\n",
    "fig.show()"
   ]
  },
  {
   "cell_type": "code",
   "execution_count": 21,
   "id": "46c777ea-c2eb-4d21-bb60-98062952992c",
   "metadata": {},
   "outputs": [
    {
     "data": {
      "text/html": [
       "<div>\n",
       "<style scoped>\n",
       "    .dataframe tbody tr th:only-of-type {\n",
       "        vertical-align: middle;\n",
       "    }\n",
       "\n",
       "    .dataframe tbody tr th {\n",
       "        vertical-align: top;\n",
       "    }\n",
       "\n",
       "    .dataframe thead th {\n",
       "        text-align: right;\n",
       "    }\n",
       "</style>\n",
       "<table border=\"1\" class=\"dataframe\">\n",
       "  <thead>\n",
       "    <tr style=\"text-align: right;\">\n",
       "      <th></th>\n",
       "      <th>AA</th>\n",
       "      <th>AP</th>\n",
       "      <th>AE</th>\n",
       "      <th>ASucc%</th>\n",
       "      <th>AP/S</th>\n",
       "      <th>BAA</th>\n",
       "      <th>BAP</th>\n",
       "      <th>BAE</th>\n",
       "      <th>BASucc%</th>\n",
       "      <th>BP</th>\n",
       "      <th>...</th>\n",
       "      <th>OpSVP</th>\n",
       "      <th>OpSVE</th>\n",
       "      <th>OpSVx</th>\n",
       "      <th>OpSVEff%</th>\n",
       "      <th>OpRA</th>\n",
       "      <th>OpRx</th>\n",
       "      <th>OpRg</th>\n",
       "      <th>OpRSucc%</th>\n",
       "      <th>Set</th>\n",
       "      <th>AEff%</th>\n",
       "    </tr>\n",
       "    <tr>\n",
       "      <th>Team</th>\n",
       "      <th></th>\n",
       "      <th></th>\n",
       "      <th></th>\n",
       "      <th></th>\n",
       "      <th></th>\n",
       "      <th></th>\n",
       "      <th></th>\n",
       "      <th></th>\n",
       "      <th></th>\n",
       "      <th></th>\n",
       "      <th></th>\n",
       "      <th></th>\n",
       "      <th></th>\n",
       "      <th></th>\n",
       "      <th></th>\n",
       "      <th></th>\n",
       "      <th></th>\n",
       "      <th></th>\n",
       "      <th></th>\n",
       "      <th></th>\n",
       "      <th></th>\n",
       "    </tr>\n",
       "  </thead>\n",
       "  <tbody>\n",
       "    <tr>\n",
       "      <th>アイシンティルマーレ</th>\n",
       "      <td>1439</td>\n",
       "      <td>670</td>\n",
       "      <td>93</td>\n",
       "      <td>46.6</td>\n",
       "      <td>14.57</td>\n",
       "      <td>317</td>\n",
       "      <td>151</td>\n",
       "      <td>34</td>\n",
       "      <td>47.6</td>\n",
       "      <td>101</td>\n",
       "      <td>...</td>\n",
       "      <td>27</td>\n",
       "      <td>130</td>\n",
       "      <td>168</td>\n",
       "      <td>48.1</td>\n",
       "      <td>920</td>\n",
       "      <td>431.0</td>\n",
       "      <td>213.0</td>\n",
       "      <td>758.7</td>\n",
       "      <td>46</td>\n",
       "      <td>40.1</td>\n",
       "    </tr>\n",
       "    <tr>\n",
       "      <th>トヨタモビリティ東京スパークル</th>\n",
       "      <td>1176</td>\n",
       "      <td>500</td>\n",
       "      <td>102</td>\n",
       "      <td>42.5</td>\n",
       "      <td>12.50</td>\n",
       "      <td>138</td>\n",
       "      <td>57</td>\n",
       "      <td>21</td>\n",
       "      <td>41.3</td>\n",
       "      <td>63</td>\n",
       "      <td>...</td>\n",
       "      <td>34</td>\n",
       "      <td>108</td>\n",
       "      <td>186</td>\n",
       "      <td>62.9</td>\n",
       "      <td>688</td>\n",
       "      <td>323.0</td>\n",
       "      <td>177.0</td>\n",
       "      <td>659.8</td>\n",
       "      <td>40</td>\n",
       "      <td>33.8</td>\n",
       "    </tr>\n",
       "    <tr>\n",
       "      <th>近畿クラブスフィーダ</th>\n",
       "      <td>1628</td>\n",
       "      <td>707</td>\n",
       "      <td>133</td>\n",
       "      <td>43.4</td>\n",
       "      <td>13.09</td>\n",
       "      <td>236</td>\n",
       "      <td>102</td>\n",
       "      <td>22</td>\n",
       "      <td>43.2</td>\n",
       "      <td>145</td>\n",
       "      <td>...</td>\n",
       "      <td>44</td>\n",
       "      <td>164</td>\n",
       "      <td>267</td>\n",
       "      <td>80.4</td>\n",
       "      <td>1082</td>\n",
       "      <td>607.0</td>\n",
       "      <td>225.0</td>\n",
       "      <td>928.4</td>\n",
       "      <td>54</td>\n",
       "      <td>35.3</td>\n",
       "    </tr>\n",
       "    <tr>\n",
       "      <th>長野GaRons</th>\n",
       "      <td>1619</td>\n",
       "      <td>721</td>\n",
       "      <td>139</td>\n",
       "      <td>44.5</td>\n",
       "      <td>13.35</td>\n",
       "      <td>307</td>\n",
       "      <td>129</td>\n",
       "      <td>47</td>\n",
       "      <td>42.0</td>\n",
       "      <td>123</td>\n",
       "      <td>...</td>\n",
       "      <td>49</td>\n",
       "      <td>170</td>\n",
       "      <td>308</td>\n",
       "      <td>97.2</td>\n",
       "      <td>1066</td>\n",
       "      <td>502.0</td>\n",
       "      <td>270.0</td>\n",
       "      <td>827.6</td>\n",
       "      <td>54</td>\n",
       "      <td>35.9</td>\n",
       "    </tr>\n",
       "  </tbody>\n",
       "</table>\n",
       "<p>4 rows × 53 columns</p>\n",
       "</div>"
      ],
      "text/plain": [
       "                   AA   AP   AE  ASucc%   AP/S  BAA  BAP  BAE  BASucc%   BP  \\\n",
       "Team                                                                          \n",
       "アイシンティルマーレ       1439  670   93    46.6  14.57  317  151   34     47.6  101   \n",
       "トヨタモビリティ東京スパークル  1176  500  102    42.5  12.50  138   57   21     41.3   63   \n",
       "近畿クラブスフィーダ       1628  707  133    43.4  13.09  236  102   22     43.2  145   \n",
       "長野GaRons         1619  721  139    44.5  13.35  307  129   47     42.0  123   \n",
       "\n",
       "                 ...  OpSVP  OpSVE  OpSVx  OpSVEff%  OpRA   OpRx   OpRg  \\\n",
       "Team             ...                                                      \n",
       "アイシンティルマーレ       ...     27    130    168      48.1   920  431.0  213.0   \n",
       "トヨタモビリティ東京スパークル  ...     34    108    186      62.9   688  323.0  177.0   \n",
       "近畿クラブスフィーダ       ...     44    164    267      80.4  1082  607.0  225.0   \n",
       "長野GaRons         ...     49    170    308      97.2  1066  502.0  270.0   \n",
       "\n",
       "                 OpRSucc%  Set  AEff%  \n",
       "Team                                   \n",
       "アイシンティルマーレ          758.7   46   40.1  \n",
       "トヨタモビリティ東京スパークル     659.8   40   33.8  \n",
       "近畿クラブスフィーダ          928.4   54   35.3  \n",
       "長野GaRons            827.6   54   35.9  \n",
       "\n",
       "[4 rows x 53 columns]"
      ]
     },
     "execution_count": 21,
     "metadata": {},
     "output_type": "execute_result"
    }
   ],
   "source": [
    "team_db_total = stats_calc(team_db_total)\n",
    "team_db_total"
   ]
  },
  {
   "cell_type": "code",
   "execution_count": 22,
   "id": "961055d6-4163-44ec-b331-fa0f3016e5a9",
   "metadata": {},
   "outputs": [
    {
     "data": {
      "text/html": [
       "<div>\n",
       "<style scoped>\n",
       "    .dataframe tbody tr th:only-of-type {\n",
       "        vertical-align: middle;\n",
       "    }\n",
       "\n",
       "    .dataframe tbody tr th {\n",
       "        vertical-align: top;\n",
       "    }\n",
       "\n",
       "    .dataframe thead th {\n",
       "        text-align: right;\n",
       "    }\n",
       "</style>\n",
       "<table border=\"1\" class=\"dataframe\">\n",
       "  <thead>\n",
       "    <tr style=\"text-align: right;\">\n",
       "      <th></th>\n",
       "      <th>ASucc%</th>\n",
       "      <th>BASucc%</th>\n",
       "      <th>BP/S</th>\n",
       "      <th>SVEff%</th>\n",
       "      <th>RSucc%</th>\n",
       "    </tr>\n",
       "    <tr>\n",
       "      <th>Team</th>\n",
       "      <th></th>\n",
       "      <th></th>\n",
       "      <th></th>\n",
       "      <th></th>\n",
       "      <th></th>\n",
       "    </tr>\n",
       "  </thead>\n",
       "  <tbody>\n",
       "    <tr>\n",
       "      <th>アイシンティルマーレ</th>\n",
       "      <td>46.6</td>\n",
       "      <td>47.6</td>\n",
       "      <td>2.20</td>\n",
       "      <td>6.5</td>\n",
       "      <td>64.3</td>\n",
       "    </tr>\n",
       "    <tr>\n",
       "      <th>トヨタモビリティ東京スパークル</th>\n",
       "      <td>42.5</td>\n",
       "      <td>41.3</td>\n",
       "      <td>1.58</td>\n",
       "      <td>4.7</td>\n",
       "      <td>64.2</td>\n",
       "    </tr>\n",
       "    <tr>\n",
       "      <th>近畿クラブスフィーダ</th>\n",
       "      <td>43.4</td>\n",
       "      <td>43.2</td>\n",
       "      <td>2.69</td>\n",
       "      <td>4.6</td>\n",
       "      <td>61.3</td>\n",
       "    </tr>\n",
       "    <tr>\n",
       "      <th>長野GaRons</th>\n",
       "      <td>44.5</td>\n",
       "      <td>42.0</td>\n",
       "      <td>2.28</td>\n",
       "      <td>6.2</td>\n",
       "      <td>56.9</td>\n",
       "    </tr>\n",
       "  </tbody>\n",
       "</table>\n",
       "</div>"
      ],
      "text/plain": [
       "                 ASucc%  BASucc%  BP/S  SVEff%  RSucc%\n",
       "Team                                                  \n",
       "アイシンティルマーレ         46.6     47.6  2.20     6.5    64.3\n",
       "トヨタモビリティ東京スパークル    42.5     41.3  1.58     4.7    64.2\n",
       "近畿クラブスフィーダ         43.4     43.2  2.69     4.6    61.3\n",
       "長野GaRons           44.5     42.0  2.28     6.2    56.9"
      ]
     },
     "execution_count": 22,
     "metadata": {},
     "output_type": "execute_result"
    }
   ],
   "source": [
    "team_db_main = team_db_total[['ASucc%', 'BASucc%', 'BP/S', 'SVEff%', 'RSucc%']]\n",
    "team_db_main"
   ]
  },
  {
   "cell_type": "code",
   "execution_count": 30,
   "id": "cff03cd1-4c52-40ec-9257-4e376a0f429a",
   "metadata": {},
   "outputs": [
    {
     "data": {
      "text/html": [
       "<div>\n",
       "<style scoped>\n",
       "    .dataframe tbody tr th:only-of-type {\n",
       "        vertical-align: middle;\n",
       "    }\n",
       "\n",
       "    .dataframe tbody tr th {\n",
       "        vertical-align: top;\n",
       "    }\n",
       "\n",
       "    .dataframe thead th {\n",
       "        text-align: right;\n",
       "    }\n",
       "</style>\n",
       "<table border=\"1\" class=\"dataframe\">\n",
       "  <thead>\n",
       "    <tr style=\"text-align: right;\">\n",
       "      <th></th>\n",
       "      <th>ASucc%</th>\n",
       "      <th>BASucc%</th>\n",
       "      <th>BP/S</th>\n",
       "      <th>SVEff%</th>\n",
       "      <th>RSucc%</th>\n",
       "    </tr>\n",
       "    <tr>\n",
       "      <th>Team</th>\n",
       "      <th></th>\n",
       "      <th></th>\n",
       "      <th></th>\n",
       "      <th></th>\n",
       "      <th></th>\n",
       "    </tr>\n",
       "  </thead>\n",
       "  <tbody>\n",
       "    <tr>\n",
       "      <th>アイシンティルマーレ</th>\n",
       "      <td>1.329715</td>\n",
       "      <td>1.441105</td>\n",
       "      <td>0.027271</td>\n",
       "      <td>1.010153</td>\n",
       "      <td>0.755598</td>\n",
       "    </tr>\n",
       "    <tr>\n",
       "      <th>近畿クラブスフィーダ</th>\n",
       "      <td>-0.480961</td>\n",
       "      <td>-0.114935</td>\n",
       "      <td>1.096306</td>\n",
       "      <td>-0.909137</td>\n",
       "      <td>-0.107943</td>\n",
       "    </tr>\n",
       "    <tr>\n",
       "      <th>長野GaRons</th>\n",
       "      <td>0.141459</td>\n",
       "      <td>-0.539309</td>\n",
       "      <td>0.201808</td>\n",
       "      <td>0.707107</td>\n",
       "      <td>-1.374468</td>\n",
       "    </tr>\n",
       "    <tr>\n",
       "      <th>トヨタモビリティ東京スパークル</th>\n",
       "      <td>-0.990214</td>\n",
       "      <td>-0.786861</td>\n",
       "      <td>-1.325384</td>\n",
       "      <td>-0.808122</td>\n",
       "      <td>0.726813</td>\n",
       "    </tr>\n",
       "  </tbody>\n",
       "</table>\n",
       "</div>"
      ],
      "text/plain": [
       "                   ASucc%   BASucc%      BP/S    SVEff%    RSucc%\n",
       "Team                                                             \n",
       "アイシンティルマーレ       1.329715  1.441105  0.027271  1.010153  0.755598\n",
       "近畿クラブスフィーダ      -0.480961 -0.114935  1.096306 -0.909137 -0.107943\n",
       "長野GaRons         0.141459 -0.539309  0.201808  0.707107 -1.374468\n",
       "トヨタモビリティ東京スパークル -0.990214 -0.786861 -1.325384 -0.808122  0.726813"
      ]
     },
     "execution_count": 30,
     "metadata": {},
     "output_type": "execute_result"
    }
   ],
   "source": [
    "index={\n",
    "    \"v1_m\": [\n",
    "        \"サントリーサンバーズ\",\"ウルフドッグス名古屋\",\"パナソニックパンサーズ\",\"東レアローズ\",\n",
    "        \"堺ブレイザーズ\",\"JTサンダーズ広島\",\"ジェイテクトSTINGS\",\"FC東京\",\n",
    "        \"大分三好ヴァイセアドラー\",\"VC長野トライデンツ\"\n",
    "    ],\n",
    "    \"v2_m\": [\n",
    "        \"ヴォレアス北海道\",\"富士通カワサキレッドスピリッツ\",\"ヴィアティン三重\", \n",
    "        \"埼玉アザレア\",\"サフィルヴァ北海道\",\"大同特殊鋼レッドスター\",\n",
    "        \"兵庫デルフィーノ\",\"きんでんトリニティーブリッツ\",\"つくばユナイテッドSunGAIA\",\n",
    "        \"トヨタ自動車サンホークス\",\"奈良ドリーマーズ\",\"警視庁フォートファイターズ\",\n",
    "        \"東京ヴェルディ\",\"クボタスピアーズ\",\"千葉ZELVA\"\n",
    "    ],\n",
    "    \"v3_m\": [\n",
    "        \"アイシンティルマーレ\",\"近畿クラブスフィーダ\",\"長野GaRons\",\"トヨタモビリティ東京スパークル\"\n",
    "    ],\n",
    "    \"v1_w\": [\n",
    "        \"JTマーヴェラス\",\"東レアローズ\",\"久光スプリングス\",\"NECレッドロケッツ\",\n",
    "        \"埼玉上尾メディックス\",\"デンソーエアリービーズ\",\"日立Astemoリヴァーレ\",\"PFUブルーキャッツ\",\n",
    "        \"岡山シーガルズ\",\"トヨタ車体クインシーズ\",\"ヴィクトリーナ姫路\",\"KUROBEアクアフェアリーズ\"\n",
    "    ],\n",
    "    \"v2_w\": [\n",
    "        \"群馬銀行グリーンウィングス\",\"ルートインホテルズブリリアントアリーズ\",\"プレステージ・インターナショナルアランマーレ\",\n",
    "        \"GSS東京サンビームズ\",\"千葉エンゼルクロス\",\"リガーレ仙台\",\"ブレス浜松\",\n",
    "        \"大野石油広島オイラーズ\",\"JAぎふリオレーナ\",\"フォレストリーブズ熊本\"\n",
    "    ]\n",
    "}\n",
    "team_db_main_std = team_db_main.apply(lambda x: (x-x.mean())/x.std()).reindex(index=index[division])\n",
    "team_db_main_std"
   ]
  },
  {
   "cell_type": "code",
   "execution_count": 60,
   "id": "d0c386a6-e49d-4008-9988-99684bfb3dc8",
   "metadata": {},
   "outputs": [
    {
     "ename": "NameError",
     "evalue": "name 'team_db_main_std' is not defined",
     "output_type": "error",
     "traceback": [
      "\u001b[1;31m---------------------------------------------------------------------------\u001b[0m",
      "\u001b[1;31mNameError\u001b[0m                                 Traceback (most recent call last)",
      "\u001b[1;32m<ipython-input-60-c6734e3a4cdf>\u001b[0m in \u001b[0;36m<module>\u001b[1;34m\u001b[0m\n\u001b[0;32m      1\u001b[0m \u001b[0mplt\u001b[0m\u001b[1;33m.\u001b[0m\u001b[0mfigure\u001b[0m\u001b[1;33m(\u001b[0m\u001b[0mfigsize\u001b[0m\u001b[1;33m=\u001b[0m\u001b[1;33m(\u001b[0m\u001b[1;36m8\u001b[0m\u001b[1;33m,\u001b[0m\u001b[1;36m6\u001b[0m\u001b[1;33m)\u001b[0m\u001b[1;33m)\u001b[0m\u001b[1;33m\u001b[0m\u001b[1;33m\u001b[0m\u001b[0m\n\u001b[0;32m      2\u001b[0m \u001b[1;31m# sns.set(font_scale=2)\u001b[0m\u001b[1;33m\u001b[0m\u001b[1;33m\u001b[0m\u001b[1;33m\u001b[0m\u001b[0m\n\u001b[1;32m----> 3\u001b[1;33m \u001b[0msns\u001b[0m\u001b[1;33m.\u001b[0m\u001b[0mheatmap\u001b[0m\u001b[1;33m(\u001b[0m\u001b[0mteam_db_main_std\u001b[0m\u001b[1;33m,\u001b[0m \u001b[0mannot\u001b[0m\u001b[1;33m=\u001b[0m\u001b[1;32mTrue\u001b[0m\u001b[1;33m,\u001b[0m \u001b[0mcmap\u001b[0m\u001b[1;33m=\u001b[0m\u001b[1;34m'bwr'\u001b[0m\u001b[1;33m,\u001b[0m\u001b[0mvmax\u001b[0m\u001b[1;33m=\u001b[0m\u001b[1;36m2\u001b[0m\u001b[1;33m,\u001b[0m \u001b[0mvmin\u001b[0m\u001b[1;33m=\u001b[0m\u001b[1;33m-\u001b[0m\u001b[1;36m2\u001b[0m\u001b[1;33m)\u001b[0m\u001b[1;33m\u001b[0m\u001b[1;33m\u001b[0m\u001b[0m\n\u001b[0m\u001b[0;32m      4\u001b[0m \u001b[0mplt\u001b[0m\u001b[1;33m.\u001b[0m\u001b[0msavefig\u001b[0m\u001b[1;33m(\u001b[0m\u001b[1;34m'test.png'\u001b[0m\u001b[1;33m,\u001b[0m \u001b[0mfacecolor\u001b[0m\u001b[1;33m=\u001b[0m\u001b[1;34m'white'\u001b[0m\u001b[1;33m,\u001b[0m\u001b[0mbbox_inches\u001b[0m\u001b[1;33m=\u001b[0m\u001b[1;34m\"tight\"\u001b[0m\u001b[1;33m)\u001b[0m\u001b[1;33m\u001b[0m\u001b[1;33m\u001b[0m\u001b[0m\n\u001b[0;32m      5\u001b[0m \u001b[0mplt\u001b[0m\u001b[1;33m.\u001b[0m\u001b[0mshow\u001b[0m\u001b[1;33m(\u001b[0m\u001b[1;33m)\u001b[0m\u001b[1;33m\u001b[0m\u001b[1;33m\u001b[0m\u001b[0m\n",
      "\u001b[1;31mNameError\u001b[0m: name 'team_db_main_std' is not defined"
     ]
    },
    {
     "data": {
      "text/plain": [
       "<Figure size 576x432 with 0 Axes>"
      ]
     },
     "metadata": {},
     "output_type": "display_data"
    }
   ],
   "source": [
    "plt.figure(figsize=(8,6))\n",
    "# sns.set(font_scale=2)\n",
    "sns.heatmap(team_db_main_std, annot=True, cmap='bwr',vmax=2, vmin=-2)\n",
    "plt.savefig('test.png', facecolor='white',bbox_inches=\"tight\")\n",
    "plt.show()"
   ]
  },
  {
   "cell_type": "code",
   "execution_count": null,
   "id": "8ebf3ee4-dadd-4705-9794-b9d19b07a576",
   "metadata": {},
   "outputs": [],
   "source": []
  }
 ],
 "metadata": {
  "kernelspec": {
   "display_name": "Python 3",
   "language": "python",
   "name": "python3"
  },
  "language_info": {
   "codemirror_mode": {
    "name": "ipython",
    "version": 3
   },
   "file_extension": ".py",
   "mimetype": "text/x-python",
   "name": "python",
   "nbconvert_exporter": "python",
   "pygments_lexer": "ipython3",
   "version": "3.8.8"
  }
 },
 "nbformat": 4,
 "nbformat_minor": 5
}
